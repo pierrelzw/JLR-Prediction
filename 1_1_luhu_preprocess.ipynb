{
 "cells": [
  {
   "cell_type": "code",
   "execution_count": 1,
   "metadata": {},
   "outputs": [
    {
     "data": {
      "text/html": [
       "<script>requirejs.config({paths: { 'plotly': ['https://cdn.plot.ly/plotly-latest.min']},});if(!window.Plotly) {{require(['plotly'],function(plotly) {window.Plotly=plotly;});}}</script>"
      ],
      "text/vnd.plotly.v1+html": [
       "<script>requirejs.config({paths: { 'plotly': ['https://cdn.plot.ly/plotly-latest.min']},});if(!window.Plotly) {{require(['plotly'],function(plotly) {window.Plotly=plotly;});}}</script>"
      ]
     },
     "metadata": {},
     "output_type": "display_data"
    }
   ],
   "source": [
    "import os\n",
    "import pandas as pd\n",
    "import numpy as np\n",
    "from matplotlib import pyplot as plt\n",
    "\n",
    "from utils import clean_df\n",
    "import utils\n",
    "import config as cfg"
   ]
  },
  {
   "cell_type": "markdown",
   "metadata": {},
   "source": [
    "## Read in Data"
   ]
  },
  {
   "cell_type": "code",
   "execution_count": 2,
   "metadata": {},
   "outputs": [
    {
     "name": "stdout",
     "output_type": "stream",
     "text": [
      "['jiebao_all_user_processed.csv', '口碑 路虎 总.xlsx', 'luhu_comments.xlsx', '路虎口碑所有用户.xlsx', '.DS_Store', '路虎口碑用户.xlsx', '路虎车商城.xlsx', 'luhu_koubei_user.xlsx', '路虎口碑用户-1.xlsx', '捷豹车商城.xlsx', '路虎口碑评论人.xlsx', '~$捷豹口碑用户.xlsx', '捷豹口碑用户.xlsx', '路虎帖子评论人.xlsx', 'luhu_comment_user.xlsx', '口碑 捷豹 评论.xlsx', 'jiebao_user_koubei.xlsx', 'luhu_all_user_0.xlsx', '.ipynb_checkpoints', '路虎口碑评论人-1.xlsx', 'jiebao_all_user_0.xlsx', 'jiebao_all_user_processed.xlsx', '捷豹口碑评论人.xlsx', '口碑 路虎 评论.xlsx', '~$路虎口碑所有用户.xlsx', '口碑 捷豹 总 252.xlsx', 'luhu_all_user_1.xlsx']\n"
     ]
    }
   ],
   "source": [
    "# list all data files\n",
    "print(os.listdir(\"data/\"))"
   ]
  },
  {
   "cell_type": "code",
   "execution_count": 3,
   "metadata": {},
   "outputs": [],
   "source": [
    "# customer parser\n",
    "def json_parser(data):\n",
    "    import json\n",
    "    j1 = json.loads(data)\n",
    "    return j1"
   ]
  },
  {
   "cell_type": "markdown",
   "metadata": {},
   "source": [
    "## 路虎口碑发帖人"
   ]
  },
  {
   "cell_type": "code",
   "execution_count": 4,
   "metadata": {},
   "outputs": [
    {
     "name": "stdout",
     "output_type": "stream",
     "text": [
      "(495, 614)\n"
     ]
    },
    {
     "data": {
      "text/html": [
       "<div>\n",
       "<style scoped>\n",
       "    .dataframe tbody tr th:only-of-type {\n",
       "        vertical-align: middle;\n",
       "    }\n",
       "\n",
       "    .dataframe tbody tr th {\n",
       "        vertical-align: top;\n",
       "    }\n",
       "\n",
       "    .dataframe thead th {\n",
       "        text-align: right;\n",
       "    }\n",
       "</style>\n",
       "<table border=\"1\" class=\"dataframe\">\n",
       "  <thead>\n",
       "    <tr style=\"text-align: right;\">\n",
       "      <th></th>\n",
       "      <th>用户名</th>\n",
       "      <th>关注</th>\n",
       "      <th>粉丝</th>\n",
       "      <th>性别</th>\n",
       "      <th>生日</th>\n",
       "      <th>所在地</th>\n",
       "      <th>等级</th>\n",
       "      <th>帖子数</th>\n",
       "      <th>关注的车or爱车</th>\n",
       "      <th>注册时间</th>\n",
       "      <th>...</th>\n",
       "      <th>Unnamed: 604</th>\n",
       "      <th>Unnamed: 605</th>\n",
       "      <th>Unnamed: 606</th>\n",
       "      <th>Unnamed: 607</th>\n",
       "      <th>Unnamed: 608</th>\n",
       "      <th>Unnamed: 609</th>\n",
       "      <th>Unnamed: 610</th>\n",
       "      <th>Unnamed: 611</th>\n",
       "      <th>Unnamed: 612</th>\n",
       "      <th>Unnamed: 613</th>\n",
       "    </tr>\n",
       "  </thead>\n",
       "  <tbody>\n",
       "    <tr>\n",
       "      <th>0</th>\n",
       "      <td>yryihgddsg</td>\n",
       "      <td>0</td>\n",
       "      <td>1</td>\n",
       "      <td>man</td>\n",
       "      <td>NaN</td>\n",
       "      <td>浙江 杭州</td>\n",
       "      <td>1</td>\n",
       "      <td>0篇精华帖/0篇帖子</td>\n",
       "      <td>关注的车：驭胜S330</td>\n",
       "      <td>2017-11-08 00:00:00</td>\n",
       "      <td>...</td>\n",
       "      <td>NaN</td>\n",
       "      <td>NaN</td>\n",
       "      <td>NaN</td>\n",
       "      <td>NaN</td>\n",
       "      <td>NaN</td>\n",
       "      <td>NaN</td>\n",
       "      <td>NaN</td>\n",
       "      <td>NaN</td>\n",
       "      <td>NaN</td>\n",
       "      <td>NaN</td>\n",
       "    </tr>\n",
       "    <tr>\n",
       "      <th>1</th>\n",
       "      <td>淡淡可</td>\n",
       "      <td>2</td>\n",
       "      <td>1</td>\n",
       "      <td>man</td>\n",
       "      <td>NaN</td>\n",
       "      <td>山东 济宁</td>\n",
       "      <td>1</td>\n",
       "      <td>0篇精华帖/0篇帖子</td>\n",
       "      <td>关注的车：博越</td>\n",
       "      <td>2017-11-10 00:00:00</td>\n",
       "      <td>...</td>\n",
       "      <td>NaN</td>\n",
       "      <td>NaN</td>\n",
       "      <td>NaN</td>\n",
       "      <td>NaN</td>\n",
       "      <td>NaN</td>\n",
       "      <td>NaN</td>\n",
       "      <td>NaN</td>\n",
       "      <td>NaN</td>\n",
       "      <td>NaN</td>\n",
       "      <td>NaN</td>\n",
       "    </tr>\n",
       "  </tbody>\n",
       "</table>\n",
       "<p>2 rows × 614 columns</p>\n",
       "</div>"
      ],
      "text/plain": [
       "          用户名 关注 粉丝   性别   生日    所在地 等级         帖子数     关注的车or爱车  \\\n",
       "0  yryihgddsg  0  1  man  NaN  浙江 杭州  1  0篇精华帖/0篇帖子  关注的车：驭胜S330   \n",
       "1         淡淡可  2  1  man  NaN  山东 济宁  1  0篇精华帖/0篇帖子      关注的车：博越   \n",
       "\n",
       "                  注册时间     ...      Unnamed: 604 Unnamed: 605 Unnamed: 606  \\\n",
       "0  2017-11-08 00:00:00     ...               NaN          NaN          NaN   \n",
       "1  2017-11-10 00:00:00     ...               NaN          NaN          NaN   \n",
       "\n",
       "  Unnamed: 607 Unnamed: 608 Unnamed: 609 Unnamed: 610 Unnamed: 611  \\\n",
       "0          NaN          NaN          NaN          NaN          NaN   \n",
       "1          NaN          NaN          NaN          NaN          NaN   \n",
       "\n",
       "  Unnamed: 612 Unnamed: 613  \n",
       "0          NaN          NaN  \n",
       "1          NaN          NaN  \n",
       "\n",
       "[2 rows x 614 columns]"
      ]
     },
     "execution_count": 4,
     "metadata": {},
     "output_type": "execute_result"
    }
   ],
   "source": [
    "# read user table to dataframe\n",
    "\n",
    "table_path = \"data/路虎口碑用户.xlsx\"\n",
    "user_koubei_luhu = pd.read_excel(table_path)\n",
    "\n",
    "col_names = user_koubei_luhu.keys()\n",
    "\n",
    "# print(user_koubei_luhu.dtypes)\n",
    "print(user_koubei_luhu.shape)\n",
    "user_koubei_luhu.head(2)"
   ]
  },
  {
   "cell_type": "code",
   "execution_count": 5,
   "metadata": {},
   "outputs": [
    {
     "name": "stdout",
     "output_type": "stream",
     "text": [
      "Index(['用户名', '关注', '粉丝', '性别', '生日', '所在地', '等级', '帖子数', '关注的车or爱车', '注册时间',\n",
      "       '身份', '里程值', '帖子', '他的车库', '他的口碑', '他的油耗', '他的车友会', 'Unnamed: 17',\n",
      "       'Unnamed: 18', 'Unnamed: 19'],\n",
      "      dtype='object')\n",
      "Index(['Unnamed: 20', 'Unnamed: 21', 'Unnamed: 22', 'Unnamed: 23',\n",
      "       'Unnamed: 24', 'Unnamed: 25', 'Unnamed: 26', 'Unnamed: 27',\n",
      "       'Unnamed: 28', 'Unnamed: 29', 'Unnamed: 30', 'Unnamed: 31',\n",
      "       'Unnamed: 32', 'Unnamed: 33', 'Unnamed: 34', 'Unnamed: 35',\n",
      "       'Unnamed: 36', 'Unnamed: 37', 'Unnamed: 38', 'Unnamed: 39'],\n",
      "      dtype='object')\n"
     ]
    }
   ],
   "source": [
    "#### -> column number larger than the real one(17)\n",
    "\n",
    "# column names\n",
    "print(col_names[:20])\n",
    "print(col_names[20:40])"
   ]
  },
  {
   "cell_type": "markdown",
   "metadata": {},
   "source": [
    "### clean data"
   ]
  },
  {
   "cell_type": "code",
   "execution_count": 6,
   "metadata": {},
   "outputs": [
    {
     "name": "stdout",
     "output_type": "stream",
     "text": [
      "(495, 614)\n",
      "(491, 614)\n",
      "Original shape:  (491, 614)\n",
      "After removing duplication:  (478, 614)\n",
      "After removing empty rows:  (477, 614)\n",
      "After removing empty cols:  (477, 17)\n"
     ]
    }
   ],
   "source": [
    "# => find rows which have more columns than is should have\n",
    "# df[df['A'].isnull()].index.tolist()\n",
    "indexs_notnull_col17 = user_koubei_luhu[user_koubei_luhu['Unnamed: 17'].notnull()].index.tolist()\n",
    "indexs_notnull_col17\n",
    "\n",
    "# remove wrong rows\n",
    "print(user_koubei_luhu.shape)\n",
    "user_koubei_luhu = user_koubei_luhu.copy()\n",
    "\n",
    "user_koubei_luhu.drop(indexs_notnull_col17,inplace=True)\n",
    "print(user_koubei_luhu.shape)\n",
    "\n",
    "utils.clean_df(user_koubei_luhu)"
   ]
  },
  {
   "cell_type": "code",
   "execution_count": 7,
   "metadata": {},
   "outputs": [
    {
     "name": "stdout",
     "output_type": "stream",
     "text": [
      "\n",
      "\n",
      "Column MissingCount\n"
     ]
    },
    {
     "data": {
      "text/plain": [
       "用户名           0\n",
       "关注            0\n",
       "粉丝            0\n",
       "性别            0\n",
       "生日          341\n",
       "所在地           0\n",
       "等级            0\n",
       "帖子数           0\n",
       "关注的车or爱车      0\n",
       "注册时间          0\n",
       "身份            0\n",
       "里程值           0\n",
       "帖子          130\n",
       "他的车库        189\n",
       "他的口碑          4\n",
       "他的油耗        423\n",
       "他的车友会       411\n",
       "label         0\n",
       "dtype: int64"
      ]
     },
     "execution_count": 7,
     "metadata": {},
     "output_type": "execute_result"
    }
   ],
   "source": [
    "# label by 1 the data of user in luhu_koubei\n",
    "user_koubei_luhu['label']=1\n",
    "\n",
    "# save new  table\n",
    "user_koubei_luhu.to_excel('data/luhu_koubei_user.xlsx')\n",
    "\n",
    "# count missing value\n",
    "print(\"\\n\\nColumn\",\"MissingCount\")\n",
    "user_koubei_luhu.isnull().sum()"
   ]
  },
  {
   "cell_type": "markdown",
   "metadata": {},
   "source": [
    "## 路虎口碑评论人"
   ]
  },
  {
   "cell_type": "code",
   "execution_count": 8,
   "metadata": {},
   "outputs": [
    {
     "name": "stdout",
     "output_type": "stream",
     "text": [
      "用户名                 object\n",
      "关注                   int64\n",
      "粉丝                   int64\n",
      "性别                  object\n",
      "生日          datetime64[ns]\n",
      "所在地                 object\n",
      "等级                   int64\n",
      "帖子数                 object\n",
      "关注的车or爱车            object\n",
      "注册时间        datetime64[ns]\n",
      "身份                  object\n",
      "里程值                  int64\n",
      "帖子                  object\n",
      "他的车库                object\n",
      "他的口碑                object\n",
      "他的油耗                object\n",
      "他的车友会               object\n",
      "dtype: object\n",
      "(2827, 17)\n"
     ]
    },
    {
     "data": {
      "text/html": [
       "<div>\n",
       "<style scoped>\n",
       "    .dataframe tbody tr th:only-of-type {\n",
       "        vertical-align: middle;\n",
       "    }\n",
       "\n",
       "    .dataframe tbody tr th {\n",
       "        vertical-align: top;\n",
       "    }\n",
       "\n",
       "    .dataframe thead th {\n",
       "        text-align: right;\n",
       "    }\n",
       "</style>\n",
       "<table border=\"1\" class=\"dataframe\">\n",
       "  <thead>\n",
       "    <tr style=\"text-align: right;\">\n",
       "      <th></th>\n",
       "      <th>用户名</th>\n",
       "      <th>关注</th>\n",
       "      <th>粉丝</th>\n",
       "      <th>性别</th>\n",
       "      <th>生日</th>\n",
       "      <th>所在地</th>\n",
       "      <th>等级</th>\n",
       "      <th>帖子数</th>\n",
       "      <th>关注的车or爱车</th>\n",
       "      <th>注册时间</th>\n",
       "      <th>身份</th>\n",
       "      <th>里程值</th>\n",
       "      <th>帖子</th>\n",
       "      <th>他的车库</th>\n",
       "      <th>他的口碑</th>\n",
       "      <th>他的油耗</th>\n",
       "      <th>他的车友会</th>\n",
       "    </tr>\n",
       "  </thead>\n",
       "  <tbody>\n",
       "    <tr>\n",
       "      <th>0</th>\n",
       "      <td>屿鹿几立</td>\n",
       "      <td>2</td>\n",
       "      <td>1</td>\n",
       "      <td>man</td>\n",
       "      <td>NaT</td>\n",
       "      <td>福建 龙岩</td>\n",
       "      <td>1</td>\n",
       "      <td>0篇精华帖/1篇帖子</td>\n",
       "      <td>关注的车：领克01</td>\n",
       "      <td>2018-03-30</td>\n",
       "      <td>普通用户</td>\n",
       "      <td>900</td>\n",
       "      <td>[{'标题': '15年揽胜极光', 'url': '//club.autohome.com...</td>\n",
       "      <td>[]</td>\n",
       "      <td>[]</td>\n",
       "      <td>[]</td>\n",
       "      <td>[]</td>\n",
       "    </tr>\n",
       "    <tr>\n",
       "      <th>1</th>\n",
       "      <td>我是小磊呀</td>\n",
       "      <td>4</td>\n",
       "      <td>3</td>\n",
       "      <td>man</td>\n",
       "      <td>NaT</td>\n",
       "      <td>江苏 苏州</td>\n",
       "      <td>1</td>\n",
       "      <td>0篇精华帖/2篇帖子</td>\n",
       "      <td>关注的车：骐达</td>\n",
       "      <td>2016-07-19</td>\n",
       "      <td>普通用户</td>\n",
       "      <td>820</td>\n",
       "      <td>[{'标题': '求江苏这边1.8豪华cc落地价？？？', 'url': '//club.a...</td>\n",
       "      <td>[]</td>\n",
       "      <td>[]</td>\n",
       "      <td>[]</td>\n",
       "      <td>[]</td>\n",
       "    </tr>\n",
       "  </tbody>\n",
       "</table>\n",
       "</div>"
      ],
      "text/plain": [
       "     用户名  关注  粉丝   性别  生日    所在地  等级         帖子数   关注的车or爱车       注册时间    身份  \\\n",
       "0   屿鹿几立   2   1  man NaT  福建 龙岩   1  0篇精华帖/1篇帖子  关注的车：领克01 2018-03-30  普通用户   \n",
       "1  我是小磊呀   4   3  man NaT  江苏 苏州   1  0篇精华帖/2篇帖子    关注的车：骐达 2016-07-19  普通用户   \n",
       "\n",
       "   里程值                                                 帖子 他的车库 他的口碑 他的油耗 他的车友会  \n",
       "0  900  [{'标题': '15年揽胜极光', 'url': '//club.autohome.com...   []   []   []    []  \n",
       "1  820  [{'标题': '求江苏这边1.8豪华cc落地价？？？', 'url': '//club.a...   []   []   []    []  "
      ]
     },
     "execution_count": 8,
     "metadata": {},
     "output_type": "execute_result"
    }
   ],
   "source": [
    "# read user table to dataframe\n",
    "table_path = \"data/路虎口碑评论人.xlsx\"\n",
    "visitor_koubei_luhu = pd.read_excel(table_path)\n",
    "\n",
    "print(visitor_koubei_luhu.dtypes)\n",
    "print(visitor_koubei_luhu.shape)\n",
    "\n",
    "visitor_koubei_luhu.head(2)"
   ]
  },
  {
   "cell_type": "markdown",
   "metadata": {},
   "source": [
    "#### cleaning data"
   ]
  },
  {
   "cell_type": "code",
   "execution_count": 9,
   "metadata": {},
   "outputs": [
    {
     "name": "stdout",
     "output_type": "stream",
     "text": [
      "Original shape:  (2827, 17)\n",
      "After removing duplication:  (2097, 17)\n",
      "After removing empty rows:  (2097, 17)\n",
      "After removing empty cols:  (2097, 17)\n"
     ]
    }
   ],
   "source": [
    "clean_df(visitor_koubei_luhu)"
   ]
  },
  {
   "cell_type": "markdown",
   "metadata": {},
   "source": [
    "#### add label and save the data to excel"
   ]
  },
  {
   "cell_type": "code",
   "execution_count": 10,
   "metadata": {},
   "outputs": [
    {
     "name": "stdout",
     "output_type": "stream",
     "text": [
      "(2097, 18)\n",
      "\n",
      "\n",
      "Column MissingCount\n"
     ]
    },
    {
     "data": {
      "text/plain": [
       "用户名            0\n",
       "关注             0\n",
       "粉丝             0\n",
       "性别             0\n",
       "生日          1826\n",
       "所在地            0\n",
       "等级             0\n",
       "帖子数            0\n",
       "关注的车or爱车       0\n",
       "注册时间           0\n",
       "身份             0\n",
       "里程值            0\n",
       "帖子          1597\n",
       "他的车库        1473\n",
       "他的口碑        1678\n",
       "他的油耗        1971\n",
       "他的车友会       1787\n",
       "label          0\n",
       "dtype: int64"
      ]
     },
     "execution_count": 10,
     "metadata": {},
     "output_type": "execute_result"
    }
   ],
   "source": [
    "# label by 0 the data of user in comment party\n",
    "visitor_koubei_luhu['label'] = 0\n",
    "\n",
    "# saving data\n",
    "visitor_koubei_luhu.to_excel(\"data/luhu_comment_user.xlsx\")\n",
    "\n",
    "print(visitor_koubei_luhu.shape)\n",
    "# count missing value\n",
    "print(\"\\n\\nColumn\",\"MissingCount\")\n",
    "visitor_koubei_luhu.isnull().sum()"
   ]
  },
  {
   "cell_type": "markdown",
   "metadata": {},
   "source": [
    "### Merge two table"
   ]
  },
  {
   "cell_type": "code",
   "execution_count": 11,
   "metadata": {},
   "outputs": [
    {
     "name": "stdout",
     "output_type": "stream",
     "text": [
      "user_koubei_luhu.shape:  (477, 18)\n",
      "visitor_koubei_luhu.shape:  (2097, 18)\n"
     ]
    },
    {
     "data": {
      "text/plain": [
       "(2574, 18)"
      ]
     },
     "execution_count": 11,
     "metadata": {},
     "output_type": "execute_result"
    }
   ],
   "source": [
    "print(\"user_koubei_luhu.shape: \", user_koubei_luhu.shape)\n",
    "print(\"visitor_koubei_luhu.shape: \",visitor_koubei_luhu.shape)\n",
    "# merge dataframe\n",
    "merge_df = user_koubei_luhu.append(visitor_koubei_luhu)\n",
    "merge_df.shape"
   ]
  },
  {
   "cell_type": "code",
   "execution_count": 12,
   "metadata": {},
   "outputs": [
    {
     "data": {
      "text/plain": [
       "(2574, 18)"
      ]
     },
     "execution_count": 12,
     "metadata": {},
     "output_type": "execute_result"
    }
   ],
   "source": [
    "# delete duplicate rows\n",
    "merge_df = merge_df.drop_duplicates()\n",
    "merge_df.shape"
   ]
  },
  {
   "cell_type": "code",
   "execution_count": 13,
   "metadata": {},
   "outputs": [
    {
     "data": {
      "text/plain": [
       "用户名            0\n",
       "关注             0\n",
       "粉丝             0\n",
       "性别             0\n",
       "生日          2167\n",
       "所在地            0\n",
       "等级             0\n",
       "帖子数            0\n",
       "关注的车or爱车       0\n",
       "注册时间           0\n",
       "身份             0\n",
       "里程值            0\n",
       "帖子          1727\n",
       "他的车库        1662\n",
       "他的口碑        1682\n",
       "他的油耗        2394\n",
       "他的车友会       2198\n",
       "label          0\n",
       "dtype: int64"
      ]
     },
     "execution_count": 13,
     "metadata": {},
     "output_type": "execute_result"
    }
   ],
   "source": [
    "# reset index\n",
    "merge_df_1 = merge_df.reset_index(drop=True)\n",
    "cols = merge_df_1.keys()\n",
    "merge_df_1.isnull().sum()"
   ]
  },
  {
   "cell_type": "code",
   "execution_count": 14,
   "metadata": {},
   "outputs": [
    {
     "name": "stdout",
     "output_type": "stream",
     "text": [
      "18\n"
     ]
    },
    {
     "data": {
      "text/plain": [
       "['user_id',\n",
       " 'follow_count',\n",
       " 'fans_count',\n",
       " 'gender',\n",
       " 'birthday',\n",
       " 'location',\n",
       " 'level',\n",
       " 'post_count',\n",
       " 'car_liked',\n",
       " 'registration_time',\n",
       " 'properties',\n",
       " 'mileage',\n",
       " 'post',\n",
       " 'cars',\n",
       " 'koubei_post',\n",
       " 'gas_mileage',\n",
       " 'car_friend_zone',\n",
       " 'label']"
      ]
     },
     "execution_count": 14,
     "metadata": {},
     "output_type": "execute_result"
    }
   ],
   "source": [
    "new_columns = cfg._C.user_COLUMNS\n",
    "print(len(new_columns))\n",
    "new_columns"
   ]
  },
  {
   "cell_type": "code",
   "execution_count": 15,
   "metadata": {},
   "outputs": [],
   "source": [
    "# save  table \n",
    "merge_df_1.columns = new_columns\n",
    "merge_df_1.to_excel(\"data/luhu_all_user_0.xlsx\",encoding='utf-8')"
   ]
  },
  {
   "cell_type": "markdown",
   "metadata": {},
   "source": [
    "### feature extraction"
   ]
  },
  {
   "cell_type": "markdown",
   "metadata": {},
   "source": [
    "### “关注的车”"
   ]
  },
  {
   "cell_type": "code",
   "execution_count": 17,
   "metadata": {},
   "outputs": [
    {
     "data": {
      "text/plain": [
       "0    驭胜S330\n",
       "1        博越\n",
       "2       奥德赛\n",
       "3    驭胜S330\n",
       "4      揽胜极光\n",
       "Name: car_like, dtype: object"
      ]
     },
     "execution_count": 17,
     "metadata": {},
     "output_type": "execute_result"
    }
   ],
   "source": [
    "merge_df = pd.read_excel(\"data/luhu_all_user_0.xlsx\")\n",
    "# create new column post_count, excellent_post_count\n",
    "# define extraction function\n",
    "\n",
    "from utils import extract_car_info\n",
    "merge_df[\"car_like\"] = merge_df.apply(lambda row:extract_car_info(row),axis=1)\n",
    "merge_df.drop(columns='car_liked', inplace=True)\n",
    "merge_df[\"car_like\"][:5]"
   ]
  },
  {
   "cell_type": "code",
   "execution_count": 18,
   "metadata": {},
   "outputs": [
    {
     "name": "stdout",
     "output_type": "stream",
     "text": [
      "(2574, 18)\n"
     ]
    },
    {
     "data": {
      "text/html": [
       "<div>\n",
       "<style scoped>\n",
       "    .dataframe tbody tr th:only-of-type {\n",
       "        vertical-align: middle;\n",
       "    }\n",
       "\n",
       "    .dataframe tbody tr th {\n",
       "        vertical-align: top;\n",
       "    }\n",
       "\n",
       "    .dataframe thead th {\n",
       "        text-align: right;\n",
       "    }\n",
       "</style>\n",
       "<table border=\"1\" class=\"dataframe\">\n",
       "  <thead>\n",
       "    <tr style=\"text-align: right;\">\n",
       "      <th></th>\n",
       "      <th>user_id</th>\n",
       "      <th>follow_count</th>\n",
       "      <th>fans_count</th>\n",
       "      <th>gender</th>\n",
       "      <th>birthday</th>\n",
       "      <th>location</th>\n",
       "      <th>level</th>\n",
       "      <th>post_count</th>\n",
       "      <th>registration_time</th>\n",
       "      <th>properties</th>\n",
       "      <th>mileage</th>\n",
       "      <th>post</th>\n",
       "      <th>cars</th>\n",
       "      <th>koubei_post</th>\n",
       "      <th>gas_mileage</th>\n",
       "      <th>car_friend_zone</th>\n",
       "      <th>label</th>\n",
       "      <th>car_like</th>\n",
       "    </tr>\n",
       "  </thead>\n",
       "  <tbody>\n",
       "    <tr>\n",
       "      <th>0</th>\n",
       "      <td>yryihgddsg</td>\n",
       "      <td>0</td>\n",
       "      <td>1</td>\n",
       "      <td>man</td>\n",
       "      <td>NaT</td>\n",
       "      <td>浙江 杭州</td>\n",
       "      <td>1</td>\n",
       "      <td>0篇精华帖/0篇帖子</td>\n",
       "      <td>2017-11-08</td>\n",
       "      <td>普通用户</td>\n",
       "      <td>1870</td>\n",
       "      <td>NaN</td>\n",
       "      <td>NaN</td>\n",
       "      <td>[{'title': '2018款极光骚红色', 'url': '//k.autohome....</td>\n",
       "      <td>NaN</td>\n",
       "      <td>NaN</td>\n",
       "      <td>1</td>\n",
       "      <td>驭胜S330</td>\n",
       "    </tr>\n",
       "    <tr>\n",
       "      <th>1</th>\n",
       "      <td>淡淡可</td>\n",
       "      <td>2</td>\n",
       "      <td>1</td>\n",
       "      <td>man</td>\n",
       "      <td>NaT</td>\n",
       "      <td>山东 济宁</td>\n",
       "      <td>1</td>\n",
       "      <td>0篇精华帖/0篇帖子</td>\n",
       "      <td>2017-11-10</td>\n",
       "      <td>普通用户</td>\n",
       "      <td>590</td>\n",
       "      <td>NaN</td>\n",
       "      <td>NaN</td>\n",
       "      <td>[{'title': '比邻全国最低价提车', 'url': '//k.autohome.c...</td>\n",
       "      <td>NaN</td>\n",
       "      <td>NaN</td>\n",
       "      <td>1</td>\n",
       "      <td>博越</td>\n",
       "    </tr>\n",
       "  </tbody>\n",
       "</table>\n",
       "</div>"
      ],
      "text/plain": [
       "      user_id  follow_count  fans_count gender birthday location  level  \\\n",
       "0  yryihgddsg             0           1    man      NaT    浙江 杭州      1   \n",
       "1         淡淡可             2           1    man      NaT    山东 济宁      1   \n",
       "\n",
       "   post_count registration_time properties  mileage post cars  \\\n",
       "0  0篇精华帖/0篇帖子        2017-11-08       普通用户     1870  NaN  NaN   \n",
       "1  0篇精华帖/0篇帖子        2017-11-10       普通用户      590  NaN  NaN   \n",
       "\n",
       "                                         koubei_post gas_mileage  \\\n",
       "0  [{'title': '2018款极光骚红色', 'url': '//k.autohome....         NaN   \n",
       "1  [{'title': '比邻全国最低价提车', 'url': '//k.autohome.c...         NaN   \n",
       "\n",
       "  car_friend_zone  label car_like  \n",
       "0             NaN      1   驭胜S330  \n",
       "1             NaN      1       博越  "
      ]
     },
     "execution_count": 18,
     "metadata": {},
     "output_type": "execute_result"
    }
   ],
   "source": [
    "print(merge_df.shape)\n",
    "merge_df.head(2)"
   ]
  },
  {
   "cell_type": "code",
   "execution_count": 19,
   "metadata": {},
   "outputs": [
    {
     "data": {
      "text/html": [
       "<div>\n",
       "<style scoped>\n",
       "    .dataframe tbody tr th:only-of-type {\n",
       "        vertical-align: middle;\n",
       "    }\n",
       "\n",
       "    .dataframe tbody tr th {\n",
       "        vertical-align: top;\n",
       "    }\n",
       "\n",
       "    .dataframe thead th {\n",
       "        text-align: right;\n",
       "    }\n",
       "</style>\n",
       "<table border=\"1\" class=\"dataframe\">\n",
       "  <thead>\n",
       "    <tr style=\"text-align: right;\">\n",
       "      <th></th>\n",
       "      <th>user_id</th>\n",
       "      <th>follow_count</th>\n",
       "      <th>fans_count</th>\n",
       "      <th>gender</th>\n",
       "      <th>birthday</th>\n",
       "      <th>location</th>\n",
       "      <th>level</th>\n",
       "      <th>registration_time</th>\n",
       "      <th>properties</th>\n",
       "      <th>mileage</th>\n",
       "      <th>post</th>\n",
       "      <th>cars</th>\n",
       "      <th>koubei_post</th>\n",
       "      <th>gas_mileage</th>\n",
       "      <th>car_friend_zone</th>\n",
       "      <th>label</th>\n",
       "      <th>car_like</th>\n",
       "      <th>excellent_post_count</th>\n",
       "      <th>all_post_count</th>\n",
       "    </tr>\n",
       "  </thead>\n",
       "  <tbody>\n",
       "    <tr>\n",
       "      <th>0</th>\n",
       "      <td>yryihgddsg</td>\n",
       "      <td>0</td>\n",
       "      <td>1</td>\n",
       "      <td>man</td>\n",
       "      <td>NaT</td>\n",
       "      <td>浙江 杭州</td>\n",
       "      <td>1</td>\n",
       "      <td>2017-11-08</td>\n",
       "      <td>普通用户</td>\n",
       "      <td>1870</td>\n",
       "      <td>NaN</td>\n",
       "      <td>NaN</td>\n",
       "      <td>[{'title': '2018款极光骚红色', 'url': '//k.autohome....</td>\n",
       "      <td>NaN</td>\n",
       "      <td>NaN</td>\n",
       "      <td>1</td>\n",
       "      <td>驭胜S330</td>\n",
       "      <td>0</td>\n",
       "      <td>0</td>\n",
       "    </tr>\n",
       "    <tr>\n",
       "      <th>1</th>\n",
       "      <td>淡淡可</td>\n",
       "      <td>2</td>\n",
       "      <td>1</td>\n",
       "      <td>man</td>\n",
       "      <td>NaT</td>\n",
       "      <td>山东 济宁</td>\n",
       "      <td>1</td>\n",
       "      <td>2017-11-10</td>\n",
       "      <td>普通用户</td>\n",
       "      <td>590</td>\n",
       "      <td>NaN</td>\n",
       "      <td>NaN</td>\n",
       "      <td>[{'title': '比邻全国最低价提车', 'url': '//k.autohome.c...</td>\n",
       "      <td>NaN</td>\n",
       "      <td>NaN</td>\n",
       "      <td>1</td>\n",
       "      <td>博越</td>\n",
       "      <td>0</td>\n",
       "      <td>0</td>\n",
       "    </tr>\n",
       "  </tbody>\n",
       "</table>\n",
       "</div>"
      ],
      "text/plain": [
       "      user_id  follow_count  fans_count gender birthday location  level  \\\n",
       "0  yryihgddsg             0           1    man      NaT    浙江 杭州      1   \n",
       "1         淡淡可             2           1    man      NaT    山东 济宁      1   \n",
       "\n",
       "  registration_time properties  mileage post cars  \\\n",
       "0        2017-11-08       普通用户     1870  NaN  NaN   \n",
       "1        2017-11-10       普通用户      590  NaN  NaN   \n",
       "\n",
       "                                         koubei_post gas_mileage  \\\n",
       "0  [{'title': '2018款极光骚红色', 'url': '//k.autohome....         NaN   \n",
       "1  [{'title': '比邻全国最低价提车', 'url': '//k.autohome.c...         NaN   \n",
       "\n",
       "  car_friend_zone  label car_like  excellent_post_count  all_post_count  \n",
       "0             NaN      1   驭胜S330                     0               0  \n",
       "1             NaN      1       博越                     0               0  "
      ]
     },
     "execution_count": 19,
     "metadata": {},
     "output_type": "execute_result"
    }
   ],
   "source": [
    "from utils import extract_excellent_post_count\n",
    "from utils import extract_post_count\n",
    "\n",
    "merge_df[\"excellent_post_count\"] = merge_df.apply (lambda row: extract_excellent_post_count(row),axis=1)\n",
    "merge_df[\"all_post_count\"] = merge_df.apply (lambda row: extract_post_count(row),axis=1)\n",
    "merge_df.drop(columns='post_count', inplace=True)\n",
    "merge_df.head(2)"
   ]
  },
  {
   "cell_type": "code",
   "execution_count": 20,
   "metadata": {},
   "outputs": [],
   "source": [
    "merge_df.to_excel(\"data/luhu_all_user_1.xlsx\",encoding='utf-8')"
   ]
  },
  {
   "cell_type": "code",
   "execution_count": 21,
   "metadata": {},
   "outputs": [
    {
     "data": {
      "text/plain": [
       "Index(['user_id', 'follow_count', 'fans_count', 'gender', 'birthday',\n",
       "       'location', 'level', 'registration_time', 'properties', 'mileage',\n",
       "       'post', 'cars', 'koubei_post', 'gas_mileage', 'car_friend_zone',\n",
       "       'label', 'car_like', 'excellent_post_count', 'all_post_count'],\n",
       "      dtype='object')"
      ]
     },
     "execution_count": 21,
     "metadata": {},
     "output_type": "execute_result"
    }
   ],
   "source": [
    "merge_df.keys()"
   ]
  },
  {
   "cell_type": "code",
   "execution_count": null,
   "metadata": {},
   "outputs": [],
   "source": []
  }
 ],
 "metadata": {
  "kernelspec": {
   "display_name": "Python 3",
   "language": "python",
   "name": "python3"
  },
  "language_info": {
   "codemirror_mode": {
    "name": "ipython",
    "version": 3
   },
   "file_extension": ".py",
   "mimetype": "text/x-python",
   "name": "python",
   "nbconvert_exporter": "python",
   "pygments_lexer": "ipython3",
   "version": "3.6.4"
  }
 },
 "nbformat": 4,
 "nbformat_minor": 2
}
