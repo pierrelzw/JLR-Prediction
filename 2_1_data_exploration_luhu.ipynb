{
 "cells": [
  {
   "cell_type": "markdown",
   "metadata": {},
   "source": [
    "### Important imports"
   ]
  },
  {
   "cell_type": "code",
   "execution_count": 1,
   "metadata": {},
   "outputs": [
    {
     "data": {
      "text/html": [
       "<script>requirejs.config({paths: { 'plotly': ['https://cdn.plot.ly/plotly-latest.min']},});if(!window.Plotly) {{require(['plotly'],function(plotly) {window.Plotly=plotly;});}}</script>"
      ],
      "text/vnd.plotly.v1+html": [
       "<script>requirejs.config({paths: { 'plotly': ['https://cdn.plot.ly/plotly-latest.min']},});if(!window.Plotly) {{require(['plotly'],function(plotly) {window.Plotly=plotly;});}}</script>"
      ]
     },
     "metadata": {},
     "output_type": "display_data"
    }
   ],
   "source": [
    "from scipy import stats\n",
    "import os\n",
    "import pandas as pd # package for high-performance, easy-to-use data structures and data analysis\n",
    "import numpy as np  # fundamental package for acientific computing with python\n",
    "import matplotlib \n",
    "from matplotlib import pyplot as plt # for plotting\n",
    "import seaborn as sns # for making plots with seaborn\n",
    "color = sns.color_palette()\n",
    "import plotly.graph_objs as go\n",
    "from plotly.offline import init_notebook_mode, iplot\n",
    "%matplotlib inline\n",
    "\n",
    "from plotly import tools\n",
    "\n",
    "init_notebook_mode(connected=True)"
   ]
  },
  {
   "cell_type": "code",
   "execution_count": 2,
   "metadata": {},
   "outputs": [],
   "source": [
    "# The function to plot the distribution of the categorical values Horizontaly \n",
    "def bar_hor(df,  col, title, color, w=None, h=None, lm=0,  limit=100, return_trace=False, rev=False, xlb=False):\n",
    "    cnt_srs = df[col].value_counts()\n",
    "    yy = cnt_srs.head(limit).index[::-1]\n",
    "    xx = cnt_srs.head(limit).values[::-1]\n",
    "    if rev:\n",
    "        yy = cnt_srs.tail(limit).index[::-1]\n",
    "        xx = cnt_srs.tail(limit).values[::-1]\n",
    "    if xlb:#????\n",
    "        trace = go.Bar(y=xlb, x=xx,orientation='h', marker=dict(color=color))\n",
    "    else:\n",
    "        trace = go.Bar(y=yy, x=xx,orientation='h', marker=dict(color=color))\n",
    "    if return_trace:\n",
    "        return trace\n",
    "    layout = dict(title=title, margin=dict(l=lm), width=w, height=h)\n",
    "    data = [trace]\n",
    "    fig = go.Figure(data=data, layout=layout)\n",
    "    iplot(fig)\n",
    "\n",
    "# The function to get the distribution of the categories according to the target\n",
    "#(target de dtype=bool? or np.int8?)\n",
    "def gp(df, col, title):\n",
    "    df0 = df[df['label']==0]\n",
    "    df1 = df[df['label']==1]\n",
    "    a1 = df1[col].value_counts()\n",
    "    b1 = df0[col].value_counts()\n",
    "    \n",
    "    total = dict(df[col].value_counts())\n",
    "    x0 = a1.index\n",
    "    x1 = b1.index\n",
    "    \n",
    "    y0 = [float(x)*100/total[x0[i]] for i,x in enumerate(a1.values)]\n",
    "    y1 = [float(x)*100/total[x1[i]] for i,x in enumerate(b1.values)]\n",
    "    \n",
    "    trace1 = go.Bar(x=x0, y=y0, name=\"Target : 0\", marker=dict(color=\"#96D38C\"))\n",
    "    trace2 = go.Bar(x=x1, y=y1, name=\"Target : 1\", marker=dict(color=\"#FEBFB3\"))\n",
    "    \n",
    "    return trace1, trace2\n",
    "\n",
    "def exploreCat(df, col):\n",
    "    t = df[col].value_counts()\n",
    "    labels = t.index \n",
    "    values = t.values\n",
    "    colors = [\"#96D38C\",  \"#FEBFB3\"]\n",
    "    trace  = go.Pie(labels=labels, values=values,\n",
    "                   hoverinfo=\"all\",textinfo='value',\n",
    "                   textfont=dict(size=12), \n",
    "                   marker=dict(colors=colors,\n",
    "                               line=dict(color='#fff',width=2)))\n",
    "    layout = go.Layout(title=col, height=400)\n",
    "    fig = go.Figure(data=[trace], layout=layout)\n",
    "    iplot(fig)\n",
    "\n",
    "# the relation between the categorical column and the target\n",
    "def catAndTrgt(df, col):\n",
    "    tr0 = bar_hor(df, col, \"Distribution of \"+col, \"#f975ae\", w=700, lm=100, return_trace=True)\n",
    "    tr1, tr2 = gp(df, col, \"Distribution of Target with \"+col)\n",
    "    \n",
    "    fig = tools.make_subplots(rows=1, cols=3, print_grid=False, \n",
    "                             subplot_titles=[col+\" Distribution\", \"% of target=0\", \"% of target=1\"])\n",
    "    fig.append_trace(tr0, 1, 1);\n",
    "    fig.append_trace(tr1, 1, 2);\n",
    "    fig.append_trace(tr2, 1, 3);\n",
    "    fig['layout'].update(height=350, showlegend=False, margin=dict(l=50));\n",
    "    iplot(fig);"
   ]
  },
  {
   "cell_type": "code",
   "execution_count": 3,
   "metadata": {},
   "outputs": [
    {
     "data": {
      "text/html": [
       "<div>\n",
       "<style scoped>\n",
       "    .dataframe tbody tr th:only-of-type {\n",
       "        vertical-align: middle;\n",
       "    }\n",
       "\n",
       "    .dataframe tbody tr th {\n",
       "        vertical-align: top;\n",
       "    }\n",
       "\n",
       "    .dataframe thead th {\n",
       "        text-align: right;\n",
       "    }\n",
       "</style>\n",
       "<table border=\"1\" class=\"dataframe\">\n",
       "  <thead>\n",
       "    <tr style=\"text-align: right;\">\n",
       "      <th></th>\n",
       "      <th>user_id</th>\n",
       "      <th>follow_count</th>\n",
       "      <th>fans_count</th>\n",
       "      <th>gender</th>\n",
       "      <th>birthday</th>\n",
       "      <th>location</th>\n",
       "      <th>level</th>\n",
       "      <th>car_liked</th>\n",
       "      <th>registration_time</th>\n",
       "      <th>properties</th>\n",
       "      <th>mileage</th>\n",
       "      <th>post</th>\n",
       "      <th>cars</th>\n",
       "      <th>koubei_post</th>\n",
       "      <th>gas_mileage</th>\n",
       "      <th>car_friend_zone</th>\n",
       "      <th>label</th>\n",
       "      <th>excellent_post_count</th>\n",
       "      <th>all_post_count</th>\n",
       "      <th>car_like</th>\n",
       "    </tr>\n",
       "  </thead>\n",
       "  <tbody>\n",
       "    <tr>\n",
       "      <th>0</th>\n",
       "      <td>yryihgddsg</td>\n",
       "      <td>0</td>\n",
       "      <td>1</td>\n",
       "      <td>man</td>\n",
       "      <td>NaT</td>\n",
       "      <td>浙江 杭州</td>\n",
       "      <td>1</td>\n",
       "      <td>关注的车：驭胜S330</td>\n",
       "      <td>2017-11-08</td>\n",
       "      <td>普通用户</td>\n",
       "      <td>1870</td>\n",
       "      <td>NaN</td>\n",
       "      <td>NaN</td>\n",
       "      <td>[{'title': '2018款极光骚红色', 'url': '//k.autohome....</td>\n",
       "      <td>NaN</td>\n",
       "      <td>NaN</td>\n",
       "      <td>1</td>\n",
       "      <td>0</td>\n",
       "      <td>0</td>\n",
       "      <td>驭胜S330</td>\n",
       "    </tr>\n",
       "    <tr>\n",
       "      <th>1</th>\n",
       "      <td>淡淡可</td>\n",
       "      <td>2</td>\n",
       "      <td>1</td>\n",
       "      <td>man</td>\n",
       "      <td>NaT</td>\n",
       "      <td>山东 济宁</td>\n",
       "      <td>1</td>\n",
       "      <td>关注的车：博越</td>\n",
       "      <td>2017-11-10</td>\n",
       "      <td>普通用户</td>\n",
       "      <td>590</td>\n",
       "      <td>NaN</td>\n",
       "      <td>NaN</td>\n",
       "      <td>[{'title': '比邻全国最低价提车', 'url': '//k.autohome.c...</td>\n",
       "      <td>NaN</td>\n",
       "      <td>NaN</td>\n",
       "      <td>1</td>\n",
       "      <td>0</td>\n",
       "      <td>0</td>\n",
       "      <td>博越</td>\n",
       "    </tr>\n",
       "  </tbody>\n",
       "</table>\n",
       "</div>"
      ],
      "text/plain": [
       "      user_id  follow_count  fans_count gender birthday location  level  \\\n",
       "0  yryihgddsg             0           1    man      NaT    浙江 杭州      1   \n",
       "1         淡淡可             2           1    man      NaT    山东 济宁      1   \n",
       "\n",
       "     car_liked registration_time properties  mileage post cars  \\\n",
       "0  关注的车：驭胜S330        2017-11-08       普通用户     1870  NaN  NaN   \n",
       "1      关注的车：博越        2017-11-10       普通用户      590  NaN  NaN   \n",
       "\n",
       "                                         koubei_post gas_mileage  \\\n",
       "0  [{'title': '2018款极光骚红色', 'url': '//k.autohome....         NaN   \n",
       "1  [{'title': '比邻全国最低价提车', 'url': '//k.autohome.c...         NaN   \n",
       "\n",
       "  car_friend_zone  label  excellent_post_count  all_post_count car_like  \n",
       "0             NaN      1                     0               0   驭胜S330  \n",
       "1             NaN      1                     0               0       博越  "
      ]
     },
     "execution_count": 3,
     "metadata": {},
     "output_type": "execute_result"
    }
   ],
   "source": [
    "merge_df = pd.read_excel(\"data/路虎口碑所有用户.xlsx\")\n",
    "# print(merge_df.describe())\n",
    "merge_df.head(2)"
   ]
  },
  {
   "cell_type": "markdown",
   "metadata": {},
   "source": [
    "#### Check missing data"
   ]
  },
  {
   "cell_type": "code",
   "execution_count": 4,
   "metadata": {},
   "outputs": [
    {
     "name": "stdout",
     "output_type": "stream",
     "text": [
      "(2569, 20)\n"
     ]
    },
    {
     "data": {
      "text/html": [
       "<div>\n",
       "<style scoped>\n",
       "    .dataframe tbody tr th:only-of-type {\n",
       "        vertical-align: middle;\n",
       "    }\n",
       "\n",
       "    .dataframe tbody tr th {\n",
       "        vertical-align: top;\n",
       "    }\n",
       "\n",
       "    .dataframe thead th {\n",
       "        text-align: right;\n",
       "    }\n",
       "</style>\n",
       "<table border=\"1\" class=\"dataframe\">\n",
       "  <thead>\n",
       "    <tr style=\"text-align: right;\">\n",
       "      <th></th>\n",
       "      <th>total</th>\n",
       "      <th>missing_percentage</th>\n",
       "    </tr>\n",
       "  </thead>\n",
       "  <tbody>\n",
       "    <tr>\n",
       "      <th>gas_mileage</th>\n",
       "      <td>2389</td>\n",
       "      <td>92.993383</td>\n",
       "    </tr>\n",
       "    <tr>\n",
       "      <th>car_friend_zone</th>\n",
       "      <td>2195</td>\n",
       "      <td>85.441806</td>\n",
       "    </tr>\n",
       "    <tr>\n",
       "      <th>birthday</th>\n",
       "      <td>2162</td>\n",
       "      <td>84.157260</td>\n",
       "    </tr>\n",
       "    <tr>\n",
       "      <th>post</th>\n",
       "      <td>1722</td>\n",
       "      <td>67.029973</td>\n",
       "    </tr>\n",
       "    <tr>\n",
       "      <th>koubei_post</th>\n",
       "      <td>1682</td>\n",
       "      <td>65.472947</td>\n",
       "    </tr>\n",
       "    <tr>\n",
       "      <th>cars</th>\n",
       "      <td>1657</td>\n",
       "      <td>64.499805</td>\n",
       "    </tr>\n",
       "    <tr>\n",
       "      <th>car_like</th>\n",
       "      <td>70</td>\n",
       "      <td>2.724796</td>\n",
       "    </tr>\n",
       "    <tr>\n",
       "      <th>level</th>\n",
       "      <td>0</td>\n",
       "      <td>0.000000</td>\n",
       "    </tr>\n",
       "    <tr>\n",
       "      <th>follow_count</th>\n",
       "      <td>0</td>\n",
       "      <td>0.000000</td>\n",
       "    </tr>\n",
       "    <tr>\n",
       "      <th>fans_count</th>\n",
       "      <td>0</td>\n",
       "      <td>0.000000</td>\n",
       "    </tr>\n",
       "    <tr>\n",
       "      <th>gender</th>\n",
       "      <td>0</td>\n",
       "      <td>0.000000</td>\n",
       "    </tr>\n",
       "    <tr>\n",
       "      <th>location</th>\n",
       "      <td>0</td>\n",
       "      <td>0.000000</td>\n",
       "    </tr>\n",
       "    <tr>\n",
       "      <th>properties</th>\n",
       "      <td>0</td>\n",
       "      <td>0.000000</td>\n",
       "    </tr>\n",
       "    <tr>\n",
       "      <th>car_liked</th>\n",
       "      <td>0</td>\n",
       "      <td>0.000000</td>\n",
       "    </tr>\n",
       "    <tr>\n",
       "      <th>registration_time</th>\n",
       "      <td>0</td>\n",
       "      <td>0.000000</td>\n",
       "    </tr>\n",
       "    <tr>\n",
       "      <th>all_post_count</th>\n",
       "      <td>0</td>\n",
       "      <td>0.000000</td>\n",
       "    </tr>\n",
       "    <tr>\n",
       "      <th>mileage</th>\n",
       "      <td>0</td>\n",
       "      <td>0.000000</td>\n",
       "    </tr>\n",
       "    <tr>\n",
       "      <th>label</th>\n",
       "      <td>0</td>\n",
       "      <td>0.000000</td>\n",
       "    </tr>\n",
       "  </tbody>\n",
       "</table>\n",
       "</div>"
      ],
      "text/plain": [
       "                   total  missing_percentage\n",
       "gas_mileage         2389           92.993383\n",
       "car_friend_zone     2195           85.441806\n",
       "birthday            2162           84.157260\n",
       "post                1722           67.029973\n",
       "koubei_post         1682           65.472947\n",
       "cars                1657           64.499805\n",
       "car_like              70            2.724796\n",
       "level                  0            0.000000\n",
       "follow_count           0            0.000000\n",
       "fans_count             0            0.000000\n",
       "gender                 0            0.000000\n",
       "location               0            0.000000\n",
       "properties             0            0.000000\n",
       "car_liked              0            0.000000\n",
       "registration_time      0            0.000000\n",
       "all_post_count         0            0.000000\n",
       "mileage                0            0.000000\n",
       "label                  0            0.000000"
      ]
     },
     "execution_count": 4,
     "metadata": {},
     "output_type": "execute_result"
    }
   ],
   "source": [
    "print(merge_df.shape)\n",
    "total = merge_df.isnull().sum().sort_values(ascending=False)\n",
    "percentage = (merge_df.isnull().sum()/merge_df.isnull().count()*100).sort_values(ascending=False)\n",
    "missing_use_luhu_data = pd.concat([total,percentage], axis=1,keys=['total', 'missing_percentage'])\n",
    "missing_use_luhu_data.head(18)"
   ]
  },
  {
   "cell_type": "code",
   "execution_count": 5,
   "metadata": {},
   "outputs": [],
   "source": [
    "dtypes = {'user_id':str, \n",
    "          'follow_count': int, \n",
    "          'fans_count':int,\n",
    "          'gender':bool,\n",
    "          'location':int,\n",
    "          'level':int,\n",
    "          'post_count':int,\n",
    "          'car_liked':str,\n",
    "          'registration_time':int,\n",
    "          'properties':bool,\n",
    "          'mileage':int,\n",
    "          'post':str,\n",
    "          'cars':str,\n",
    "          'koubei_post':str,\n",
    "          'gas_mileage':int,\n",
    "          'car_friend_zone':str,\n",
    "          'label': bool,\n",
    "         }"
   ]
  },
  {
   "cell_type": "code",
   "execution_count": 6,
   "metadata": {},
   "outputs": [
    {
     "data": {
      "text/plain": [
       "user_id                         object\n",
       "follow_count                     int64\n",
       "fans_count                       int64\n",
       "gender                          object\n",
       "birthday                datetime64[ns]\n",
       "location                        object\n",
       "level                            int64\n",
       "car_liked                       object\n",
       "registration_time       datetime64[ns]\n",
       "properties                      object\n",
       "mileage                          int64\n",
       "post                            object\n",
       "cars                            object\n",
       "koubei_post                     object\n",
       "gas_mileage                     object\n",
       "car_friend_zone                 object\n",
       "label                            int64\n",
       "excellent_post_count             int64\n",
       "all_post_count                   int64\n",
       "car_like                        object\n",
       "dtype: object"
      ]
     },
     "execution_count": 6,
     "metadata": {},
     "output_type": "execute_result"
    }
   ],
   "source": [
    "merge_df.dtypes"
   ]
  },
  {
   "cell_type": "markdown",
   "metadata": {},
   "source": [
    "### Distribution of label"
   ]
  },
  {
   "cell_type": "code",
   "execution_count": 7,
   "metadata": {},
   "outputs": [
    {
     "data": {
      "application/vnd.plotly.v1+json": {
       "data": [
        {
         "marker": {
          "color": [
           "#44ff54",
           "#ff4444"
          ]
         },
         "orientation": "h",
         "type": "bar",
         "uid": "1d0689cc-9587-11e8-8ac3-6c40089fb510",
         "x": [
          887,
          1682
         ],
         "y": [
          "label : 0",
          "label : 1"
         ]
        }
       ],
       "layout": {
        "height": 350,
        "margin": {
         "l": 200
        },
        "title": "Distribution of label",
        "width": 600
       }
      },
      "text/html": [
       "<div id=\"efdc031a-e590-43e6-be92-054e5f7dd6d4\" style=\"height: 350px; width: 600px;\" class=\"plotly-graph-div\"></div><script type=\"text/javascript\">require([\"plotly\"], function(Plotly) { window.PLOTLYENV=window.PLOTLYENV || {};window.PLOTLYENV.BASE_URL=\"https://plot.ly\";\n",
       "        Plotly.plot(\n",
       "            'efdc031a-e590-43e6-be92-054e5f7dd6d4',\n",
       "            [{\"marker\": {\"color\": [\"#44ff54\", \"#ff4444\"]}, \"orientation\": \"h\", \"x\": [887.0, 1682.0], \"y\": [\"label : 0\", \"label : 1\"], \"type\": \"bar\", \"uid\": \"1d0689cc-9587-11e8-8ac3-6c40089fb510\"}],\n",
       "            {\"height\": 350, \"margin\": {\"l\": 200}, \"title\": \"Distribution of label\", \"width\": 600},\n",
       "            {\"showLink\": true, \"linkText\": \"Export to plot.ly\"}\n",
       "        ).then(function () {return Plotly.addFrames('efdc031a-e590-43e6-be92-054e5f7dd6d4',{});}).then(function(){Plotly.animate('efdc031a-e590-43e6-be92-054e5f7dd6d4');})\n",
       "        });</script>"
      ],
      "text/vnd.plotly.v1+html": [
       "<div id=\"efdc031a-e590-43e6-be92-054e5f7dd6d4\" style=\"height: 350px; width: 600px;\" class=\"plotly-graph-div\"></div><script type=\"text/javascript\">require([\"plotly\"], function(Plotly) { window.PLOTLYENV=window.PLOTLYENV || {};window.PLOTLYENV.BASE_URL=\"https://plot.ly\";\n",
       "        Plotly.plot(\n",
       "            'efdc031a-e590-43e6-be92-054e5f7dd6d4',\n",
       "            [{\"marker\": {\"color\": [\"#44ff54\", \"#ff4444\"]}, \"orientation\": \"h\", \"x\": [887.0, 1682.0], \"y\": [\"label : 0\", \"label : 1\"], \"type\": \"bar\", \"uid\": \"1d0689cc-9587-11e8-8ac3-6c40089fb510\"}],\n",
       "            {\"height\": 350, \"margin\": {\"l\": 200}, \"title\": \"Distribution of label\", \"width\": 600},\n",
       "            {\"showLink\": true, \"linkText\": \"Export to plot.ly\"}\n",
       "        ).then(function () {return Plotly.addFrames('efdc031a-e590-43e6-be92-054e5f7dd6d4',{});}).then(function(){Plotly.animate('efdc031a-e590-43e6-be92-054e5f7dd6d4');})\n",
       "        });</script>"
      ]
     },
     "metadata": {},
     "output_type": "display_data"
    }
   ],
   "source": [
    "# temp = merge_df['label'].value_counts()\n",
    "# df = pd.DataFrame({\"labels\":temp.index,\n",
    "#                    \"values\":temp.values\n",
    "#                   })\n",
    "# print(df)\n",
    "# df.plot(kind='pie',x='labels',y='values', title=\"buy luhu or not\")\n",
    "bar_hor(merge_df, \"label\", \"Distribution of label\", color=['#44ff54','#ff4444'], h=350, w=600,\n",
    "       lm=200, xlb=['label : 0', \"label : 1\"])"
   ]
  },
  {
   "cell_type": "code",
   "execution_count": null,
   "metadata": {},
   "outputs": [],
   "source": [
    "# temp = merge_df['label'].value_counts()\n",
    "# df = pd.DataFrame({\"labels\":temp.index,\n",
    "#                    \"values\":temp.values\n",
    "#                   })\n",
    "# print(df)\n",
    "# plt.figure(figsize=(5,5))\n",
    "# labels = temp.index\n",
    "# plt.pie(x=temp.values,labels=labels,autopct='%1.1f%%',shadow=True)\n",
    "# plt.show()"
   ]
  },
  {
   "cell_type": "markdown",
   "metadata": {},
   "source": [
    "### Distribution of gender"
   ]
  },
  {
   "cell_type": "code",
   "execution_count": null,
   "metadata": {},
   "outputs": [],
   "source": [
    "# temp = merge_df['gender'].value_counts()\n",
    "# df = pd.DataFrame({\"labels\":temp.index,\n",
    "#                    \"values\":temp.values\n",
    "#                   })\n",
    "# print(df)\n",
    "# plt.figure(figsize=(5,5))\n",
    "# labels = temp.index\n",
    "# plt.pie(x=temp.values,labels=labels,autopct='%1.1f%%',shadow=True)\n",
    "# plt.show()"
   ]
  },
  {
   "cell_type": "code",
   "execution_count": null,
   "metadata": {},
   "outputs": [],
   "source": [
    "exploreCat(merge_df, \"gender\")"
   ]
  },
  {
   "cell_type": "markdown",
   "metadata": {},
   "source": [
    "### Distibution of follow_count, fans_count"
   ]
  },
  {
   "cell_type": "code",
   "execution_count": null,
   "metadata": {},
   "outputs": [],
   "source": [
    "# temp = merge_df['follow_count'].value_counts()\n",
    "# df = pd.DataFrame({\"labels\":temp.index,\n",
    "#                    \"values\":temp.values\n",
    "#                   })\n",
    "# print(df.loc[:15])\n",
    "# plt.figure(figsize=(10,5))\n",
    "# labels = temp.index\n",
    "# plt.bar(temp.index,temp.values)\n",
    "# plt.show()"
   ]
  },
  {
   "cell_type": "code",
   "execution_count": null,
   "metadata": {},
   "outputs": [],
   "source": [
    "# temp = merge_df['fans_count'].value_counts()\n",
    "# df = pd.DataFrame({\"labels\":temp.index,\n",
    "#                    \"values\":temp.values\n",
    "#                   })\n",
    "# print(df.loc[:10])\n",
    "# plt.figure(figsize=(10,5))\n",
    "# labels = temp.index\n",
    "# plt.bar(temp.index,temp.values)\n",
    "# plt.show()"
   ]
  },
  {
   "cell_type": "code",
   "execution_count": null,
   "metadata": {},
   "outputs": [],
   "source": [
    "catAndTrgt(merge_df, \"follow_count\")"
   ]
  },
  {
   "cell_type": "markdown",
   "metadata": {},
   "source": [
    "### Distibution of location"
   ]
  },
  {
   "cell_type": "code",
   "execution_count": null,
   "metadata": {},
   "outputs": [],
   "source": [
    "# temp = merge_df['location'].value_counts()\n",
    "# df = pd.DataFrame({\"labels\":temp.index,\n",
    "#                    \"values\":temp.values\n",
    "#                   })\n",
    "# df = df.sort_values('values', ascending=False)\n",
    "# print(df.loc[0:10])\n",
    "# ax = df['values'][0:10].plot(kind='bar')\n",
    "# # plt.figure(figsize=(12,5))\n",
    "# # plt.bar(df['labels'][:20],df['values'][:20])\n",
    "# # plt.show()"
   ]
  },
  {
   "cell_type": "code",
   "execution_count": null,
   "metadata": {},
   "outputs": [],
   "source": [
    "catAndTrgt(merge_df,  \"location\")"
   ]
  },
  {
   "cell_type": "markdown",
   "metadata": {},
   "source": [
    "### Distibution of level"
   ]
  },
  {
   "cell_type": "code",
   "execution_count": null,
   "metadata": {},
   "outputs": [],
   "source": [
    "# temp = merge_df['level'].value_counts()\n",
    "# df = pd.DataFrame({\"labels\":temp.index,\n",
    "#                    \"values\":temp.values\n",
    "#                   })\n",
    "# print(df)\n",
    "# plt.figure(figsize=(5,5))\n",
    "# labels = temp.index\n",
    "# plt.bar(temp.index,temp.values)\n",
    "# plt.show()"
   ]
  },
  {
   "cell_type": "code",
   "execution_count": null,
   "metadata": {},
   "outputs": [],
   "source": [
    "catAndTrgt(merge_df, \"level\")"
   ]
  },
  {
   "cell_type": "markdown",
   "metadata": {},
   "source": [
    "### Mileage"
   ]
  },
  {
   "cell_type": "code",
   "execution_count": null,
   "metadata": {},
   "outputs": [],
   "source": [
    "# temp = merge_df['mileage'].value_counts()\n",
    "# df = pd.DataFrame({\"labels\":temp.index,\n",
    "#                    \"values\":temp.values\n",
    "#                   })\n",
    "# # print(df)\n",
    "# df = df.sort_values('values', ascending=False)\n",
    "# print(df.loc[0:10])\n",
    "# ax = df['values'][0:10].plot(kind='bar')"
   ]
  },
  {
   "cell_type": "code",
   "execution_count": null,
   "metadata": {},
   "outputs": [],
   "source": [
    "catAndTrgt(merge_df, \"mileage\")"
   ]
  },
  {
   "cell_type": "markdown",
   "metadata": {},
   "source": [
    "### all_post_count "
   ]
  },
  {
   "cell_type": "code",
   "execution_count": null,
   "metadata": {},
   "outputs": [],
   "source": [
    "catAndTrgt(merge_df, \"all_post_count\")"
   ]
  },
  {
   "cell_type": "code",
   "execution_count": null,
   "metadata": {},
   "outputs": [],
   "source": [
    "catAndTrgt(merge_df, \"excellent_post_count\")"
   ]
  },
  {
   "cell_type": "code",
   "execution_count": null,
   "metadata": {},
   "outputs": [],
   "source": [
    "catAndTrgt(merge_df, \"car_like\")"
   ]
  },
  {
   "cell_type": "code",
   "execution_count": null,
   "metadata": {},
   "outputs": [],
   "source": [
    "merge_df.dtypes"
   ]
  },
  {
   "cell_type": "code",
   "execution_count": null,
   "metadata": {},
   "outputs": [],
   "source": [
    "# cars\n",
    "cars = merge_df"
   ]
  },
  {
   "cell_type": "markdown",
   "metadata": {},
   "source": [
    "### feature extaction"
   ]
  },
  {
   "cell_type": "code",
   "execution_count": null,
   "metadata": {},
   "outputs": [],
   "source": [
    "# mapping string to categorical number"
   ]
  }
 ],
 "metadata": {
  "kernelspec": {
   "display_name": "Python 3",
   "language": "python",
   "name": "python3"
  },
  "language_info": {
   "codemirror_mode": {
    "name": "ipython",
    "version": 3
   },
   "file_extension": ".py",
   "mimetype": "text/x-python",
   "name": "python",
   "nbconvert_exporter": "python",
   "pygments_lexer": "ipython3",
   "version": "3.6.4"
  }
 },
 "nbformat": 4,
 "nbformat_minor": 2
}
