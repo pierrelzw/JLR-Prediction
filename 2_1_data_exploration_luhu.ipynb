{
 "cells": [
  {
   "cell_type": "markdown",
   "metadata": {},
   "source": [
    "### Important imports"
   ]
  },
  {
   "cell_type": "code",
   "execution_count": null,
   "metadata": {},
   "outputs": [],
   "source": [
    "from scipy import stats\n",
    "import os\n",
    "import pandas as pd # package for high-performance, easy-to-use data structures and data analysis\n",
    "import numpy as np  # fundamental package for acientific computing with python\n",
    "import matplotlib \n",
    "from matplotlib import pyplot as plt # for plotting\n",
    "import seaborn as sns # for making plots with seaborn\n",
    "color = sns.color_palette()\n",
    "import plotly.graph_objs as go\n",
    "from plotly.offline import init_notebook_mode, iplot\n",
    "%matplotlib inline\n",
    "\n",
    "from plotly import tools\n",
    "init_notebook_mode(connected=True)"
   ]
  },
  {
   "cell_type": "code",
   "execution_count": null,
   "metadata": {},
   "outputs": [],
   "source": [
    "# The function to plot the distribution of the categorical values Horizontaly \n",
    "\n",
    "def bar_hor(df,  col, title, color, w=None, h=None, lm=0,  limit=100, return_trace=False, rev=False, xlb=False):\n",
    "    cnt_srs = df[col].value_counts()\n",
    "    yy = cnt_srs.head(limit).index[::-1]\n",
    "    xx = cnt_srs.head(limit).values[::-1]\n",
    "    if rev:\n",
    "        yy = cnt_srs.tail(limit).index[::-1]\n",
    "        xx = cnt_srs.tail(limit).values[::-1]\n",
    "    if xlb:#????\n",
    "        trace = go.Bar(y=xlb, x=xx,orientation='h', marker=dict(color=color))\n",
    "    else:\n",
    "        trace = go.Bar(y=yy, x=xx,orientation='h', marker=dict(color=color))\n",
    "    if return_trace:\n",
    "        return trace\n",
    "    layout = dict(title=title, margin=dict(l=lm), width=w, height=h)\n",
    "    data = [trace]\n",
    "    fig = go.Figure(data=data, layout=layout)\n",
    "    iplot(fig)\n",
    "\n",
    "# The function to get the distribution of the categories according to the target\n",
    "#(target de dtype=bool? or np.int8?)\n",
    "def gp(df, col, title):\n",
    "    df0 = df[df['label']==0]\n",
    "    df1 = df[df['label']==1]\n",
    "    a1 = df1[col].value_counts()\n",
    "    b1 = df0[col].value_counts()\n",
    "    \n",
    "    total = dict(df[col].value_counts())\n",
    "    x0 = a1.index\n",
    "    x1 = b1.index\n",
    "    \n",
    "    y0 = [float(x)*100/total[x0[i]] for i,x in enumerate(a1.values)]\n",
    "    y1 = [float(x)*100/total[x1[i]] for i,x in enumerate(b1.values)]\n",
    "    \n",
    "    trace1 = go.Bar(x=x0, y=y0, name=\"Target : 0\", marker=dict(color=\"#96D38C\"))\n",
    "    trace2 = go.Bar(x=x1, y=y1, name=\"Target : 1\", marker=dict(color=\"#FEBFB3\"))\n",
    "    \n",
    "    return trace1, trace2\n",
    "\n",
    "def exploreCat(df, col):\n",
    "    t = df[col].value_counts()\n",
    "    labels = t.index \n",
    "    values = t.values\n",
    "    colors = [\"#96D38C\",  \"#FEBFB3\"]\n",
    "    trace  = go.Pie(labels=labels, values=values,\n",
    "                   hoverinfo=\"all\",textinfo='value',\n",
    "                   textfont=dict(size=12), \n",
    "                   marker=dict(colors=colors,\n",
    "                               line=dict(color='#fff',width=2)))\n",
    "    layout = go.Layout(title=col, height=400)\n",
    "    fig = go.Figure(data=[trace], layout=layout)\n",
    "    iplot(fig)\n",
    "\n",
    "# the relation between the categorical column and the target\n",
    "def catAndTrgt(df, col):\n",
    "    tr0 = bar_hor(df, col, \"Distribution of \"+col, \"#f975ae\", w=700, lm=100, return_trace=True)\n",
    "    tr1, tr2 = gp(df, col, \"Distribution of Target with \"+col)\n",
    "    \n",
    "    fig = tools.make_subplots(rows=1, cols=3, print_grid=False, \n",
    "                             subplot_titles=[col+\" Distribution\", \"% of target=0\", \"% of target=1\"])\n",
    "    fig.append_trace(tr0, 1, 1);\n",
    "    fig.append_trace(tr1, 1, 2);\n",
    "    fig.append_trace(tr2, 1, 3);\n",
    "    fig['layout'].update(height=350, showlegend=False, margin=dict(l=50));\n",
    "    iplot(fig);"
   ]
  },
  {
   "cell_type": "code",
   "execution_count": null,
   "metadata": {},
   "outputs": [],
   "source": [
    "merge_df = pd.read_excel(\"data/路虎口碑所有用户.xlsx\")\n",
    "# print(merge_df.describe())\n",
    "merge_df.head(2)"
   ]
  },
  {
   "cell_type": "markdown",
   "metadata": {},
   "source": [
    "#### Check missing data"
   ]
  },
  {
   "cell_type": "code",
   "execution_count": null,
   "metadata": {},
   "outputs": [],
   "source": [
    "print(merge_df.shape)\n",
    "total = merge_df.isnull().sum().sort_values(ascending=False)\n",
    "percentage = (merge_df.isnull().sum()/merge_df.isnull().count()*100).sort_values(ascending=False)\n",
    "missing_use_luhu_data = pd.concat([total,percentage], axis=1,keys=['total', 'missing_percentage'])\n",
    "missing_use_luhu_data.head(18)"
   ]
  },
  {
   "cell_type": "code",
   "execution_count": null,
   "metadata": {},
   "outputs": [],
   "source": [
    "dtypes = {'user_id':str, \n",
    "          'follow_count': int, \n",
    "          'fans_count':int,\n",
    "          'gender':bool,\n",
    "          'location':int,\n",
    "          'level':int,\n",
    "          'post_count':int,\n",
    "          'car_liked':str,\n",
    "          'registration_time':int,\n",
    "          'properties':bool,\n",
    "          'mileage':int,\n",
    "          'post':str,\n",
    "          'cars':str,\n",
    "          'koubei_post':str,\n",
    "          'gas_mileage':int,\n",
    "          'car_friend_zone':str,\n",
    "          'label': bool,\n",
    "         }"
   ]
  },
  {
   "cell_type": "code",
   "execution_count": null,
   "metadata": {},
   "outputs": [],
   "source": [
    "merge_df.dtypes"
   ]
  },
  {
   "cell_type": "markdown",
   "metadata": {},
   "source": [
    "### Distribution of label"
   ]
  },
  {
   "cell_type": "code",
   "execution_count": null,
   "metadata": {},
   "outputs": [],
   "source": [
    "# temp = merge_df['label'].value_counts()\n",
    "# df = pd.DataFrame({\"labels\":temp.index,\n",
    "#                    \"values\":temp.values\n",
    "#                   })\n",
    "# print(df)\n",
    "# df.plot(kind='pie',x='labels',y='values', title=\"buy luhu or not\")\n",
    "bar_hor(merge_df, \"label\", \"Distribution of label\", color=['#44ff54','#ff4444'], h=350, w=600,\n",
    "       lm=200, xlb=['label : 0', \"label : 1\"])"
   ]
  },
  {
   "cell_type": "code",
   "execution_count": null,
   "metadata": {},
   "outputs": [],
   "source": [
    "# temp = merge_df['label'].value_counts()\n",
    "# df = pd.DataFrame({\"labels\":temp.index,\n",
    "#                    \"values\":temp.values\n",
    "#                   })\n",
    "# print(df)\n",
    "# plt.figure(figsize=(5,5))\n",
    "# labels = temp.index\n",
    "# plt.pie(x=temp.values,labels=labels,autopct='%1.1f%%',shadow=True)\n",
    "# plt.show()"
   ]
  },
  {
   "cell_type": "markdown",
   "metadata": {},
   "source": [
    "### Distribution of gender"
   ]
  },
  {
   "cell_type": "code",
   "execution_count": null,
   "metadata": {},
   "outputs": [],
   "source": [
    "# temp = merge_df['gender'].value_counts()\n",
    "# df = pd.DataFrame({\"labels\":temp.index,\n",
    "#                    \"values\":temp.values\n",
    "#                   })\n",
    "# print(df)\n",
    "# plt.figure(figsize=(5,5))\n",
    "# labels = temp.index\n",
    "# plt.pie(x=temp.values,labels=labels,autopct='%1.1f%%',shadow=True)\n",
    "# plt.show()"
   ]
  },
  {
   "cell_type": "code",
   "execution_count": null,
   "metadata": {},
   "outputs": [],
   "source": [
    "exploreCat(merge_df, \"gender\")"
   ]
  },
  {
   "cell_type": "markdown",
   "metadata": {},
   "source": [
    "### Distibution of follow_count, fans_count"
   ]
  },
  {
   "cell_type": "code",
   "execution_count": null,
   "metadata": {},
   "outputs": [],
   "source": [
    "# temp = merge_df['follow_count'].value_counts()\n",
    "# df = pd.DataFrame({\"labels\":temp.index,\n",
    "#                    \"values\":temp.values\n",
    "#                   })\n",
    "# print(df.loc[:15])\n",
    "# plt.figure(figsize=(10,5))\n",
    "# labels = temp.index\n",
    "# plt.bar(temp.index,temp.values)\n",
    "# plt.show()"
   ]
  },
  {
   "cell_type": "code",
   "execution_count": null,
   "metadata": {},
   "outputs": [],
   "source": [
    "# temp = merge_df['fans_count'].value_counts()\n",
    "# df = pd.DataFrame({\"labels\":temp.index,\n",
    "#                    \"values\":temp.values\n",
    "#                   })\n",
    "# print(df.loc[:10])\n",
    "# plt.figure(figsize=(10,5))\n",
    "# labels = temp.index\n",
    "# plt.bar(temp.index,temp.values)\n",
    "# plt.show()"
   ]
  },
  {
   "cell_type": "code",
   "execution_count": null,
   "metadata": {},
   "outputs": [],
   "source": [
    "catAndTrgt(merge_df, \"follow_count\")"
   ]
  },
  {
   "cell_type": "markdown",
   "metadata": {},
   "source": [
    "### Distibution of location"
   ]
  },
  {
   "cell_type": "code",
   "execution_count": null,
   "metadata": {},
   "outputs": [],
   "source": [
    "# temp = merge_df['location'].value_counts()\n",
    "# df = pd.DataFrame({\"labels\":temp.index,\n",
    "#                    \"values\":temp.values\n",
    "#                   })\n",
    "# df = df.sort_values('values', ascending=False)\n",
    "# print(df.loc[0:10])\n",
    "# ax = df['values'][0:10].plot(kind='bar')\n",
    "# # plt.figure(figsize=(12,5))\n",
    "# # plt.bar(df['labels'][:20],df['values'][:20])\n",
    "# # plt.show()"
   ]
  },
  {
   "cell_type": "code",
   "execution_count": null,
   "metadata": {},
   "outputs": [],
   "source": [
    "catAndTrgt(merge_df,  \"location\")"
   ]
  },
  {
   "cell_type": "markdown",
   "metadata": {},
   "source": [
    "### Distibution of level"
   ]
  },
  {
   "cell_type": "code",
   "execution_count": null,
   "metadata": {},
   "outputs": [],
   "source": [
    "# temp = merge_df['level'].value_counts()\n",
    "# df = pd.DataFrame({\"labels\":temp.index,\n",
    "#                    \"values\":temp.values\n",
    "#                   })\n",
    "# print(df)\n",
    "# plt.figure(figsize=(5,5))\n",
    "# labels = temp.index\n",
    "# plt.bar(temp.index,temp.values)\n",
    "# plt.show()"
   ]
  },
  {
   "cell_type": "code",
   "execution_count": null,
   "metadata": {},
   "outputs": [],
   "source": [
    "catAndTrgt(merge_df, \"level\")"
   ]
  },
  {
   "cell_type": "markdown",
   "metadata": {},
   "source": [
    "### Mileage"
   ]
  },
  {
   "cell_type": "code",
   "execution_count": null,
   "metadata": {},
   "outputs": [],
   "source": [
    "# temp = merge_df['mileage'].value_counts()\n",
    "# df = pd.DataFrame({\"labels\":temp.index,\n",
    "#                    \"values\":temp.values\n",
    "#                   })\n",
    "# # print(df)\n",
    "# df = df.sort_values('values', ascending=False)\n",
    "# print(df.loc[0:10])\n",
    "# ax = df['values'][0:10].plot(kind='bar')"
   ]
  },
  {
   "cell_type": "code",
   "execution_count": null,
   "metadata": {},
   "outputs": [],
   "source": [
    "catAndTrgt(merge_df, \"mileage\")"
   ]
  },
  {
   "cell_type": "markdown",
   "metadata": {},
   "source": [
    "### all_post_count "
   ]
  },
  {
   "cell_type": "code",
   "execution_count": null,
   "metadata": {},
   "outputs": [],
   "source": [
    "catAndTrgt(merge_df, \"all_post_count\")"
   ]
  },
  {
   "cell_type": "code",
   "execution_count": null,
   "metadata": {},
   "outputs": [],
   "source": [
    "catAndTrgt(merge_df, \"excellent_post_count\")"
   ]
  },
  {
   "cell_type": "code",
   "execution_count": null,
   "metadata": {},
   "outputs": [],
   "source": [
    "catAndTrgt(merge_df, \"car_like\")"
   ]
  },
  {
   "cell_type": "code",
   "execution_count": null,
   "metadata": {},
   "outputs": [],
   "source": [
    "merge_df.dtypes"
   ]
  },
  {
   "cell_type": "code",
   "execution_count": null,
   "metadata": {},
   "outputs": [],
   "source": [
    "# cars\n",
    "cars = merge_df"
   ]
  },
  {
   "cell_type": "markdown",
   "metadata": {},
   "source": [
    "### feature extaction"
   ]
  },
  {
   "cell_type": "code",
   "execution_count": null,
   "metadata": {},
   "outputs": [],
   "source": [
    "# mapping string to categorical number"
   ]
  }
 ],
 "metadata": {
  "kernelspec": {
   "display_name": "Python 3",
   "language": "python",
   "name": "python3"
  },
  "language_info": {
   "codemirror_mode": {
    "name": "ipython",
    "version": 3
   },
   "file_extension": ".py",
   "mimetype": "text/x-python",
   "name": "python",
   "nbconvert_exporter": "python",
   "pygments_lexer": "ipython3",
   "version": "3.6.4"
  }
 },
 "nbformat": 4,
 "nbformat_minor": 2
}
