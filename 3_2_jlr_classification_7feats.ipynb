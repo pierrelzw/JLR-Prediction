{
 "cells": [
  {
   "cell_type": "code",
   "execution_count": 1,
   "metadata": {},
   "outputs": [
    {
     "data": {
      "text/html": [
       "<script>requirejs.config({paths: { 'plotly': ['https://cdn.plot.ly/plotly-latest.min']},});if(!window.Plotly) {{require(['plotly'],function(plotly) {window.Plotly=plotly;});}}</script>"
      ],
      "text/vnd.plotly.v1+html": [
       "<script>requirejs.config({paths: { 'plotly': ['https://cdn.plot.ly/plotly-latest.min']},});if(!window.Plotly) {{require(['plotly'],function(plotly) {window.Plotly=plotly;});}}</script>"
      ]
     },
     "metadata": {},
     "output_type": "display_data"
    }
   ],
   "source": [
    "import numpy as np\n",
    "import pandas as pd\n",
    "from sklearn.model_selection import train_test_split\n",
    "import matplotlib.pyplot as plt\n",
    "from sklearn.svm import SVC\n",
    "from sklearn.metrics import confusion_matrix, classification_report\n",
    "import matplotlib\n",
    "from sklearn.metrics import roc_curve, auc\n",
    "\n",
    "import lightgbm as lgb\n",
    "import utils\n",
    "\n",
    "# supression warnings\n",
    "import warnings\n",
    "warnings.filterwarnings('ignore')\n",
    "%matplotlib inline"
   ]
  },
  {
   "cell_type": "markdown",
   "metadata": {},
   "source": [
    "### Load data"
   ]
  },
  {
   "cell_type": "code",
   "execution_count": 2,
   "metadata": {},
   "outputs": [
    {
     "data": {
      "text/html": [
       "<div>\n",
       "<style scoped>\n",
       "    .dataframe tbody tr th:only-of-type {\n",
       "        vertical-align: middle;\n",
       "    }\n",
       "\n",
       "    .dataframe tbody tr th {\n",
       "        vertical-align: top;\n",
       "    }\n",
       "\n",
       "    .dataframe thead th {\n",
       "        text-align: right;\n",
       "    }\n",
       "</style>\n",
       "<table border=\"1\" class=\"dataframe\">\n",
       "  <thead>\n",
       "    <tr style=\"text-align: right;\">\n",
       "      <th></th>\n",
       "      <th>user_id</th>\n",
       "      <th>follow_count</th>\n",
       "      <th>fans_count</th>\n",
       "      <th>gender</th>\n",
       "      <th>birthday</th>\n",
       "      <th>location</th>\n",
       "      <th>level</th>\n",
       "      <th>registration_time</th>\n",
       "      <th>properties</th>\n",
       "      <th>mileage</th>\n",
       "      <th>...</th>\n",
       "      <th>car_friend_zone</th>\n",
       "      <th>label</th>\n",
       "      <th>car_like</th>\n",
       "      <th>excellent_post_count</th>\n",
       "      <th>all_post_count</th>\n",
       "      <th>regis_year</th>\n",
       "      <th>regis_month</th>\n",
       "      <th>regis_day</th>\n",
       "      <th>date</th>\n",
       "      <th>date_delta</th>\n",
       "    </tr>\n",
       "  </thead>\n",
       "  <tbody>\n",
       "    <tr>\n",
       "      <th>0</th>\n",
       "      <td>oden123</td>\n",
       "      <td>0</td>\n",
       "      <td>0</td>\n",
       "      <td>2</td>\n",
       "      <td>NaT</td>\n",
       "      <td>1</td>\n",
       "      <td>1</td>\n",
       "      <td>2018-03-26</td>\n",
       "      <td>1</td>\n",
       "      <td>4430</td>\n",
       "      <td>...</td>\n",
       "      <td>NaN</td>\n",
       "      <td>True</td>\n",
       "      <td>1</td>\n",
       "      <td>0</td>\n",
       "      <td>0</td>\n",
       "      <td>2018</td>\n",
       "      <td>3</td>\n",
       "      <td>3</td>\n",
       "      <td>2018-03-26</td>\n",
       "      <td>4522</td>\n",
       "    </tr>\n",
       "    <tr>\n",
       "      <th>1</th>\n",
       "      <td>生活1934626</td>\n",
       "      <td>2</td>\n",
       "      <td>4</td>\n",
       "      <td>2</td>\n",
       "      <td>NaT</td>\n",
       "      <td>2</td>\n",
       "      <td>1</td>\n",
       "      <td>2012-05-07</td>\n",
       "      <td>1</td>\n",
       "      <td>4270</td>\n",
       "      <td>...</td>\n",
       "      <td>[{'名称': '汽车之家甘肃论坛车友会', '人数': 672, '创建时间': '201...</td>\n",
       "      <td>True</td>\n",
       "      <td>2</td>\n",
       "      <td>0</td>\n",
       "      <td>0</td>\n",
       "      <td>2012</td>\n",
       "      <td>5</td>\n",
       "      <td>5</td>\n",
       "      <td>2012-05-07</td>\n",
       "      <td>2373</td>\n",
       "    </tr>\n",
       "    <tr>\n",
       "      <th>2</th>\n",
       "      <td>wangzi1125</td>\n",
       "      <td>0</td>\n",
       "      <td>1</td>\n",
       "      <td>2</td>\n",
       "      <td>NaT</td>\n",
       "      <td>3</td>\n",
       "      <td>1</td>\n",
       "      <td>2017-06-18</td>\n",
       "      <td>1</td>\n",
       "      <td>2090</td>\n",
       "      <td>...</td>\n",
       "      <td>NaN</td>\n",
       "      <td>True</td>\n",
       "      <td>3</td>\n",
       "      <td>0</td>\n",
       "      <td>1</td>\n",
       "      <td>2017</td>\n",
       "      <td>6</td>\n",
       "      <td>6</td>\n",
       "      <td>2017-06-18</td>\n",
       "      <td>4241</td>\n",
       "    </tr>\n",
       "  </tbody>\n",
       "</table>\n",
       "<p>3 rows × 24 columns</p>\n",
       "</div>"
      ],
      "text/plain": [
       "      user_id  follow_count  fans_count  gender birthday  location  level  \\\n",
       "0     oden123             0           0       2      NaT         1      1   \n",
       "1   生活1934626             2           4       2      NaT         2      1   \n",
       "2  wangzi1125             0           1       2      NaT         3      1   \n",
       "\n",
       "  registration_time  properties  mileage     ...      \\\n",
       "0        2018-03-26           1     4430     ...       \n",
       "1        2012-05-07           1     4270     ...       \n",
       "2        2017-06-18           1     2090     ...       \n",
       "\n",
       "                                     car_friend_zone label car_like  \\\n",
       "0                                                NaN  True        1   \n",
       "1  [{'名称': '汽车之家甘肃论坛车友会', '人数': 672, '创建时间': '201...  True        2   \n",
       "2                                                NaN  True        3   \n",
       "\n",
       "  excellent_post_count all_post_count  regis_year  regis_month  regis_day  \\\n",
       "0                    0              0        2018            3          3   \n",
       "1                    0              0        2012            5          5   \n",
       "2                    0              1        2017            6          6   \n",
       "\n",
       "        date  date_delta  \n",
       "0 2018-03-26        4522  \n",
       "1 2012-05-07        2373  \n",
       "2 2017-06-18        4241  \n",
       "\n",
       "[3 rows x 24 columns]"
      ]
     },
     "execution_count": 2,
     "metadata": {},
     "output_type": "execute_result"
    }
   ],
   "source": [
    "data_path = './data/jlr_all_user_processed.xlsx'\n",
    "df = pd.read_excel(data_path)\n",
    "df.head(3)"
   ]
  },
  {
   "cell_type": "code",
   "execution_count": 3,
   "metadata": {},
   "outputs": [
    {
     "data": {
      "text/plain": [
       "Index(['user_id', 'follow_count', 'fans_count', 'gender', 'birthday',\n",
       "       'location', 'level', 'registration_time', 'properties', 'mileage',\n",
       "       'post', 'cars', 'koubei_post', 'gas_mileage', 'car_friend_zone',\n",
       "       'label', 'car_like', 'excellent_post_count', 'all_post_count',\n",
       "       'regis_year', 'regis_month', 'regis_day', 'date', 'date_delta'],\n",
       "      dtype='object')"
      ]
     },
     "execution_count": 3,
     "metadata": {},
     "output_type": "execute_result"
    }
   ],
   "source": [
    "df.keys()"
   ]
  },
  {
   "cell_type": "code",
   "execution_count": 4,
   "metadata": {},
   "outputs": [
    {
     "data": {
      "text/plain": [
       "user_id                         object\n",
       "follow_count                     int64\n",
       "fans_count                       int64\n",
       "gender                           int64\n",
       "birthday                datetime64[ns]\n",
       "location                         int64\n",
       "level                            int64\n",
       "registration_time       datetime64[ns]\n",
       "properties                       int64\n",
       "mileage                          int64\n",
       "post                            object\n",
       "cars                            object\n",
       "koubei_post                     object\n",
       "gas_mileage                     object\n",
       "car_friend_zone                 object\n",
       "label                             bool\n",
       "car_like                         int64\n",
       "excellent_post_count             int64\n",
       "all_post_count                   int64\n",
       "regis_year                       int64\n",
       "regis_month                      int64\n",
       "regis_day                        int64\n",
       "date                    datetime64[ns]\n",
       "date_delta                       int64\n",
       "dtype: object"
      ]
     },
     "execution_count": 4,
     "metadata": {},
     "output_type": "execute_result"
    }
   ],
   "source": [
    "# data type\n",
    "df.dtypes"
   ]
  },
  {
   "cell_type": "markdown",
   "metadata": {},
   "source": [
    "### Data choosing  \n",
    "we choose some features to build the machine learning model"
   ]
  },
  {
   "cell_type": "code",
   "execution_count": 5,
   "metadata": {},
   "outputs": [
    {
     "data": {
      "text/html": [
       "<div>\n",
       "<style scoped>\n",
       "    .dataframe tbody tr th:only-of-type {\n",
       "        vertical-align: middle;\n",
       "    }\n",
       "\n",
       "    .dataframe tbody tr th {\n",
       "        vertical-align: top;\n",
       "    }\n",
       "\n",
       "    .dataframe thead th {\n",
       "        text-align: right;\n",
       "    }\n",
       "</style>\n",
       "<table border=\"1\" class=\"dataframe\">\n",
       "  <thead>\n",
       "    <tr style=\"text-align: right;\">\n",
       "      <th></th>\n",
       "      <th>follow_count</th>\n",
       "      <th>fans_count</th>\n",
       "      <th>location</th>\n",
       "      <th>mileage</th>\n",
       "      <th>car_like</th>\n",
       "      <th>all_post_count</th>\n",
       "      <th>date_delta</th>\n",
       "    </tr>\n",
       "  </thead>\n",
       "  <tbody>\n",
       "    <tr>\n",
       "      <th>0</th>\n",
       "      <td>0</td>\n",
       "      <td>0</td>\n",
       "      <td>1</td>\n",
       "      <td>4430</td>\n",
       "      <td>1</td>\n",
       "      <td>0</td>\n",
       "      <td>4522</td>\n",
       "    </tr>\n",
       "    <tr>\n",
       "      <th>1</th>\n",
       "      <td>2</td>\n",
       "      <td>4</td>\n",
       "      <td>2</td>\n",
       "      <td>4270</td>\n",
       "      <td>2</td>\n",
       "      <td>0</td>\n",
       "      <td>2373</td>\n",
       "    </tr>\n",
       "  </tbody>\n",
       "</table>\n",
       "</div>"
      ],
      "text/plain": [
       "   follow_count  fans_count  location  mileage  car_like  all_post_count  \\\n",
       "0             0           0         1     4430         1               0   \n",
       "1             2           4         2     4270         2               0   \n",
       "\n",
       "   date_delta  \n",
       "0        4522  \n",
       "1        2373  "
      ]
     },
     "execution_count": 5,
     "metadata": {},
     "output_type": "execute_result"
    }
   ],
   "source": [
    "x = df.drop(columns=[\n",
    "                      'user_id',\n",
    "#                      'follow_count',\n",
    "#                      'fans_count', \n",
    "                     'gender', \n",
    "                      'birthday',\n",
    "#                      'location',\n",
    "                     'level',\n",
    "                      'registration_time',\n",
    "                     'properties',\n",
    "#                      'mileage',\n",
    "                      'post',\n",
    "                      'cars',\n",
    "                      'koubei_post',\n",
    "                      'gas_mileage',\n",
    "                      'car_friend_zone',\n",
    "                      'label',\n",
    "#                      'car_like', \n",
    "                     'excellent_post_count',\n",
    "#                      'all_post_count',\n",
    "                      'regis_year',\n",
    "                      'regis_month',\n",
    "                      'regis_day', \n",
    "                      'date',\n",
    "#                      'date_delta'\n",
    "                     ])\n",
    "x.head(2)"
   ]
  },
  {
   "cell_type": "code",
   "execution_count": 6,
   "metadata": {},
   "outputs": [
    {
     "data": {
      "application/vnd.plotly.v1+json": {
       "data": [
        {
         "hoverinfo": "all",
         "labels": [
          false,
          true
         ],
         "marker": {
          "colors": [
           "#96D38C",
           "#FEBFB3"
          ],
          "line": {
           "color": "#fff",
           "width": 2
          }
         },
         "textfont": {
          "size": 12
         },
         "textinfo": "value",
         "type": "pie",
         "uid": "0e02f41c-ac7a-11e8-a511-6c40089fb510",
         "values": [
          4830,
          725
         ]
        }
       ],
       "layout": {
        "height": 400,
        "title": "label"
       }
      },
      "text/html": [
       "<div id=\"ee574098-c446-49fa-bc07-d1d41716c2ed\" style=\"height: 400px; width: 100%;\" class=\"plotly-graph-div\"></div><script type=\"text/javascript\">require([\"plotly\"], function(Plotly) { window.PLOTLYENV=window.PLOTLYENV || {};window.PLOTLYENV.BASE_URL=\"https://plot.ly\";\n",
       "        Plotly.plot(\n",
       "            'ee574098-c446-49fa-bc07-d1d41716c2ed',\n",
       "            [{\"hoverinfo\": \"all\", \"labels\": [false, true], \"marker\": {\"colors\": [\"#96D38C\", \"#FEBFB3\"], \"line\": {\"color\": \"#fff\", \"width\": 2}}, \"textfont\": {\"size\": 12}, \"textinfo\": \"value\", \"values\": [4830.0, 725.0], \"type\": \"pie\", \"uid\": \"0e02f41c-ac7a-11e8-a511-6c40089fb510\"}],\n",
       "            {\"height\": 400, \"title\": \"label\"},\n",
       "            {\"showLink\": true, \"linkText\": \"Export to plot.ly\"}\n",
       "        ).then(function () {return Plotly.addFrames('ee574098-c446-49fa-bc07-d1d41716c2ed',{});}).then(function(){Plotly.animate('ee574098-c446-49fa-bc07-d1d41716c2ed');})\n",
       "        });</script>"
      ],
      "text/vnd.plotly.v1+html": [
       "<div id=\"ee574098-c446-49fa-bc07-d1d41716c2ed\" style=\"height: 400px; width: 100%;\" class=\"plotly-graph-div\"></div><script type=\"text/javascript\">require([\"plotly\"], function(Plotly) { window.PLOTLYENV=window.PLOTLYENV || {};window.PLOTLYENV.BASE_URL=\"https://plot.ly\";\n",
       "        Plotly.plot(\n",
       "            'ee574098-c446-49fa-bc07-d1d41716c2ed',\n",
       "            [{\"hoverinfo\": \"all\", \"labels\": [false, true], \"marker\": {\"colors\": [\"#96D38C\", \"#FEBFB3\"], \"line\": {\"color\": \"#fff\", \"width\": 2}}, \"textfont\": {\"size\": 12}, \"textinfo\": \"value\", \"values\": [4830.0, 725.0], \"type\": \"pie\", \"uid\": \"0e02f41c-ac7a-11e8-a511-6c40089fb510\"}],\n",
       "            {\"height\": 400, \"title\": \"label\"},\n",
       "            {\"showLink\": true, \"linkText\": \"Export to plot.ly\"}\n",
       "        ).then(function () {return Plotly.addFrames('ee574098-c446-49fa-bc07-d1d41716c2ed',{});}).then(function(){Plotly.animate('ee574098-c446-49fa-bc07-d1d41716c2ed');})\n",
       "        });</script>"
      ]
     },
     "metadata": {},
     "output_type": "display_data"
    }
   ],
   "source": [
    "y = df['label'].astype('uint8')\n",
    "utils.exploreCat(df, 'label')"
   ]
  },
  {
   "cell_type": "code",
   "execution_count": 7,
   "metadata": {},
   "outputs": [
    {
     "data": {
      "text/plain": [
       "((5555, 7), (5555,))"
      ]
     },
     "execution_count": 7,
     "metadata": {},
     "output_type": "execute_result"
    }
   ],
   "source": [
    "# dataset size\n",
    "_x, _y = np.array(x).astype('int'), np.array(y).astype('int')\n",
    "_x.shape, _y.shape"
   ]
  },
  {
   "cell_type": "markdown",
   "metadata": {},
   "source": [
    "### Split dataset into train/validation/test set\n",
    "train:validation:test = 8:1:1"
   ]
  },
  {
   "cell_type": "code",
   "execution_count": 8,
   "metadata": {},
   "outputs": [],
   "source": [
    "x_train, x_test, y_train, y_test = train_test_split(_x, _y, test_size=0.2,  random_state = 42)\n",
    "x_val, x_test, y_val, y_test = train_test_split(x_test, y_test, test_size=0.5,  random_state = 42)"
   ]
  },
  {
   "cell_type": "code",
   "execution_count": 9,
   "metadata": {},
   "outputs": [
    {
     "name": "stdout",
     "output_type": "stream",
     "text": [
      "(4444, 7) (555, 7) (556, 7)\n"
     ]
    }
   ],
   "source": [
    "print(x_train.shape, x_val.shape, x_test.shape)"
   ]
  },
  {
   "cell_type": "code",
   "execution_count": 10,
   "metadata": {},
   "outputs": [
    {
     "name": "stdout",
     "output_type": "stream",
     "text": [
      "In train set, positive : negative = 578:3866=1:6.688581314878893 \n",
      "In validation set, positive : negative = 67:488=1:7.2835820895522385\n",
      "In test set, positive : negative = 80:476=1:5.95\n"
     ]
    }
   ],
   "source": [
    "# positive/negative propotion in dataset\n",
    "print(\"In train set, positive : negative = {}:{}=1:{} \".format(sum(y_train==1),sum(y_train==0), sum(y_train==0)/sum(y_train==1)))\n",
    "print(\"In validation set, positive : negative = {}:{}=1:{}\".format(sum(y_val==1),sum(y_val==0), sum(y_val==0)/sum(y_val==1)))\n",
    "print(\"In test set, positive : negative = {}:{}=1:{}\".format(sum(y_test==1),sum(y_test==0),sum(y_test==0)/sum(y_test==1)))"
   ]
  },
  {
   "cell_type": "markdown",
   "metadata": {},
   "source": [
    "### Build SVM model then train with above dataset\n",
    "Reference: http://scikit-learn.org/stable/modules/generated/sklearn.svm.SVC.html"
   ]
  },
  {
   "cell_type": "code",
   "execution_count": 11,
   "metadata": {},
   "outputs": [
    {
     "data": {
      "text/plain": [
       "SVC(C=0.8, cache_size=200, class_weight='balanced', coef0=0.0,\n",
       "  decision_function_shape='ovr', degree=3, gamma='auto', kernel='rbf',\n",
       "  max_iter=-1, probability=False, random_state=None, shrinking=True,\n",
       "  tol=0.001, verbose=False)"
      ]
     },
     "execution_count": 11,
     "metadata": {},
     "output_type": "execute_result"
    }
   ],
   "source": [
    "clf = SVC(C=0.8, kernel='rbf', class_weight='balanced')\n",
    "clf.fit(x_train, y_train)"
   ]
  },
  {
   "cell_type": "code",
   "execution_count": 12,
   "metadata": {},
   "outputs": [
    {
     "name": "stdout",
     "output_type": "stream",
     "text": [
      "             precision    recall  f1-score   support\n",
      "\n",
      "          0       0.85      0.92      0.88       476\n",
      "          1       0.03      0.01      0.02        80\n",
      "\n",
      "avg / total       0.73      0.79      0.76       556\n",
      "\n"
     ]
    }
   ],
   "source": [
    "pred = clf.predict(x_test)\n",
    "print(classification_report(y_true=y_test, y_pred=pred))"
   ]
  },
  {
   "cell_type": "markdown",
   "metadata": {},
   "source": [
    "### Build lightgbm model and train with above dataset\n",
    "Reference:\n",
    "1. https://lightgbm.readthedocs.io/en/latest/Python-Intro.html \n",
    "2. https://www.kaggle.com/bk0000/non-blending-lightgbm-model-lb-0-977 \n",
    "3. https://www.jianshu.com/p/b4ac0596e5ef"
   ]
  },
  {
   "cell_type": "markdown",
   "metadata": {},
   "source": [
    "#### Lightgbm dataset construction"
   ]
  },
  {
   "cell_type": "code",
   "execution_count": 13,
   "metadata": {},
   "outputs": [],
   "source": [
    "feature_name = list(x.keys())\n",
    "categorical_feature = [\n",
    "#                         'gender',\n",
    "                       'location',\n",
    "#                        'level', \n",
    "#                        'properties', \n",
    "                       'car_like',\n",
    "                     #'regis_year', 'regis_month', 'regis_day',\n",
    "                                            ]\n",
    "train_data = lgb.Dataset(x_train, \n",
    "                         label=y_train,\n",
    "                         feature_name=feature_name,\n",
    "                         categorical_feature=categorical_feature,\n",
    "                        )\n",
    "val_data = lgb.Dataset(x_val, \n",
    "                       label=y_val,\n",
    "                       feature_name=feature_name,\n",
    "                       categorical_feature=categorical_feature,\n",
    "                      )\n",
    "test_data = lgb.Dataset(x_test, \n",
    "                        label = y_test,\n",
    "                        feature_name=feature_name,\n",
    "                        categorical_feature=categorical_feature,\n",
    "                       )\n",
    "# feature_name, categorical_feature"
   ]
  },
  {
   "cell_type": "markdown",
   "metadata": {},
   "source": [
    "#### Setting parameters"
   ]
  },
  {
   "cell_type": "code",
   "execution_count": 14,
   "metadata": {},
   "outputs": [
    {
     "name": "stdout",
     "output_type": "stream",
     "text": [
      "Hyper-parameters:\n",
      "{'boosting_type': 'gbdt', 'objective': 'binary', 'metric': ['binary_logloss', 'auc'], 'learning_rate': 0.35, 'num_leaves': 12, 'max_depth': 7, 'min_data_in_leaf': 35, 'feature_fraction': 0.989010693577643, 'bagging_fraction': 0.9443811388260757, 'bagging_freq': 1, 'lambda_l1': 1.393401655023673, 'lambda_l2': 8155.770150999144, 'min_gain_to_split': 0.0, 'min_sum_hessian_in_leaf': 0.1, 'num_threads': 16, 'verbose': 0, 'is_training_metric': 'True'}\n"
     ]
    }
   ],
   "source": [
    "# parameters searching\n",
    "params = {\n",
    "    'boosting_type': 'gbdt',  # np.random.choice(['dart', 'gbdt']),\n",
    "    'objective': 'binary',\n",
    "    'metric': ['binary_logloss', 'auc'], \n",
    "    \n",
    "    'learning_rate': 0.35,\n",
    "    \n",
    "    'num_leaves': np.random.randint(10,13),\n",
    "    'max_depth': np.random.randint(7,10),\n",
    "    'min_data_in_leaf': int(2 ** (np.random.rand()*1.5 + 5)),\n",
    "    \n",
    "    'feature_fraction': np.random.rand()*0.35+0.65,\n",
    "    'bagging_fraction': np.random.rand()*0.35+0.65,\n",
    "    'bagging_freq': 1,\n",
    "    \n",
    "    'lambda_l1': 10 ** (np.random.rand() * 2),\n",
    "    'lambda_l2': 10 ** (np.random.rand() * 3 + 2),\n",
    "    'min_gain_to_split': 0.0,\n",
    "    'min_sum_hessian_in_leaf': 0.1,\n",
    "    \n",
    "    'num_threads': 16,\n",
    "    'verbose': 0,\n",
    "    'is_training_metric': 'True'\n",
    "}\n",
    "print('Hyper-parameters:')\n",
    "print(params)"
   ]
  },
  {
   "cell_type": "code",
   "execution_count": 15,
   "metadata": {},
   "outputs": [],
   "source": [
    "# fixed hyper-parameters ()\n",
    "params = {'boosting_type': 'gbdt',\n",
    "          'objective': 'binary', \n",
    "          'metric': ['binary_logloss', 'auc'],\n",
    "          'learning_rate': 0.35,\n",
    "          'num_leaves': 10, \n",
    "          'max_depth': 7, \n",
    "          'min_data_in_leaf': 33,\n",
    "          'feature_fraction': 0.8620080824970171, \n",
    "          'bagging_fraction': 0.6910399929414417, \n",
    "          'bagging_freq': 1, \n",
    "          'lambda_l1': 1.444334975288693,\n",
    "          'lambda_l2': 28608.211413520003, \n",
    "          'min_gain_to_split': 0.0,\n",
    "          'min_sum_hessian_in_leaf': 0.1, \n",
    "          'num_threads': 16, \n",
    "          'verbose': 0, \n",
    "          'is_training_metric': 'True'}"
   ]
  },
  {
   "cell_type": "markdown",
   "metadata": {},
   "source": [
    "#### Training "
   ]
  },
  {
   "cell_type": "code",
   "execution_count": 16,
   "metadata": {},
   "outputs": [
    {
     "name": "stdout",
     "output_type": "stream",
     "text": [
      "Training until validation scores don't improve for 3000 rounds.\n",
      "[300]\ttrain's auc: 0.796042\ttrain's binary_logloss: 0.355522\tvalid's auc: 0.715302\tvalid's binary_logloss: 0.346459\n",
      "[600]\ttrain's auc: 0.800835\ttrain's binary_logloss: 0.337735\tvalid's auc: 0.718528\tvalid's binary_logloss: 0.335433\n",
      "[900]\ttrain's auc: 0.806491\ttrain's binary_logloss: 0.326476\tvalid's auc: 0.726725\tvalid's binary_logloss: 0.328856\n",
      "[1200]\ttrain's auc: 0.811642\ttrain's binary_logloss: 0.318369\tvalid's auc: 0.72752\tvalid's binary_logloss: 0.324829\n",
      "[1500]\ttrain's auc: 0.816267\ttrain's binary_logloss: 0.311996\tvalid's auc: 0.729019\tvalid's binary_logloss: 0.3219\n",
      "[1800]\ttrain's auc: 0.820654\ttrain's binary_logloss: 0.306814\tvalid's auc: 0.731924\tvalid's binary_logloss: 0.31953\n",
      "[2100]\ttrain's auc: 0.824814\ttrain's binary_logloss: 0.302504\tvalid's auc: 0.733545\tvalid's binary_logloss: 0.317552\n",
      "[2400]\ttrain's auc: 0.828468\ttrain's binary_logloss: 0.298851\tvalid's auc: 0.734157\tvalid's binary_logloss: 0.316145\n",
      "[2700]\ttrain's auc: 0.832008\ttrain's binary_logloss: 0.295688\tvalid's auc: 0.7359\tvalid's binary_logloss: 0.31496\n",
      "[3000]\ttrain's auc: 0.834876\ttrain's binary_logloss: 0.292884\tvalid's auc: 0.73691\tvalid's binary_logloss: 0.313922\n",
      "[3300]\ttrain's auc: 0.83779\ttrain's binary_logloss: 0.290416\tvalid's auc: 0.737338\tvalid's binary_logloss: 0.313111\n",
      "[3600]\ttrain's auc: 0.840596\ttrain's binary_logloss: 0.288208\tvalid's auc: 0.737736\tvalid's binary_logloss: 0.31237\n",
      "[3900]\ttrain's auc: 0.843137\ttrain's binary_logloss: 0.286221\tvalid's auc: 0.738347\tvalid's binary_logloss: 0.311795\n",
      "[4200]\ttrain's auc: 0.845707\ttrain's binary_logloss: 0.284402\tvalid's auc: 0.738714\tvalid's binary_logloss: 0.311412\n",
      "[4500]\ttrain's auc: 0.848218\ttrain's binary_logloss: 0.282694\tvalid's auc: 0.738928\tvalid's binary_logloss: 0.311113\n",
      "[4800]\ttrain's auc: 0.85047\ttrain's binary_logloss: 0.281092\tvalid's auc: 0.738806\tvalid's binary_logloss: 0.310978\n",
      "[5100]\ttrain's auc: 0.852672\ttrain's binary_logloss: 0.279555\tvalid's auc: 0.739112\tvalid's binary_logloss: 0.310711\n",
      "[5400]\ttrain's auc: 0.854909\ttrain's binary_logloss: 0.27815\tvalid's auc: 0.739387\tvalid's binary_logloss: 0.310526\n",
      "[5700]\ttrain's auc: 0.856878\ttrain's binary_logloss: 0.276819\tvalid's auc: 0.739724\tvalid's binary_logloss: 0.310318\n",
      "[6000]\ttrain's auc: 0.858983\ttrain's binary_logloss: 0.27553\tvalid's auc: 0.739265\tvalid's binary_logloss: 0.310286\n",
      "[6300]\ttrain's auc: 0.860935\ttrain's binary_logloss: 0.274314\tvalid's auc: 0.739142\tvalid's binary_logloss: 0.310307\n",
      "[6600]\ttrain's auc: 0.862819\ttrain's binary_logloss: 0.27314\tvalid's auc: 0.738561\tvalid's binary_logloss: 0.31045\n",
      "[6900]\ttrain's auc: 0.864733\ttrain's binary_logloss: 0.272014\tvalid's auc: 0.73847\tvalid's binary_logloss: 0.310537\n",
      "[7200]\ttrain's auc: 0.866562\ttrain's binary_logloss: 0.270957\tvalid's auc: 0.738041\tvalid's binary_logloss: 0.310754\n",
      "[7500]\ttrain's auc: 0.868046\ttrain's binary_logloss: 0.269906\tvalid's auc: 0.737827\tvalid's binary_logloss: 0.310916\n",
      "[7800]\ttrain's auc: 0.869892\ttrain's binary_logloss: 0.26887\tvalid's auc: 0.73798\tvalid's binary_logloss: 0.311\n",
      "[8100]\ttrain's auc: 0.87141\ttrain's binary_logloss: 0.267862\tvalid's auc: 0.737705\tvalid's binary_logloss: 0.311115\n",
      "[8400]\ttrain's auc: 0.873009\ttrain's binary_logloss: 0.266925\tvalid's auc: 0.736971\tvalid's binary_logloss: 0.31129\n",
      "Early stopping, best iteration is:\n",
      "[5552]\ttrain's auc: 0.855828\ttrain's binary_logloss: 0.277471\tvalid's auc: 0.739938\tvalid's binary_logloss: 0.310437\n"
     ]
    }
   ],
   "source": [
    "evals_result = {}  # dict to store evaluation results of all the items in `valid_sets`\n",
    "\n",
    "gbm = lgb.train(params, \n",
    "                train_data, \n",
    "                num_boost_round=10000, \n",
    "                valid_sets=[train_data, val_data], \n",
    "                valid_names = ['train', 'valid'], \n",
    "                evals_result=evals_result, \n",
    "                early_stopping_rounds=3000, \n",
    "                verbose_eval=300)"
   ]
  },
  {
   "cell_type": "markdown",
   "metadata": {},
   "source": [
    "#### Plot trianing log"
   ]
  },
  {
   "cell_type": "code",
   "execution_count": 17,
   "metadata": {},
   "outputs": [
    {
     "data": {
      "image/png": "[encoded data removed]",
      "text/plain": [
       "<matplotlib.figure.Figure at 0x1a18cba940>"
      ]
     },
     "metadata": {},
     "output_type": "display_data"
    }
   ],
   "source": [
    "train_auc_log = evals_result['train']['binary_logloss']\n",
    "# type(train_auc_log)\n",
    "# len(train_auc_log)\n",
    "val_auc_log = evals_result['valid']['binary_logloss']\n",
    "\n",
    "# plot training logs\n",
    "plt.figure()\n",
    "plt.rcParams['savefig.dpi'] = 100 #图片像素\n",
    "plt.rcParams['figure.dpi'] = 100 #分辨率\n",
    "lw = 2\n",
    "plt.plot(range(len(train_auc_log)),train_auc_log, color='darkorange',\n",
    "         lw=lw, label=\"train's binary_logloss\")\n",
    "plt.plot(range(len(val_auc_log)),val_auc_log, color='blue',\n",
    "         lw=lw, label=\"valid's binary_logloss\")\n",
    "# plt.plot([0, 1], [0, 1], color='navy', lw=lw, linestyle='--')\n",
    "# plt.xlim([0.0, 1.0])\n",
    "# plt.ylim([0.0, 1.05])\n",
    "plt.xlabel('Boost round')\n",
    "plt.ylabel(\"binary_logloss\")\n",
    "plt.title('Train and validation loss during training')\n",
    "plt.legend(loc=\"lower right\")\n",
    "plt.show()"
   ]
  },
  {
   "cell_type": "code",
   "execution_count": 18,
   "metadata": {},
   "outputs": [],
   "source": [
    "# save best round results to csv\n",
    "bst_round = np.argmax(evals_result['valid']['auc'])\n",
    "trn_auc = evals_result['train']['auc'][bst_round]\n",
    "trn_loss = evals_result['train']['binary_logloss'][bst_round]\n",
    "val_auc = evals_result['valid']['auc'][bst_round]\n",
    "val_loss = evals_result['valid']['binary_logloss'][bst_round]"
   ]
  },
  {
   "cell_type": "code",
   "execution_count": 19,
   "metadata": {},
   "outputs": [
    {
     "name": "stdout",
     "output_type": "stream",
     "text": [
      "Best Round: 5551\n",
      "Training loss: 0.27747, Validation loss: 0.31044\n",
      "Training AUC : 0.85583, Validation AUC : 0.73994\n",
      "Save model to file: ./models/trn_auc0.855_val_auc0.739.txt\n"
     ]
    }
   ],
   "source": [
    "print('Best Round: %d'%bst_round)\n",
    "print('Training loss: %.5f, Validation loss: %.5f'%(trn_loss, val_loss))\n",
    "print('Training AUC : %.5f, Validation AUC : %.5f'%(trn_auc, val_auc))\n",
    "\n",
    "# save model to file\n",
    "model_save_path = './models/trn_auc' + str(trn_auc)[:5] + '_' + 'val_auc' + str(val_auc)[:5] + '.txt'\n",
    "print('Save model to file: {}'.format(model_save_path))\n",
    "gbm.save_model(model_save_path)"
   ]
  },
  {
   "cell_type": "code",
   "execution_count": 20,
   "metadata": {},
   "outputs": [
    {
     "data": {
      "image/png": "[encoded data removed]",
      "text/plain": [
       "<matplotlib.figure.Figure at 0x1a18e09fd0>"
      ]
     },
     "metadata": {},
     "output_type": "display_data"
    }
   ],
   "source": [
    "feature_importance = pd.DataFrame({'name':gbm.feature_name(), 'importance':gbm.feature_importance()}).sort_values(by='importance', ascending=False)\n",
    "feature_importance.to_csv('./feat_importance.csv', index=False)\n",
    "# fig = matplotlib.pyplot.gcf()\n",
    "# fig.set_size_inches(15, 5)\n",
    "plt.rcParams['savefig.dpi'] = 100 #图片像素\n",
    "plt.rcParams['figure.dpi'] = 100 #分辨率\n",
    "feature_importance.plot(x='name', y='importance',kind='barh')\n",
    "# plt.savefig('plot123_2.png', dpi=300) \n",
    "plt.show()"
   ]
  },
  {
   "cell_type": "markdown",
   "metadata": {},
   "source": [
    "#### Using best model for Testing "
   ]
  },
  {
   "cell_type": "code",
   "execution_count": 21,
   "metadata": {},
   "outputs": [
    {
     "name": "stdout",
     "output_type": "stream",
     "text": [
      "Load model to predict\n",
      "             precision    recall  f1-score   support\n",
      "\n",
      "          0       0.89      0.99      0.94       476\n",
      "          1       0.85      0.28      0.42        80\n",
      "\n",
      "avg / total       0.88      0.89      0.86       556\n",
      "\n",
      "roc_auc:  0.7324054621848739\n"
     ]
    },
    {
     "data": {
      "image/png": "[encoded data removed]",
      "text/plain": [
       "<matplotlib.figure.Figure at 0x1a19171f98>"
      ]
     },
     "metadata": {},
     "output_type": "display_data"
    }
   ],
   "source": [
    "# load model to predict\n",
    "print('Load model to predict')\n",
    "# gbm = lgb.Booster(model_file=model_save_path)\n",
    "                  \n",
    "predictions = gbm.predict(x_test)\n",
    "\n",
    "y_pred = predictions >= 0.5\n",
    "# print(y_pred[:10])\n",
    "\n",
    "from sklearn.metrics import accuracy_score, confusion_matrix\n",
    "# print(accuracy_score(y_test, y_pred))\n",
    "print(classification_report(y_true=y_test, y_pred=y_pred))\n",
    "\n",
    "# AUC \n",
    "fpr, tpr,_ = roc_curve(y_test, predictions)\n",
    "roc_auc = auc(fpr, tpr)\n",
    "print(\"roc_auc: \",roc_auc)\n",
    "\n",
    "# plot ROC\n",
    "plt.figure()\n",
    "plt.rcParams['savefig.dpi'] = 100 #图片像素\n",
    "plt.rcParams['figure.dpi'] = 100 #分辨率\n",
    "lw = 2\n",
    "plt.plot(fpr, tpr, color='darkorange',\n",
    "         lw=lw, label='ROC curve (area = %0.2f)' % roc_auc)\n",
    "plt.plot([0, 1], [0, 1], color='navy', lw=lw, linestyle='--')\n",
    "plt.xlim([0.0, 1.0])\n",
    "plt.ylim([0.0, 1.05])\n",
    "plt.xlabel('False Positive Rate')\n",
    "plt.ylabel('True Positive Rate')\n",
    "plt.title('ROC')\n",
    "plt.legend(loc=\"lower right\")\n",
    "plt.show()"
   ]
  }
 ],
 "metadata": {
  "kernelspec": {
   "display_name": "Python 3",
   "language": "python",
   "name": "python3"
  },
  "language_info": {
   "codemirror_mode": {
    "name": "ipython",
    "version": 3
   },
   "file_extension": ".py",
   "mimetype": "text/x-python",
   "name": "python",
   "nbconvert_exporter": "python",
   "pygments_lexer": "ipython3",
   "version": "3.6.4"
  }
 },
 "nbformat": 4,
 "nbformat_minor": 2
}
