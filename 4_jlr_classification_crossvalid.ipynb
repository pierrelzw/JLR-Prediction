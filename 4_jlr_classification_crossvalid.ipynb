{
 "cells": [
  {
   "cell_type": "code",
   "execution_count": 1,
   "metadata": {},
   "outputs": [
    {
     "data": {
      "text/html": [
       "<script>requirejs.config({paths: { 'plotly': ['https://cdn.plot.ly/plotly-latest.min']},});if(!window.Plotly) {{require(['plotly'],function(plotly) {window.Plotly=plotly;});}}</script>"
      ],
      "text/vnd.plotly.v1+html": [
       "<script>requirejs.config({paths: { 'plotly': ['https://cdn.plot.ly/plotly-latest.min']},});if(!window.Plotly) {{require(['plotly'],function(plotly) {window.Plotly=plotly;});}}</script>"
      ]
     },
     "metadata": {},
     "output_type": "display_data"
    }
   ],
   "source": [
    "import numpy as np\n",
    "import pandas as pd\n",
    "from sklearn.model_selection import train_test_split\n",
    "import matplotlib.pyplot as plt\n",
    "from sklearn.svm import SVC\n",
    "\n",
    "from sklearn.metrics import confusion_matrix, classification_report\n",
    "import matplotlib\n",
    "from sklearn.metrics import roc_curve, auc\n",
    "import seaborn as sns\n",
    "\n",
    "import lightgbm as lgb\n",
    "import utils\n",
    "\n",
    "#supression warnings\n",
    "import warnings\n",
    "warnings.filterwarnings('ignore')\n",
    "%matplotlib inline"
   ]
  },
  {
   "cell_type": "markdown",
   "metadata": {},
   "source": [
    "### Load data"
   ]
  },
  {
   "cell_type": "code",
   "execution_count": 2,
   "metadata": {},
   "outputs": [
    {
     "data": {
      "text/html": [
       "<div>\n",
       "<style scoped>\n",
       "    .dataframe tbody tr th:only-of-type {\n",
       "        vertical-align: middle;\n",
       "    }\n",
       "\n",
       "    .dataframe tbody tr th {\n",
       "        vertical-align: top;\n",
       "    }\n",
       "\n",
       "    .dataframe thead th {\n",
       "        text-align: right;\n",
       "    }\n",
       "</style>\n",
       "<table border=\"1\" class=\"dataframe\">\n",
       "  <thead>\n",
       "    <tr style=\"text-align: right;\">\n",
       "      <th></th>\n",
       "      <th>user_id</th>\n",
       "      <th>follow_count</th>\n",
       "      <th>fans_count</th>\n",
       "      <th>gender</th>\n",
       "      <th>birthday</th>\n",
       "      <th>location</th>\n",
       "      <th>level</th>\n",
       "      <th>registration_time</th>\n",
       "      <th>properties</th>\n",
       "      <th>mileage</th>\n",
       "      <th>...</th>\n",
       "      <th>car_friend_zone</th>\n",
       "      <th>label</th>\n",
       "      <th>car_like</th>\n",
       "      <th>excellent_post_count</th>\n",
       "      <th>all_post_count</th>\n",
       "      <th>regis_year</th>\n",
       "      <th>regis_month</th>\n",
       "      <th>regis_day</th>\n",
       "      <th>date</th>\n",
       "      <th>date_delta</th>\n",
       "    </tr>\n",
       "  </thead>\n",
       "  <tbody>\n",
       "    <tr>\n",
       "      <th>0</th>\n",
       "      <td>oden123</td>\n",
       "      <td>0</td>\n",
       "      <td>0</td>\n",
       "      <td>2</td>\n",
       "      <td>NaT</td>\n",
       "      <td>1</td>\n",
       "      <td>1</td>\n",
       "      <td>2018-03-26</td>\n",
       "      <td>1</td>\n",
       "      <td>4430</td>\n",
       "      <td>...</td>\n",
       "      <td>NaN</td>\n",
       "      <td>True</td>\n",
       "      <td>1</td>\n",
       "      <td>0</td>\n",
       "      <td>0</td>\n",
       "      <td>2018</td>\n",
       "      <td>3</td>\n",
       "      <td>3</td>\n",
       "      <td>2018-03-26</td>\n",
       "      <td>4522</td>\n",
       "    </tr>\n",
       "    <tr>\n",
       "      <th>1</th>\n",
       "      <td>生活1934626</td>\n",
       "      <td>2</td>\n",
       "      <td>4</td>\n",
       "      <td>2</td>\n",
       "      <td>NaT</td>\n",
       "      <td>2</td>\n",
       "      <td>1</td>\n",
       "      <td>2012-05-07</td>\n",
       "      <td>1</td>\n",
       "      <td>4270</td>\n",
       "      <td>...</td>\n",
       "      <td>[{'名称': '汽车之家甘肃论坛车友会', '人数': 672, '创建时间': '201...</td>\n",
       "      <td>True</td>\n",
       "      <td>2</td>\n",
       "      <td>0</td>\n",
       "      <td>0</td>\n",
       "      <td>2012</td>\n",
       "      <td>5</td>\n",
       "      <td>5</td>\n",
       "      <td>2012-05-07</td>\n",
       "      <td>2373</td>\n",
       "    </tr>\n",
       "  </tbody>\n",
       "</table>\n",
       "<p>2 rows × 24 columns</p>\n",
       "</div>"
      ],
      "text/plain": [
       "     user_id  follow_count  fans_count  gender birthday  location  level  \\\n",
       "0    oden123             0           0       2      NaT         1      1   \n",
       "1  生活1934626             2           4       2      NaT         2      1   \n",
       "\n",
       "  registration_time  properties  mileage     ...      \\\n",
       "0        2018-03-26           1     4430     ...       \n",
       "1        2012-05-07           1     4270     ...       \n",
       "\n",
       "                                     car_friend_zone label car_like  \\\n",
       "0                                                NaN  True        1   \n",
       "1  [{'名称': '汽车之家甘肃论坛车友会', '人数': 672, '创建时间': '201...  True        2   \n",
       "\n",
       "  excellent_post_count all_post_count  regis_year  regis_month  regis_day  \\\n",
       "0                    0              0        2018            3          3   \n",
       "1                    0              0        2012            5          5   \n",
       "\n",
       "        date  date_delta  \n",
       "0 2018-03-26        4522  \n",
       "1 2012-05-07        2373  \n",
       "\n",
       "[2 rows x 24 columns]"
      ]
     },
     "execution_count": 2,
     "metadata": {},
     "output_type": "execute_result"
    }
   ],
   "source": [
    "data_path = './data/jlr_all_user_processed.xlsx'\n",
    "df = pd.read_excel(data_path)\n",
    "df.head(2)"
   ]
  },
  {
   "cell_type": "code",
   "execution_count": 3,
   "metadata": {},
   "outputs": [],
   "source": [
    "# df.keys(), df.dtypes"
   ]
  },
  {
   "cell_type": "markdown",
   "metadata": {},
   "source": [
    "### Data choosing  \n",
    "we choose some features to build the machine learning model"
   ]
  },
  {
   "cell_type": "code",
   "execution_count": 35,
   "metadata": {},
   "outputs": [
    {
     "data": {
      "text/html": [
       "<div>\n",
       "<style scoped>\n",
       "    .dataframe tbody tr th:only-of-type {\n",
       "        vertical-align: middle;\n",
       "    }\n",
       "\n",
       "    .dataframe tbody tr th {\n",
       "        vertical-align: top;\n",
       "    }\n",
       "\n",
       "    .dataframe thead th {\n",
       "        text-align: right;\n",
       "    }\n",
       "</style>\n",
       "<table border=\"1\" class=\"dataframe\">\n",
       "  <thead>\n",
       "    <tr style=\"text-align: right;\">\n",
       "      <th></th>\n",
       "      <th>follow_count</th>\n",
       "      <th>fans_count</th>\n",
       "      <th>gender</th>\n",
       "      <th>location</th>\n",
       "      <th>level</th>\n",
       "      <th>properties</th>\n",
       "      <th>mileage</th>\n",
       "      <th>car_like</th>\n",
       "      <th>date_delta</th>\n",
       "    </tr>\n",
       "  </thead>\n",
       "  <tbody>\n",
       "    <tr>\n",
       "      <th>0</th>\n",
       "      <td>0</td>\n",
       "      <td>0</td>\n",
       "      <td>2</td>\n",
       "      <td>1</td>\n",
       "      <td>1</td>\n",
       "      <td>1</td>\n",
       "      <td>4430</td>\n",
       "      <td>1</td>\n",
       "      <td>4522</td>\n",
       "    </tr>\n",
       "    <tr>\n",
       "      <th>1</th>\n",
       "      <td>2</td>\n",
       "      <td>4</td>\n",
       "      <td>2</td>\n",
       "      <td>2</td>\n",
       "      <td>1</td>\n",
       "      <td>1</td>\n",
       "      <td>4270</td>\n",
       "      <td>2</td>\n",
       "      <td>2373</td>\n",
       "    </tr>\n",
       "  </tbody>\n",
       "</table>\n",
       "</div>"
      ],
      "text/plain": [
       "   follow_count  fans_count  gender  location  level  properties  mileage  \\\n",
       "0             0           0       2         1      1           1     4430   \n",
       "1             2           4       2         2      1           1     4270   \n",
       "\n",
       "   car_like  date_delta  \n",
       "0         1        4522  \n",
       "1         2        2373  "
      ]
     },
     "execution_count": 35,
     "metadata": {},
     "output_type": "execute_result"
    }
   ],
   "source": [
    "x = df.drop(columns=[\n",
    "                      'user_id',\n",
    "#                      'follow_count',\n",
    "#                      'fans_count', \n",
    "#                      'gender', \n",
    "                     'birthday',\n",
    "#                      'location',\n",
    "#                      'level',\n",
    "                     'registration_time',\n",
    "#                      'properties',\n",
    "#                      'mileage',\n",
    "                      'post',\n",
    "                      'cars',\n",
    "                      'koubei_post',\n",
    "                      'gas_mileage',\n",
    "                      'car_friend_zone',\n",
    "                      'label',\n",
    "#                      'car_like', \n",
    "                     'excellent_post_count',\n",
    "                     'all_post_count',\n",
    "                      'regis_year',\n",
    "                      'regis_month',\n",
    "                      'regis_day', \n",
    "                      'date',\n",
    "#                      'date_delta'\n",
    "                     ])\n",
    "x.head(2)"
   ]
  },
  {
   "cell_type": "code",
   "execution_count": 36,
   "metadata": {},
   "outputs": [
    {
     "data": {
      "application/vnd.plotly.v1+json": {
       "data": [
        {
         "hoverinfo": "all",
         "labels": [
          false,
          true
         ],
         "marker": {
          "colors": [
           "#96D38C",
           "#FEBFB3"
          ],
          "line": {
           "color": "#fff",
           "width": 2
          }
         },
         "textfont": {
          "size": 12
         },
         "textinfo": "value",
         "type": "pie",
         "uid": "795a594c-a950-11e8-a8ec-6c40089fb510",
         "values": [
          4830,
          725
         ]
        }
       ],
       "layout": {
        "height": 400,
        "title": "label"
       }
      },
      "text/html": [
       "<div id=\"aa87a869-ecab-4ca3-95e7-c4b7a7771493\" style=\"height: 400px; width: 100%;\" class=\"plotly-graph-div\"></div><script type=\"text/javascript\">require([\"plotly\"], function(Plotly) { window.PLOTLYENV=window.PLOTLYENV || {};window.PLOTLYENV.BASE_URL=\"https://plot.ly\";\n",
       "        Plotly.plot(\n",
       "            'aa87a869-ecab-4ca3-95e7-c4b7a7771493',\n",
       "            [{\"hoverinfo\": \"all\", \"labels\": [false, true], \"marker\": {\"colors\": [\"#96D38C\", \"#FEBFB3\"], \"line\": {\"color\": \"#fff\", \"width\": 2}}, \"textfont\": {\"size\": 12}, \"textinfo\": \"value\", \"values\": [4830.0, 725.0], \"type\": \"pie\", \"uid\": \"795a594c-a950-11e8-a8ec-6c40089fb510\"}],\n",
       "            {\"height\": 400, \"title\": \"label\"},\n",
       "            {\"showLink\": true, \"linkText\": \"Export to plot.ly\"}\n",
       "        ).then(function () {return Plotly.addFrames('aa87a869-ecab-4ca3-95e7-c4b7a7771493',{});}).then(function(){Plotly.animate('aa87a869-ecab-4ca3-95e7-c4b7a7771493');})\n",
       "        });</script>"
      ],
      "text/vnd.plotly.v1+html": [
       "<div id=\"aa87a869-ecab-4ca3-95e7-c4b7a7771493\" style=\"height: 400px; width: 100%;\" class=\"plotly-graph-div\"></div><script type=\"text/javascript\">require([\"plotly\"], function(Plotly) { window.PLOTLYENV=window.PLOTLYENV || {};window.PLOTLYENV.BASE_URL=\"https://plot.ly\";\n",
       "        Plotly.plot(\n",
       "            'aa87a869-ecab-4ca3-95e7-c4b7a7771493',\n",
       "            [{\"hoverinfo\": \"all\", \"labels\": [false, true], \"marker\": {\"colors\": [\"#96D38C\", \"#FEBFB3\"], \"line\": {\"color\": \"#fff\", \"width\": 2}}, \"textfont\": {\"size\": 12}, \"textinfo\": \"value\", \"values\": [4830.0, 725.0], \"type\": \"pie\", \"uid\": \"795a594c-a950-11e8-a8ec-6c40089fb510\"}],\n",
       "            {\"height\": 400, \"title\": \"label\"},\n",
       "            {\"showLink\": true, \"linkText\": \"Export to plot.ly\"}\n",
       "        ).then(function () {return Plotly.addFrames('aa87a869-ecab-4ca3-95e7-c4b7a7771493',{});}).then(function(){Plotly.animate('aa87a869-ecab-4ca3-95e7-c4b7a7771493');})\n",
       "        });</script>"
      ]
     },
     "metadata": {},
     "output_type": "display_data"
    }
   ],
   "source": [
    "y = df['label'].astype('uint8')\n",
    "utils.exploreCat(df, 'label')"
   ]
  },
  {
   "cell_type": "code",
   "execution_count": 37,
   "metadata": {},
   "outputs": [
    {
     "data": {
      "text/plain": [
       "((5555, 9), (5555,))"
      ]
     },
     "execution_count": 37,
     "metadata": {},
     "output_type": "execute_result"
    }
   ],
   "source": [
    "# dataset size\n",
    "_x, _y = np.array(x).astype('int'), np.array(y).astype('int')\n",
    "_x.shape, _y.shape"
   ]
  },
  {
   "cell_type": "code",
   "execution_count": 38,
   "metadata": {},
   "outputs": [
    {
     "data": {
      "text/plain": [
       "(4830, 725)"
      ]
     },
     "execution_count": 38,
     "metadata": {},
     "output_type": "execute_result"
    }
   ],
   "source": [
    "sum(_y==0),sum(_y==1)"
   ]
  },
  {
   "cell_type": "markdown",
   "metadata": {},
   "source": [
    "### Split dataset into train/validation/test set\n",
    "train:validation:test = 8:1:1"
   ]
  },
  {
   "cell_type": "code",
   "execution_count": 39,
   "metadata": {},
   "outputs": [],
   "source": [
    "# x_train, x_test, y_train, y_test = train_test_split(_x, _y, test_size=0.2,  random_state = 40)\n",
    "# x_val, x_test, y_val, y_test = train_test_split(x_test, y_test, test_size=0.5,  random_state = 40)\n",
    "\n",
    "# print(x_train.shape, x_val.shape, x_test.shape)"
   ]
  },
  {
   "cell_type": "code",
   "execution_count": 40,
   "metadata": {},
   "outputs": [],
   "source": [
    "# # positive/negative propotion in dataset\n",
    "# print(\"In train set, positive : negative = {}:{}=1:{} \".format(sum(y_train==1),sum(y_train==0), sum(y_train==0)/sum(y_train==1)))\n",
    "# print(\"In validation set, positive : negative = {}:{}=1:{}\".format(sum(y_val==1),sum(y_val==0), sum(y_val==0)/sum(y_val==1)))\n",
    "# print(\"In test set, positive : negative = {}:{}=1:{}\".format(sum(y_test==1),sum(y_test==0),sum(y_test==0)/sum(y_test==1)))"
   ]
  },
  {
   "cell_type": "markdown",
   "metadata": {},
   "source": [
    "### Create KFolder dataset"
   ]
  },
  {
   "cell_type": "code",
   "execution_count": 41,
   "metadata": {},
   "outputs": [],
   "source": [
    "from scipy import interp\n",
    "from itertools import cycle\n",
    "\n",
    "from sklearn.model_selection import StratifiedKFold\n",
    "from sklearn.metrics import roc_auc_score, roc_curve, auc, classification_report\n",
    "import time\n",
    "import random\n",
    "random.seed(42)"
   ]
  },
  {
   "cell_type": "code",
   "execution_count": 42,
   "metadata": {},
   "outputs": [],
   "source": [
    "def kfolder_plot(train, ytrain, model):\n",
    "    \"\"\"\n",
    "    Args:\n",
    "    - train: dataframe\n",
    "    \"\"\"\n",
    "    kf = StratifiedKFold(n_splits=5, random_state=42, shuffle=True)\n",
    "    scores = []\n",
    "    mean_tpr = 0.0\n",
    "    mean_fpr = np.linspace(0,1,100)\n",
    "    exe_time = []\n",
    "    bst_models = {}\n",
    "    y_preds = {}\n",
    "    \n",
    "    colors = cycle(['cyan', 'orange', 'seagreen', 'yellow', 'blue'])\n",
    "    lw = 2\n",
    "    \n",
    "    i = 0\n",
    "    for(train_idx, test_idx), color in zip(kf.split(train, ytrain), colors):\n",
    "#         print(train_idx, test_idx)\n",
    "        x_train, x_test = train.iloc[train_idx], train.iloc[test_idx]\n",
    "        y_train, y_test = ytrain.iloc[train_idx], ytrain.iloc[test_idx]\n",
    "#         print(test_idx)\n",
    "        start = time.time()\n",
    "        \n",
    "        bst_model, predictions = model(x_train, x_test, y_train)\n",
    "        y_preds[i] = predictions\n",
    "        bst_models[i] = bst_model\n",
    "        \n",
    "        end = time.time()\n",
    "        exe_time.append(round(end-start, 3))\n",
    "        \n",
    "        scores.append(roc_auc_score(y_test.astype(float), predictions))\n",
    "        fpr, tpr, thresholds = roc_curve(y_test, predictions>=0.5)\n",
    "        mean_tpr += interp(mean_fpr, fpr, tpr)\n",
    "        mean_tpr[0] = 0.0\n",
    "        roc_auc = auc(fpr, tpr)\n",
    "#         print(\"roc_auc: \", roc_auc)\n",
    "        plt.plot(fpr, tpr, lw=lw, color=color, label='ROC fold %d (area=%0.2f)'%(i, roc_auc))\n",
    "        i += 1\n",
    "#         print(classification_report(y_test, predictions>=0.5))\n",
    "\n",
    "    plt.plot([0, 1], [0, 1], linestyle='--', lw=lw, color='k', label='ROC baseline')\n",
    "    mean_tpr /= kf.get_n_splits(train, ytrain)\n",
    "    mean_tpr[-1] = 1.0\n",
    "    mean_auc = auc(mean_fpr, mean_tpr)\n",
    "    plt.plot(mean_fpr, mean_tpr, color='r', linestyle='--', label='Mean ROC(are a = %0.2f)'%mean_auc, lw=lw)\n",
    "    \n",
    "    plt.xlim([-0.05, 1.05])\n",
    "    plt.ylim([-0.05, 1.05])\n",
    "    plt.xlabel('False Positive Rate')\n",
    "    plt.ylabel('True Positive Rate')\n",
    "    plt.title('ROC KFolder')\n",
    "    plt.legend(loc='lower right')\n",
    "    plt.show()\n",
    "    \n",
    "    print('mean scores: ', np.mean(scores))\n",
    "    print('mean model process time: ', np.mean(exe_time))\n",
    "    return scores, np.mean(scores), np.mean(exe_time), bst_models, y_preds"
   ]
  },
  {
   "cell_type": "code",
   "execution_count": 43,
   "metadata": {},
   "outputs": [],
   "source": [
    "# from sklearn.model_selection import GridSearchCV\n",
    "import lightgbm as lgb\n",
    "def lightgbm_model(x_train, x_test, y_train):\n",
    "    feature_name = list(x.keys())\n",
    "    categorical_feature = [\n",
    "#                            'gender',\n",
    "                           'location',\n",
    "    #                        'level', \n",
    "    #                        'properties', \n",
    "                           'car_like',\n",
    "                         #'regis_year', 'regis_month', 'regis_day',\n",
    "                          ]\n",
    "    x_train = lgb.Dataset(x_train.values,\n",
    "                          y_train.values,\n",
    "                          feature_name=feature_name,\n",
    "                         categorical_feature=categorical_feature,)\n",
    "    params = {\n",
    "            'boosting_type': 'gbdt',  # np.random.choice(['dart', 'gbdt']),\n",
    "            'objective': 'binary',\n",
    "            'metric': ['binary_logloss', 'auc'], \n",
    "\n",
    "            'learning_rate': 0.10,\n",
    "\n",
    "            'num_leaves': 13, #np.random.randint(10,14),\n",
    "            'max_depth': 9, #np.random.randint(7,10),\n",
    "            'min_data_in_leaf': 30, # int(2 ** (np.random.rand()*2 + 5)),\n",
    "\n",
    "            'feature_fraction': 0.8, #np.random.rand()*0.35+0.65,\n",
    "            'bagging_fraction': 0.9, #np.random.rand()*0.35+0.65,\n",
    "            'bagging_freq': 1,\n",
    "\n",
    "            'lambda_l1': 11, #10 ** (np.random.rand() * 4),\n",
    "            'lambda_l2': 10000, #10 ** (np.random.rand() * 3 + 2),\n",
    "            'min_gain_to_split': 0.0,\n",
    "            'min_sum_hessian_in_leaf': 0.1,\n",
    "\n",
    "            'num_threads': 16,\n",
    "            'verbose': 0,\n",
    "            'is_training_metric': 'True'\n",
    "        }\n",
    "#     print(\"Hyper-parameters: \")\n",
    "#     print(params)\n",
    "    model = lgb.train(params, x_train, num_boost_round=3000)\n",
    "    predictions = model.predict(x_test)\n",
    "    return model, predictions"
   ]
  },
  {
   "cell_type": "code",
   "execution_count": 44,
   "metadata": {},
   "outputs": [],
   "source": [
    "dct_scores = {}\n",
    "mean_score = {}\n",
    "mean_time = {}\n",
    "models = {}\n",
    "y_preds = {}"
   ]
  },
  {
   "cell_type": "code",
   "execution_count": 45,
   "metadata": {},
   "outputs": [
    {
     "data": {
      "image/png": "[encoded data removed]",
      "text/plain": [
       "<matplotlib.figure.Figure at 0x1a13e306a0>"
      ]
     },
     "metadata": {},
     "output_type": "display_data"
    },
    {
     "name": "stdout",
     "output_type": "stream",
     "text": [
      "mean scores:  0.7333861640608268\n",
      "mean model process time:  10.8644\n"
     ]
    }
   ],
   "source": [
    "import time\n",
    "dct_scores['lgbm'], mean_score['lgbm'], mean_time['lgbm'], bst_models, y_preds = kfolder_plot(x, y, lightgbm_model)"
   ]
  },
  {
   "cell_type": "code",
   "execution_count": 46,
   "metadata": {},
   "outputs": [],
   "source": [
    "train_idxs = []\n",
    "test_idxs = []\n",
    "kf = StratifiedKFold(n_splits=5, random_state=42,shuffle=True)\n",
    "for (train_idx, test_idx) in kf.split(x, y):\n",
    "    train_idxs.append(train_idx)\n",
    "    test_idxs.append(test_idx)\n",
    "#     print(test_idx)"
   ]
  },
  {
   "cell_type": "code",
   "execution_count": null,
   "metadata": {},
   "outputs": [],
   "source": [
    "# for i in range(5):\n",
    "# # gbm = bst_models[i]\n",
    "# #     x_test = x.iloc[test_idxs[i]]\n",
    "#     y_test = y.iloc[test_idxs[i]]\n",
    "#     print(sum(y_test==1),sum(y_test==0))"
   ]
  },
  {
   "cell_type": "code",
   "execution_count": null,
   "metadata": {},
   "outputs": [],
   "source": [
    "# # load model to predict\n",
    "# # print('Load model to predict')\n",
    "# # gbm = lgb.Booster(model_file=model_save_path)\n",
    "# i = 4\n",
    "# gbm = bst_models[i]\n",
    "# x_test = x.iloc[test_idxs[i]]\n",
    "# y_test = y.iloc[test_idxs[i]]\n",
    "# print(test_idxs[i])\n",
    "\n",
    "# # y_pred = gbm.predict(x_test)\n",
    "# y_pred = y_preds[i]\n",
    "\n",
    "# # y_pred = y_pred >= 0.5\n",
    "# # print(y_pred[:10])\n",
    "\n",
    "# from sklearn.metrics import accuracy_score, confusion_matrix\n",
    "# # print(accuracy_score(y_test, y_pred))\n",
    "# print(\"num_y_pred_1:num_y_pred_0 ={}:{} \".format(sum(y_pred>=0.5), sum(y_pred<0.5)))\n",
    "# _y_pred = y_pred >= 0.5\n",
    "# # print(confusion_matrix(y_true=y_test, y_pred=y_pred))\n",
    "# # print(classification_report(y_true=y_test, y_pred=_y_pred))\n",
    "\n",
    "# # AUC \n",
    "# fpr, tpr, _ = roc_curve(y_test, y_pred)\n",
    "# roc_auc = auc(fpr, tpr)\n",
    "# print(\"roc_auc: \",roc_auc)\n",
    "\n",
    "# # plot ROC\n",
    "# # plt.figure()\n",
    "# # plt.rcParams['savefig.dpi'] = 50 #图片像素\n",
    "# # plt.rcParams['figure.dpi'] = 100 #分辨率\n",
    "# # lw = 2\n",
    "# # plt.plot(fpr, tpr, color='darkorange',\n",
    "# #          lw=lw, label='ROC curve (area = %0.2f)' % roc_auc)\n",
    "# # plt.plot([0, 1], [0, 1], color='navy', lw=lw, linestyle='--')\n",
    "# # # plt.xlim([0.0, 1.0])\n",
    "# # # plt.ylim([0.0, 1.05])\n",
    "# # plt.xlim([-0.05, 1.05])\n",
    "# # plt.ylim([-0.05, 1.05])\n",
    "# # plt.xlabel('False Positive Rate')\n",
    "# # plt.ylabel('True Positive Rate')\n",
    "# # plt.title('ROC')\n",
    "# # plt.legend(loc=\"lower right\")\n",
    "# # plt.show()\n",
    "\n",
    "# feature_importance = pd.DataFrame({'name':gbm.feature_name(), 'importance':gbm.feature_importance()}).sort_values(by='importance', ascending=False)\n",
    "# feature_importance.to_csv('./feat_importance.csv', index=False)\n",
    "# # fig = matplotlib.pyplot.gcf()\n",
    "# # fig.set_size_inches(15, 5)\n",
    "# plt.rcParams['savefig.dpi'] = 50 #图片像素\n",
    "# plt.rcParams['figure.dpi'] = 100 #分辨率\n",
    "# feature_importance.plot(x='name', y='importance',kind='barh')\n",
    "# # plt.savefig('plot123_2.png', dpi=300) \n",
    "# plt.show()"
   ]
  },
  {
   "cell_type": "code",
   "execution_count": null,
   "metadata": {},
   "outputs": [],
   "source": [
    "# load model to predict\n",
    "# print('Load model to predict')\n",
    "# gbm = lgb.Booster(model_file=model_save_path)\n",
    "for i in range(5):\n",
    "    gbm = bst_models[i]\n",
    "    x_test = x.iloc[test_idxs[i]]\n",
    "    y_test = y.iloc[test_idxs[i]]\n",
    "    print(test_idxs[i])\n",
    "\n",
    "    # y_pred = gbm.predict(x_test)\n",
    "    y_pred = y_preds[i]\n",
    "\n",
    "    # y_pred = y_pred >= 0.5\n",
    "    # print(y_pred[:10])\n",
    "\n",
    "    from sklearn.metrics import accuracy_score, confusion_matrix\n",
    "    # print(accuracy_score(y_test, y_pred))\n",
    "    print(\"num_y_pred_1:num_y_pred_0 ={}:{} \".format(sum(y_pred>=0.5), sum(y_pred<0.5)))\n",
    "    _y_pred = y_pred >= 0.5\n",
    "    # print(confusion_matrix(y_true=y_test, y_pred=y_pred))\n",
    "    print(classification_report(y_true=y_test, y_pred=_y_pred))\n",
    "\n",
    "    # AUC \n",
    "    fpr, tpr, _ = roc_curve(y_test, y_pred)\n",
    "    roc_auc = auc(fpr, tpr)\n",
    "    print(\"roc_auc: \",roc_auc)\n",
    "\n",
    "    feature_importance = pd.DataFrame({'name':gbm.feature_name(), 'importance':gbm.feature_importance()}).sort_values(by='importance', ascending=False)\n",
    "    feature_importance.to_csv('./feat_importance.csv', index=False)\n",
    "    # fig = matplotlib.pyplot.gcf()\n",
    "    # fig.set_size_inches(15, 5)\n",
    "    plt.rcParams['savefig.dpi'] = 50 #图片像素\n",
    "    plt.rcParams['figure.dpi'] = 100 #分辨率\n",
    "    feature_importance.plot(x='name', y='importance',kind='barh')\n",
    "    # plt.savefig('plot123_2.png', dpi=300) \n",
    "    plt.show()"
   ]
  },
  {
   "cell_type": "markdown",
   "metadata": {},
   "source": [
    "### SVM"
   ]
  },
  {
   "cell_type": "code",
   "execution_count": null,
   "metadata": {},
   "outputs": [],
   "source": [
    "clf = SVC(C=0.8, kernel='rbf', class_weight='balanced')"
   ]
  },
  {
   "cell_type": "code",
   "execution_count": null,
   "metadata": {},
   "outputs": [],
   "source": [
    "clf.fit(x_train, y_train)"
   ]
  },
  {
   "cell_type": "code",
   "execution_count": null,
   "metadata": {},
   "outputs": [],
   "source": [
    "pred = clf.predict(x_test)"
   ]
  },
  {
   "cell_type": "code",
   "execution_count": null,
   "metadata": {},
   "outputs": [],
   "source": [
    "print(classification_report(y_true=y_test, y_pred=pred))"
   ]
  },
  {
   "cell_type": "markdown",
   "metadata": {},
   "source": [
    "### Build lightgbm model and train with above dataset"
   ]
  },
  {
   "cell_type": "code",
   "execution_count": null,
   "metadata": {},
   "outputs": [],
   "source": [
    "# Lightgbm dataset construction\n",
    "\n",
    "# train_data = lgb.Dataset(x_train, label=y_train)\n",
    "# val_data = lgb.Dataset(x_val, label=y_val)\n",
    "# test_data = lgb.Dataset(x_test, label = y_test)\n",
    "\n",
    "feature_name = list(x.keys())\n",
    "categorical_feature = [\n",
    "#                        'gender',\n",
    "                       'location',\n",
    "#                        'level', \n",
    "#                        'properties', \n",
    "                       'car_like',\n",
    "                     #'regis_year', 'regis_month', 'regis_day',\n",
    "                                            ]\n",
    "train_data = lgb.Dataset(x_train, \n",
    "                         label=y_train,\n",
    "                         feature_name=feature_name,\n",
    "                         categorical_feature=categorical_feature,\n",
    "                        )\n",
    "val_data = lgb.Dataset(x_val, \n",
    "                       label=y_val,\n",
    "                       feature_name=feature_name,\n",
    "                       categorical_feature=categorical_feature,\n",
    "                      )\n",
    "test_data = lgb.Dataset(x_test, \n",
    "                        label = y_test,\n",
    "                        feature_name=feature_name,\n",
    "                        categorical_feature=categorical_feature,\n",
    "                       )\n",
    "# feature_name, categorical_feature"
   ]
  },
  {
   "cell_type": "markdown",
   "metadata": {},
   "source": [
    "#### Setting parameters"
   ]
  },
  {
   "cell_type": "code",
   "execution_count": null,
   "metadata": {},
   "outputs": [],
   "source": [
    "# para searching\n",
    "params = {\n",
    "    'boosting_type': 'gbdt',  # np.random.choice(['dart', 'gbdt']),\n",
    "    'objective': 'binary',\n",
    "    'metric': ['binary_logloss', 'auc'], \n",
    "    \n",
    "    'learning_rate': 0.30,\n",
    "    \n",
    "    'num_leaves': np.random.randint(15,20),\n",
    "    'max_depth': np.random.randint(5,7),\n",
    "    'min_data_in_leaf': int(2 ** (np.random.rand()*2 + 5)),\n",
    "    \n",
    "    'feature_fraction': np.random.rand()*0.35+0.65,\n",
    "    'bagging_fraction': np.random.rand()*0.35+0.65,\n",
    "    'bagging_freq': 1,\n",
    "    \n",
    "    'lambda_l1': 10 ** (np.random.rand() * 4),\n",
    "    'lambda_l2': 10 ** (np.random.rand() * 3 + 2),\n",
    "    'min_gain_to_split': 0.0,\n",
    "    'min_sum_hessian_in_leaf': 0.1,\n",
    "    \n",
    "    'num_threads': 16,\n",
    "    'verbose': 0,\n",
    "    'is_training_metric': 'True'\n",
    "}\n",
    "print('Hyper-parameters:')\n",
    "print(params)"
   ]
  },
  {
   "cell_type": "code",
   "execution_count": null,
   "metadata": {},
   "outputs": [],
   "source": [
    "# params={'boosting_type': 'gbdt',\n",
    "#         'objective': 'binary',\n",
    "#         'metric': ['binary_logloss', 'auc'],\n",
    "#         'learning_rate': 0.35,\n",
    "#         'num_leaves': 10,\n",
    "#         'max_depth': 9,\n",
    "#         'min_data_in_leaf': 100,\n",
    "#         'feature_fraction': 0.8815622868115178,\n",
    "#         'bagging_fraction': 0.8390135637666467, \n",
    "#         'bagging_freq': 1, \n",
    "#         'lambda_l1': 31.388095945215674,\n",
    "#         'lambda_l2': 9057.459915710713,\n",
    "#         'min_gain_to_split': 0.0,\n",
    "#         'min_sum_hessian_in_leaf': 0.1, \n",
    "#         'num_threads': 16, 'verbose': 0,\n",
    "#         'is_training_metric': 'True'}"
   ]
  },
  {
   "cell_type": "code",
   "execution_count": null,
   "metadata": {},
   "outputs": [],
   "source": [
    "# {'boosting_type': 'gbdt', 'objective': 'binary', 'metric': ['binary_logloss', 'auc'], 'learning_rate': 0.35, 'num_leaves': 16, 'max_depth': 7, 'min_data_in_leaf': 45, 'feature_fraction': 0.7185404231822985, 'bagging_fraction': 0.7205070834554599, 'bagging_freq': 1, 'lambda_l1': 2.3982232376696975, 'lambda_l2': 23817.54011963604, 'min_gain_to_split': 0.0, 'min_sum_hessian_in_leaf': 0.1, 'num_threads': 16, 'verbose': 0, 'is_training_metric': 'True'}"
   ]
  },
  {
   "cell_type": "markdown",
   "metadata": {},
   "source": [
    "#### Training "
   ]
  },
  {
   "cell_type": "code",
   "execution_count": null,
   "metadata": {},
   "outputs": [],
   "source": [
    "evals_result = {}  # dict to store evaluation results of all the items in `valid_sets`\n",
    "\n",
    "gbm = lgb.train(params, \n",
    "                train_data, \n",
    "                num_boost_round=10000, \n",
    "                valid_sets=[train_data, val_data], \n",
    "                valid_names = ['train', 'valid'], \n",
    "                evals_result=evals_result, \n",
    "                early_stopping_rounds=3000, \n",
    "                verbose_eval=100)"
   ]
  },
  {
   "cell_type": "code",
   "execution_count": null,
   "metadata": {},
   "outputs": [],
   "source": [
    "train_auc_log = evals_result['train']['binary_logloss']\n",
    "# type(train_auc_log)\n",
    "# len(train_auc_log)\n",
    "val_auc_log = evals_result['valid']['binary_logloss']\n",
    "\n",
    "# plot training logs\n",
    "plt.figure()\n",
    "plt.rcParams['savefig.dpi'] = 50 #图片像素\n",
    "plt.rcParams['figure.dpi'] = 100 #分辨率\n",
    "lw = 2\n",
    "plt.plot(range(len(train_auc_log)),train_auc_log, color='darkorange',\n",
    "         lw=lw, label=\"train's binary_logloss\")\n",
    "plt.plot(range(len(val_auc_log)),val_auc_log, color='blue',\n",
    "         lw=lw, label=\"valid's binary_logloss\")\n",
    "# plt.plot([0, 1], [0, 1], color='navy', lw=lw, linestyle='--')\n",
    "# plt.xlim([0.0, 1.0])\n",
    "# plt.ylim([0.0, 1.05])\n",
    "plt.xlabel('Boost round')\n",
    "plt.ylabel(\"Valid's binary_logloss\")\n",
    "plt.title('ROC')\n",
    "plt.legend(loc=\"lower right\")\n",
    "plt.show()"
   ]
  },
  {
   "cell_type": "code",
   "execution_count": null,
   "metadata": {},
   "outputs": [],
   "source": [
    "# save best round results to csv\n",
    "bst_round = np.argmax(evals_result['valid']['auc'])\n",
    "trn_auc = evals_result['train']['auc'][bst_round]\n",
    "trn_loss = evals_result['train']['binary_logloss'][bst_round]\n",
    "val_auc = evals_result['valid']['auc'][bst_round]\n",
    "val_loss = evals_result['valid']['binary_logloss'][bst_round]"
   ]
  },
  {
   "cell_type": "code",
   "execution_count": null,
   "metadata": {},
   "outputs": [],
   "source": [
    "print('Best Round: %d'%bst_round)\n",
    "print('Training loss: %.5f, Validation loss: %.5f'%(trn_loss, val_loss))\n",
    "print('Training AUC : %.5f, Validation AUC : %.5f'%(trn_auc, val_auc))\n",
    "\n",
    "# save model to file\n",
    "model_save_path = './models/trn_auc' + str(trn_auc)[:5] + '_' + 'val_auc' + str(val_auc)[:5] + '.txt'\n",
    "print('Save model to file: {}'.format(model_save_path))\n",
    "gbm.save_model(model_save_path)"
   ]
  },
  {
   "cell_type": "code",
   "execution_count": null,
   "metadata": {},
   "outputs": [],
   "source": [
    "feature_importance = pd.DataFrame({'name':gbm.feature_name(), 'importance':gbm.feature_importance()}).sort_values(by='importance', ascending=False)\n",
    "feature_importance.to_csv('./feat_importance.csv', index=False)\n",
    "# fig = matplotlib.pyplot.gcf()\n",
    "# fig.set_size_inches(15, 5)\n",
    "plt.rcParams['savefig.dpi'] = 50 #图片像素\n",
    "plt.rcParams['figure.dpi'] = 200 #分辨率\n",
    "feature_importance.plot(x='name', y='importance',kind='barh')\n",
    "# plt.savefig('plot123_2.png', dpi=300) \n",
    "plt.show()"
   ]
  },
  {
   "cell_type": "markdown",
   "metadata": {},
   "source": [
    "#### Using best model for Testing "
   ]
  },
  {
   "cell_type": "code",
   "execution_count": null,
   "metadata": {},
   "outputs": [],
   "source": [
    "# load model to predict\n",
    "print('Load model to predict')\n",
    "gbm = lgb.Booster(model_file=model_save_path)\n",
    "                  \n",
    "y_pred = gbm.predict(x_test)\n",
    "# print(y_pred[:10])\n",
    "\n",
    "y_pred = y_pred >= 0.5\n",
    "# print(y_pred[:10])\n",
    "\n",
    "from sklearn.metrics import accuracy_score, confusion_matrix\n",
    "# print(accuracy_score(y_test, y_pred))\n",
    "print(\"num_y_pred_1:num_y_pred_0 ={}:{} \".format(sum(y_pred==1), sum(y_pred==0)))\n",
    "print(classification_report(y_true=y_test, y_pred=y_pred))\n",
    "\n",
    "# AUC \n",
    "fpr, tpr,_ = roc_curve(y_test, y_pred)\n",
    "roc_auc = auc(fpr, tpr)\n",
    "print(\"roc_auc: \",roc_auc)\n",
    "\n",
    "# plot ROC\n",
    "plt.figure()\n",
    "plt.rcParams['savefig.dpi'] = 50 #图片像素\n",
    "plt.rcParams['figure.dpi'] = 100 #分辨率\n",
    "lw = 2\n",
    "plt.plot(fpr, tpr, color='darkorange',\n",
    "         lw=lw, label='ROC curve (area = %0.2f)' % roc_auc)\n",
    "plt.plot([0, 1], [0, 1], color='navy', lw=lw, linestyle='--')\n",
    "plt.xlim([0.0, 1.0])\n",
    "plt.ylim([0.0, 1.05])\n",
    "plt.xlabel('False Positive Rate')\n",
    "plt.ylabel('True Positive Rate')\n",
    "plt.title('ROC')\n",
    "plt.legend(loc=\"lower right\")\n",
    "plt.show()"
   ]
  },
  {
   "cell_type": "code",
   "execution_count": null,
   "metadata": {},
   "outputs": [],
   "source": []
  }
 ],
 "metadata": {
  "kernelspec": {
   "display_name": "Python 3",
   "language": "python",
   "name": "python3"
  },
  "language_info": {
   "codemirror_mode": {
    "name": "ipython",
    "version": 3
   },
   "file_extension": ".py",
   "mimetype": "text/x-python",
   "name": "python",
   "nbconvert_exporter": "python",
   "pygments_lexer": "ipython3",
   "version": "3.6.4"
  }
 },
 "nbformat": 4,
 "nbformat_minor": 2
}
