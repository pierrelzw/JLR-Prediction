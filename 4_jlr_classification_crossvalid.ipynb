{
 "cells": [
  {
   "cell_type": "markdown",
   "metadata": {},
   "source": [
    "## K-folder cross-validation with light-gbm\n",
    "Reference: https://segmentfault.com/a/1190000009101577"
   ]
  },
  {
   "cell_type": "code",
   "execution_count": 25,
   "metadata": {},
   "outputs": [],
   "source": [
    "import numpy as np\n",
    "import pandas as pd\n",
    "from sklearn.model_selection import train_test_split\n",
    "import matplotlib.pyplot as plt\n",
    "from sklearn.svm import SVC\n",
    "\n",
    "from sklearn.metrics import confusion_matrix, classification_report\n",
    "import matplotlib\n",
    "from sklearn.metrics import roc_curve, auc\n",
    "import seaborn as sns\n",
    "\n",
    "import lightgbm as lgb\n",
    "import utils\n",
    "\n",
    "#supression warnings\n",
    "import warnings\n",
    "warnings.filterwarnings('ignore')\n",
    "%matplotlib inline"
   ]
  },
  {
   "cell_type": "markdown",
   "metadata": {},
   "source": [
    "### Load data"
   ]
  },
  {
   "cell_type": "code",
   "execution_count": 26,
   "metadata": {},
   "outputs": [
    {
     "data": {
      "text/html": [
       "<div>\n",
       "<style scoped>\n",
       "    .dataframe tbody tr th:only-of-type {\n",
       "        vertical-align: middle;\n",
       "    }\n",
       "\n",
       "    .dataframe tbody tr th {\n",
       "        vertical-align: top;\n",
       "    }\n",
       "\n",
       "    .dataframe thead th {\n",
       "        text-align: right;\n",
       "    }\n",
       "</style>\n",
       "<table border=\"1\" class=\"dataframe\">\n",
       "  <thead>\n",
       "    <tr style=\"text-align: right;\">\n",
       "      <th></th>\n",
       "      <th>user_id</th>\n",
       "      <th>follow_count</th>\n",
       "      <th>fans_count</th>\n",
       "      <th>gender</th>\n",
       "      <th>birthday</th>\n",
       "      <th>location</th>\n",
       "      <th>level</th>\n",
       "      <th>registration_time</th>\n",
       "      <th>properties</th>\n",
       "      <th>mileage</th>\n",
       "      <th>...</th>\n",
       "      <th>car_friend_zone</th>\n",
       "      <th>label</th>\n",
       "      <th>car_like</th>\n",
       "      <th>excellent_post_count</th>\n",
       "      <th>all_post_count</th>\n",
       "      <th>regis_year</th>\n",
       "      <th>regis_month</th>\n",
       "      <th>regis_day</th>\n",
       "      <th>date</th>\n",
       "      <th>date_delta</th>\n",
       "    </tr>\n",
       "  </thead>\n",
       "  <tbody>\n",
       "    <tr>\n",
       "      <th>0</th>\n",
       "      <td>oden123</td>\n",
       "      <td>0</td>\n",
       "      <td>0</td>\n",
       "      <td>2</td>\n",
       "      <td>NaT</td>\n",
       "      <td>1</td>\n",
       "      <td>1</td>\n",
       "      <td>2018-03-26</td>\n",
       "      <td>1</td>\n",
       "      <td>4430</td>\n",
       "      <td>...</td>\n",
       "      <td>NaN</td>\n",
       "      <td>True</td>\n",
       "      <td>1</td>\n",
       "      <td>0</td>\n",
       "      <td>0</td>\n",
       "      <td>2018</td>\n",
       "      <td>3</td>\n",
       "      <td>3</td>\n",
       "      <td>2018-03-26</td>\n",
       "      <td>4522</td>\n",
       "    </tr>\n",
       "    <tr>\n",
       "      <th>1</th>\n",
       "      <td>生活1934626</td>\n",
       "      <td>2</td>\n",
       "      <td>4</td>\n",
       "      <td>2</td>\n",
       "      <td>NaT</td>\n",
       "      <td>2</td>\n",
       "      <td>1</td>\n",
       "      <td>2012-05-07</td>\n",
       "      <td>1</td>\n",
       "      <td>4270</td>\n",
       "      <td>...</td>\n",
       "      <td>[{'名称': '汽车之家甘肃论坛车友会', '人数': 672, '创建时间': '201...</td>\n",
       "      <td>True</td>\n",
       "      <td>2</td>\n",
       "      <td>0</td>\n",
       "      <td>0</td>\n",
       "      <td>2012</td>\n",
       "      <td>5</td>\n",
       "      <td>5</td>\n",
       "      <td>2012-05-07</td>\n",
       "      <td>2373</td>\n",
       "    </tr>\n",
       "  </tbody>\n",
       "</table>\n",
       "<p>2 rows × 24 columns</p>\n",
       "</div>"
      ],
      "text/plain": [
       "     user_id  follow_count  fans_count  gender birthday  location  level  \\\n",
       "0    oden123             0           0       2      NaT         1      1   \n",
       "1  生活1934626             2           4       2      NaT         2      1   \n",
       "\n",
       "  registration_time  properties  mileage     ...      \\\n",
       "0        2018-03-26           1     4430     ...       \n",
       "1        2012-05-07           1     4270     ...       \n",
       "\n",
       "                                     car_friend_zone label car_like  \\\n",
       "0                                                NaN  True        1   \n",
       "1  [{'名称': '汽车之家甘肃论坛车友会', '人数': 672, '创建时间': '201...  True        2   \n",
       "\n",
       "  excellent_post_count all_post_count  regis_year  regis_month  regis_day  \\\n",
       "0                    0              0        2018            3          3   \n",
       "1                    0              0        2012            5          5   \n",
       "\n",
       "        date  date_delta  \n",
       "0 2018-03-26        4522  \n",
       "1 2012-05-07        2373  \n",
       "\n",
       "[2 rows x 24 columns]"
      ]
     },
     "execution_count": 26,
     "metadata": {},
     "output_type": "execute_result"
    }
   ],
   "source": [
    "data_path = './data/jlr_all_user_processed.xlsx'\n",
    "df = pd.read_excel(data_path)\n",
    "df.head(2)"
   ]
  },
  {
   "cell_type": "code",
   "execution_count": 27,
   "metadata": {},
   "outputs": [],
   "source": [
    "# df.keys(), df.dtypes"
   ]
  },
  {
   "cell_type": "markdown",
   "metadata": {},
   "source": [
    "### Data choosing  \n",
    "we choose some features to build the machine learning model"
   ]
  },
  {
   "cell_type": "code",
   "execution_count": 28,
   "metadata": {},
   "outputs": [
    {
     "data": {
      "text/html": [
       "<div>\n",
       "<style scoped>\n",
       "    .dataframe tbody tr th:only-of-type {\n",
       "        vertical-align: middle;\n",
       "    }\n",
       "\n",
       "    .dataframe tbody tr th {\n",
       "        vertical-align: top;\n",
       "    }\n",
       "\n",
       "    .dataframe thead th {\n",
       "        text-align: right;\n",
       "    }\n",
       "</style>\n",
       "<table border=\"1\" class=\"dataframe\">\n",
       "  <thead>\n",
       "    <tr style=\"text-align: right;\">\n",
       "      <th></th>\n",
       "      <th>follow_count</th>\n",
       "      <th>fans_count</th>\n",
       "      <th>gender</th>\n",
       "      <th>location</th>\n",
       "      <th>level</th>\n",
       "      <th>properties</th>\n",
       "      <th>mileage</th>\n",
       "      <th>car_like</th>\n",
       "      <th>date_delta</th>\n",
       "    </tr>\n",
       "  </thead>\n",
       "  <tbody>\n",
       "    <tr>\n",
       "      <th>0</th>\n",
       "      <td>0</td>\n",
       "      <td>0</td>\n",
       "      <td>2</td>\n",
       "      <td>1</td>\n",
       "      <td>1</td>\n",
       "      <td>1</td>\n",
       "      <td>4430</td>\n",
       "      <td>1</td>\n",
       "      <td>4522</td>\n",
       "    </tr>\n",
       "    <tr>\n",
       "      <th>1</th>\n",
       "      <td>2</td>\n",
       "      <td>4</td>\n",
       "      <td>2</td>\n",
       "      <td>2</td>\n",
       "      <td>1</td>\n",
       "      <td>1</td>\n",
       "      <td>4270</td>\n",
       "      <td>2</td>\n",
       "      <td>2373</td>\n",
       "    </tr>\n",
       "  </tbody>\n",
       "</table>\n",
       "</div>"
      ],
      "text/plain": [
       "   follow_count  fans_count  gender  location  level  properties  mileage  \\\n",
       "0             0           0       2         1      1           1     4430   \n",
       "1             2           4       2         2      1           1     4270   \n",
       "\n",
       "   car_like  date_delta  \n",
       "0         1        4522  \n",
       "1         2        2373  "
      ]
     },
     "execution_count": 28,
     "metadata": {},
     "output_type": "execute_result"
    }
   ],
   "source": [
    "x = df.drop(columns=[\n",
    "                      'user_id',\n",
    "#                      'follow_count',\n",
    "#                      'fans_count', \n",
    "#                      'gender', \n",
    "                     'birthday',\n",
    "#                      'location',\n",
    "#                      'level',\n",
    "                     'registration_time',\n",
    "#                      'properties',\n",
    "#                      'mileage',\n",
    "                      'post',\n",
    "                      'cars',\n",
    "                      'koubei_post',\n",
    "                      'gas_mileage',\n",
    "                      'car_friend_zone',\n",
    "                      'label',\n",
    "#                      'car_like', \n",
    "                     'excellent_post_count',\n",
    "                     'all_post_count',\n",
    "                      'regis_year',\n",
    "                      'regis_month',\n",
    "                      'regis_day', \n",
    "                      'date',\n",
    "#                      'date_delta'\n",
    "                     ])\n",
    "x.head(2)"
   ]
  },
  {
   "cell_type": "code",
   "execution_count": 29,
   "metadata": {},
   "outputs": [
    {
     "data": {
      "application/vnd.plotly.v1+json": {
       "data": [
        {
         "hoverinfo": "all",
         "labels": [
          false,
          true
         ],
         "marker": {
          "colors": [
           "#96D38C",
           "#FEBFB3"
          ],
          "line": {
           "color": "#fff",
           "width": 2
          }
         },
         "textfont": {
          "size": 12
         },
         "textinfo": "value",
         "type": "pie",
         "uid": "d4bacf18-ac71-11e8-a8ec-6c40089fb510",
         "values": [
          4830,
          725
         ]
        }
       ],
       "layout": {
        "height": 400,
        "title": "label"
       }
      },
      "text/html": [
       "<div id=\"a19e76a0-fa28-409d-be6f-653ab1f46e8b\" style=\"height: 400px; width: 100%;\" class=\"plotly-graph-div\"></div><script type=\"text/javascript\">require([\"plotly\"], function(Plotly) { window.PLOTLYENV=window.PLOTLYENV || {};window.PLOTLYENV.BASE_URL=\"https://plot.ly\";\n",
       "        Plotly.plot(\n",
       "            'a19e76a0-fa28-409d-be6f-653ab1f46e8b',\n",
       "            [{\"hoverinfo\": \"all\", \"labels\": [false, true], \"marker\": {\"colors\": [\"#96D38C\", \"#FEBFB3\"], \"line\": {\"color\": \"#fff\", \"width\": 2}}, \"textfont\": {\"size\": 12}, \"textinfo\": \"value\", \"values\": [4830.0, 725.0], \"type\": \"pie\", \"uid\": \"d4bacf18-ac71-11e8-a8ec-6c40089fb510\"}],\n",
       "            {\"height\": 400, \"title\": \"label\"},\n",
       "            {\"showLink\": true, \"linkText\": \"Export to plot.ly\"}\n",
       "        ).then(function () {return Plotly.addFrames('a19e76a0-fa28-409d-be6f-653ab1f46e8b',{});}).then(function(){Plotly.animate('a19e76a0-fa28-409d-be6f-653ab1f46e8b');})\n",
       "        });</script>"
      ],
      "text/vnd.plotly.v1+html": [
       "<div id=\"a19e76a0-fa28-409d-be6f-653ab1f46e8b\" style=\"height: 400px; width: 100%;\" class=\"plotly-graph-div\"></div><script type=\"text/javascript\">require([\"plotly\"], function(Plotly) { window.PLOTLYENV=window.PLOTLYENV || {};window.PLOTLYENV.BASE_URL=\"https://plot.ly\";\n",
       "        Plotly.plot(\n",
       "            'a19e76a0-fa28-409d-be6f-653ab1f46e8b',\n",
       "            [{\"hoverinfo\": \"all\", \"labels\": [false, true], \"marker\": {\"colors\": [\"#96D38C\", \"#FEBFB3\"], \"line\": {\"color\": \"#fff\", \"width\": 2}}, \"textfont\": {\"size\": 12}, \"textinfo\": \"value\", \"values\": [4830.0, 725.0], \"type\": \"pie\", \"uid\": \"d4bacf18-ac71-11e8-a8ec-6c40089fb510\"}],\n",
       "            {\"height\": 400, \"title\": \"label\"},\n",
       "            {\"showLink\": true, \"linkText\": \"Export to plot.ly\"}\n",
       "        ).then(function () {return Plotly.addFrames('a19e76a0-fa28-409d-be6f-653ab1f46e8b',{});}).then(function(){Plotly.animate('a19e76a0-fa28-409d-be6f-653ab1f46e8b');})\n",
       "        });</script>"
      ]
     },
     "metadata": {},
     "output_type": "display_data"
    }
   ],
   "source": [
    "y = df['label'].astype('uint8')\n",
    "utils.exploreCat(df, 'label')"
   ]
  },
  {
   "cell_type": "code",
   "execution_count": 30,
   "metadata": {},
   "outputs": [
    {
     "data": {
      "text/plain": [
       "((5555, 9), (5555,))"
      ]
     },
     "execution_count": 30,
     "metadata": {},
     "output_type": "execute_result"
    }
   ],
   "source": [
    "# dataset size\n",
    "_x, _y = np.array(x).astype('int'), np.array(y).astype('int')\n",
    "_x.shape, _y.shape"
   ]
  },
  {
   "cell_type": "code",
   "execution_count": 31,
   "metadata": {},
   "outputs": [
    {
     "data": {
      "text/plain": [
       "(4830, 725)"
      ]
     },
     "execution_count": 31,
     "metadata": {},
     "output_type": "execute_result"
    }
   ],
   "source": [
    "# show positive and negative example\n",
    "sum(_y==0),sum(_y==1)"
   ]
  },
  {
   "cell_type": "markdown",
   "metadata": {},
   "source": [
    "### Create&Train KFolder dataset, plot ROCs\n",
    "Reference: https://segmentfault.com/a/1190000009101577"
   ]
  },
  {
   "cell_type": "code",
   "execution_count": 32,
   "metadata": {},
   "outputs": [],
   "source": [
    "from scipy import interp\n",
    "from itertools import cycle\n",
    "\n",
    "from sklearn.model_selection import StratifiedKFold\n",
    "from sklearn.metrics import roc_auc_score, roc_curve, auc, classification_report\n",
    "import time\n",
    "import random\n",
    "random.seed(42)"
   ]
  },
  {
   "cell_type": "code",
   "execution_count": 33,
   "metadata": {},
   "outputs": [],
   "source": [
    "# Method build light-gbm model\n",
    "# Reference: 3_2_jlr_classification_11feats.ipynb\n",
    "\n",
    "import lightgbm as lgb\n",
    "def lightgbm_model(x_train, x_test, y_train):\n",
    "    feature_name = list(x.keys())\n",
    "    categorical_feature = [\n",
    "#                            'gender',\n",
    "                           'location',\n",
    "    #                        'level', \n",
    "    #                        'properties', \n",
    "                           'car_like',\n",
    "                         #'regis_year', 'regis_month', 'regis_day',\n",
    "                          ]\n",
    "    x_train = lgb.Dataset(x_train.values,\n",
    "                          y_train.values,\n",
    "                          feature_name=feature_name,\n",
    "                         categorical_feature=categorical_feature,)\n",
    "    params = {\n",
    "            'boosting_type': 'gbdt',  # np.random.choice(['dart', 'gbdt']),\n",
    "            'objective': 'binary',\n",
    "            'metric': ['binary_logloss', 'auc'], \n",
    "\n",
    "            'learning_rate': 0.10,\n",
    "\n",
    "            'num_leaves': 13, #np.random.randint(10,14),\n",
    "            'max_depth': 9, #np.random.randint(7,10),\n",
    "            'min_data_in_leaf': 30, # int(2 ** (np.random.rand()*2 + 5)),\n",
    "\n",
    "            'feature_fraction': 0.8, #np.random.rand()*0.35+0.65,\n",
    "            'bagging_fraction': 0.9, #np.random.rand()*0.35+0.65,\n",
    "            'bagging_freq': 1,\n",
    "\n",
    "            'lambda_l1': 11, #10 ** (np.random.rand() * 4),\n",
    "            'lambda_l2': 10000, #10 ** (np.random.rand() * 3 + 2),\n",
    "            'min_gain_to_split': 0.0,\n",
    "            'min_sum_hessian_in_leaf': 0.1,\n",
    "\n",
    "            'num_threads': 16,\n",
    "            'verbose': 0,\n",
    "            'is_training_metric': 'True'\n",
    "        }\n",
    "#     print(\"Hyper-parameters: \")\n",
    "#     print(params)\n",
    "    model = lgb.train(params, x_train, num_boost_round=3000)\n",
    "    predictions = model.predict(x_test)\n",
    "    return model, predictions"
   ]
  },
  {
   "cell_type": "code",
   "execution_count": 34,
   "metadata": {},
   "outputs": [],
   "source": [
    "# Method to train k models and plot their testing results \n",
    "def kfolder_plot(train, ytrain, model):\n",
    "    \"\"\"\n",
    "    Args:\n",
    "    - train: dataframe\n",
    "    \"\"\"\n",
    "    kf = StratifiedKFold(n_splits=5, random_state=42, shuffle=True)\n",
    "    scores = []\n",
    "    mean_tpr = 0.0\n",
    "    mean_fpr = np.linspace(0,1,100)\n",
    "    exe_time = []\n",
    "    bst_models = {}\n",
    "    y_preds = {}\n",
    "    \n",
    "    colors = cycle(['cyan', 'orange', 'seagreen', 'yellow', 'blue'])\n",
    "    lw = 2\n",
    "    \n",
    "    i = 0\n",
    "    for(train_idx, test_idx), color in zip(kf.split(train, ytrain), colors):\n",
    "#         print(train_idx, test_idx)\n",
    "        x_train, x_test = train.iloc[train_idx], train.iloc[test_idx]\n",
    "        y_train, y_test = ytrain.iloc[train_idx], ytrain.iloc[test_idx]\n",
    "#         print(test_idx)\n",
    "        start = time.time()\n",
    "        \n",
    "        bst_model, predictions = model(x_train, x_test, y_train)\n",
    "        y_preds[i] = predictions\n",
    "        bst_models[i] = bst_model\n",
    "        \n",
    "        end = time.time()\n",
    "        exe_time.append(round(end-start, 3))\n",
    "        \n",
    "        scores.append(roc_auc_score(y_test.astype(float), predictions))\n",
    "        fpr, tpr, thresholds = roc_curve(y_test, predictions)\n",
    "        mean_tpr += interp(mean_fpr, fpr, tpr)\n",
    "        mean_tpr[0] = 0.0\n",
    "        roc_auc = auc(fpr, tpr)\n",
    "#         print(\"roc_auc: \", roc_auc)\n",
    "        plt.plot(fpr, tpr, lw=lw, color=color, label='ROC fold %d (area=%0.2f)'%(i, roc_auc))\n",
    "        i += 1\n",
    "#         print(classification_report(y_test, predictions>=0.5))\n",
    "\n",
    "    plt.plot([0, 1], [0, 1], linestyle='--', lw=lw, color='k', label='ROC baseline')\n",
    "    mean_tpr /= kf.get_n_splits(train, ytrain)\n",
    "    mean_tpr[-1] = 1.0\n",
    "    mean_auc = auc(mean_fpr, mean_tpr)\n",
    "    plt.plot(mean_fpr, mean_tpr, color='r', linestyle='--', label='Mean ROC(are a = %0.2f)'%mean_auc, lw=lw)\n",
    "    \n",
    "    plt.xlim([-0.05, 1.05])\n",
    "    plt.ylim([-0.05, 1.05])\n",
    "    plt.xlabel('False Positive Rate')\n",
    "    plt.ylabel('True Positive Rate')\n",
    "    plt.title('ROC KFolder')\n",
    "    plt.legend(loc='lower right')\n",
    "    plt.show()\n",
    "    \n",
    "    print('mean scores: ', np.mean(scores))\n",
    "    print('mean model process time: ', np.mean(exe_time))\n",
    "    return scores, np.mean(scores), np.mean(exe_time), bst_models, y_preds"
   ]
  },
  {
   "cell_type": "markdown",
   "metadata": {},
   "source": [
    "##### Train the 5 models and plot the testing result(ROC) of k models"
   ]
  },
  {
   "cell_type": "code",
   "execution_count": 35,
   "metadata": {},
   "outputs": [],
   "source": [
    "dct_scores = {}\n",
    "mean_score = {}\n",
    "mean_time = {}\n",
    "models = {}\n",
    "y_preds = {}"
   ]
  },
  {
   "cell_type": "code",
   "execution_count": 36,
   "metadata": {},
   "outputs": [
    {
     "data": {
      "image/png": "[encoded data removed]",
      "text/plain": [
       "<matplotlib.figure.Figure at 0x1a0f4692b0>"
      ]
     },
     "metadata": {},
     "output_type": "display_data"
    },
    {
     "name": "stdout",
     "output_type": "stream",
     "text": [
      "mean scores:  0.7333861640608268\n",
      "mean model process time:  11.527\n"
     ]
    }
   ],
   "source": [
    "import time\n",
    "dct_scores['lgbm'], mean_score['lgbm'], mean_time['lgbm'], bst_models, y_preds = kfolder_plot(x, y, lightgbm_model)"
   ]
  },
  {
   "cell_type": "code",
   "execution_count": 37,
   "metadata": {},
   "outputs": [],
   "source": [
    "train_idxs = []\n",
    "test_idxs = []\n",
    "kf = StratifiedKFold(n_splits=5, random_state=42,shuffle=True)\n",
    "for (train_idx, test_idx) in kf.split(x, y):\n",
    "    train_idxs.append(train_idx)\n",
    "    test_idxs.append(test_idx)\n",
    "#     print(test_idx)"
   ]
  },
  {
   "cell_type": "markdown",
   "metadata": {},
   "source": [
    "#### Plot feature importance of 5 models"
   ]
  },
  {
   "cell_type": "code",
   "execution_count": 38,
   "metadata": {},
   "outputs": [
    {
     "name": "stdout",
     "output_type": "stream",
     "text": [
      "[   2   10   23 ... 5551 5552 5553]\n",
      "num_y_pred_1:num_y_pred_0 =42:1069 \n",
      "             precision    recall  f1-score   support\n",
      "\n",
      "          0       0.89      0.99      0.94       966\n",
      "          1       0.67      0.19      0.30       145\n",
      "\n",
      "avg / total       0.86      0.88      0.85      1111\n",
      "\n",
      "roc_auc:  0.705632897836796\n"
     ]
    },
    {
     "data": {
      "image/png": "[encoded data removed]",
      "text/plain": [
       "<matplotlib.figure.Figure at 0x1a10d2a9b0>"
      ]
     },
     "metadata": {},
     "output_type": "display_data"
    },
    {
     "name": "stdout",
     "output_type": "stream",
     "text": [
      "[   6    7    9 ... 5522 5537 5554]\n",
      "num_y_pred_1:num_y_pred_0 =36:1075 \n",
      "             precision    recall  f1-score   support\n",
      "\n",
      "          0       0.89      0.99      0.94       966\n",
      "          1       0.86      0.21      0.34       145\n",
      "\n",
      "avg / total       0.89      0.89      0.86      1111\n",
      "\n",
      "roc_auc:  0.7570643249803669\n"
     ]
    },
    {
     "data": {
      "image/png": "[encoded data removed]",
      "text/plain": [
       "<matplotlib.figure.Figure at 0x1a10d5a9b0>"
      ]
     },
     "metadata": {},
     "output_type": "display_data"
    },
    {
     "name": "stdout",
     "output_type": "stream",
     "text": [
      "[   0    3    5 ... 5544 5545 5550]\n",
      "num_y_pred_1:num_y_pred_0 =22:1089 \n",
      "             precision    recall  f1-score   support\n",
      "\n",
      "          0       0.88      0.99      0.94       966\n",
      "          1       0.77      0.12      0.20       145\n",
      "\n",
      "avg / total       0.87      0.88      0.84      1111\n",
      "\n",
      "roc_auc:  0.7286820875276647\n"
     ]
    },
    {
     "data": {
      "image/png": "[encoded data removed]",
      "text/plain": [
       "<matplotlib.figure.Figure at 0x1a0f512320>"
      ]
     },
     "metadata": {},
     "output_type": "display_data"
    },
    {
     "name": "stdout",
     "output_type": "stream",
     "text": [
      "[   8   36   37 ... 5542 5546 5548]\n",
      "num_y_pred_1:num_y_pred_0 =41:1070 \n",
      "             precision    recall  f1-score   support\n",
      "\n",
      "          0       0.90      0.99      0.94       966\n",
      "          1       0.83      0.23      0.37       145\n",
      "\n",
      "avg / total       0.89      0.89      0.87      1111\n",
      "\n",
      "roc_auc:  0.7359427429142572\n"
     ]
    },
    {
     "data": {
      "image/png": "[encoded data removed]",
      "text/plain": [
       "<matplotlib.figure.Figure at 0x1a0f5d8f60>"
      ]
     },
     "metadata": {},
     "output_type": "display_data"
    },
    {
     "name": "stdout",
     "output_type": "stream",
     "text": [
      "[   1    4   13 ... 5541 5547 5549]\n",
      "num_y_pred_1:num_y_pred_0 =43:1068 \n",
      "             precision    recall  f1-score   support\n",
      "\n",
      "          0       0.90      0.99      0.94       966\n",
      "          1       0.79      0.23      0.36       145\n",
      "\n",
      "avg / total       0.88      0.89      0.87      1111\n",
      "\n",
      "roc_auc:  0.7396087670450489\n"
     ]
    },
    {
     "data": {
      "image/png": "[encoded data removed]",
      "text/plain": [
       "<matplotlib.figure.Figure at 0x1a0f8e7668>"
      ]
     },
     "metadata": {},
     "output_type": "display_data"
    }
   ],
   "source": [
    "for i in range(5):\n",
    "    gbm = bst_models[i]\n",
    "    x_test = x.iloc[test_idxs[i]]\n",
    "    y_test = y.iloc[test_idxs[i]]\n",
    "    print(test_idxs[i])\n",
    "\n",
    "    # y_pred = gbm.predict(x_test)\n",
    "    y_pred = y_preds[i]\n",
    "\n",
    "    # y_pred = y_pred >= 0.5\n",
    "    # print(y_pred[:10])\n",
    "\n",
    "    from sklearn.metrics import accuracy_score, confusion_matrix\n",
    "    # print(accuracy_score(y_test, y_pred))\n",
    "    print(\"num_y_pred_1:num_y_pred_0 ={}:{} \".format(sum(y_pred>=0.5), sum(y_pred<0.5)))\n",
    "    _y_pred = y_pred >= 0.5\n",
    "    # print(confusion_matrix(y_true=y_test, y_pred=y_pred))\n",
    "    print(classification_report(y_true=y_test, y_pred=_y_pred))\n",
    "\n",
    "    # AUC \n",
    "    fpr, tpr, _ = roc_curve(y_test, y_pred)\n",
    "    roc_auc = auc(fpr, tpr)\n",
    "    print(\"roc_auc: \",roc_auc)\n",
    "\n",
    "    feature_importance = pd.DataFrame({'name':gbm.feature_name(), 'importance':gbm.feature_importance()}).sort_values(by='importance', ascending=False)\n",
    "    feature_importance.to_csv('./feat_importance.csv', index=False)\n",
    "    # fig = matplotlib.pyplot.gcf()\n",
    "    # fig.set_size_inches(15, 5)\n",
    "    plt.rcParams['savefig.dpi'] = 50 #图片像素\n",
    "    plt.rcParams['figure.dpi'] = 100 #分辨率\n",
    "    feature_importance.plot(x='name', y='importance',kind='barh')\n",
    "    # plt.savefig('plot123_2.png', dpi=300) \n",
    "    plt.show()"
   ]
  }
 ],
 "metadata": {
  "kernelspec": {
   "display_name": "Python 3",
   "language": "python",
   "name": "python3"
  },
  "language_info": {
   "codemirror_mode": {
    "name": "ipython",
    "version": 3
   },
   "file_extension": ".py",
   "mimetype": "text/x-python",
   "name": "python",
   "nbconvert_exporter": "python",
   "pygments_lexer": "ipython3",
   "version": "3.6.4"
  }
 },
 "nbformat": 4,
 "nbformat_minor": 2
}
