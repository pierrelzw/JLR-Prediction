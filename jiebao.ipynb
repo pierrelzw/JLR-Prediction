{
 "cells": [
  {
   "cell_type": "code",
   "execution_count": 1,
   "metadata": {},
   "outputs": [],
   "source": [
    "import os\n",
    "import pandas as pd\n",
    "import numpy as np\n",
    "from matplotlib import pyplot as plt\n",
    "%matplotlib inline"
   ]
  },
  {
   "cell_type": "code",
   "execution_count": 2,
   "metadata": {},
   "outputs": [
    {
     "name": "stdout",
     "output_type": "stream",
     "text": [
      "['口碑 路虎 总.xlsx', '路虎口碑所有用户.xlsx', '.DS_Store', '汽车之家爬虫.pdf', '路虎口碑用户.xlsx', '路虎车商城.xlsx', '路虎口碑用户-1.xlsx', '捷豹车商城.xlsx', '路虎口碑评论人.xlsx', '捷豹口碑用户.xlsx', '路虎帖子评论人.xlsx', '口碑 捷豹 评论.xlsx', '路虎口碑评论人-1.xlsx', '捷豹口碑评论人.xlsx', '口碑 路虎 评论.xlsx', '~$路虎口碑所有用户.xlsx', '口碑 捷豹 总 252.xlsx']\n"
     ]
    }
   ],
   "source": [
    "print(os.listdir(\"data/\"))"
   ]
  },
  {
   "cell_type": "code",
   "execution_count": 4,
   "metadata": {},
   "outputs": [
    {
     "name": "stdout",
     "output_type": "stream",
     "text": [
      "(250, 180)\n"
     ]
    },
    {
     "data": {
      "text/html": [
       "<div>\n",
       "<style scoped>\n",
       "    .dataframe tbody tr th:only-of-type {\n",
       "        vertical-align: middle;\n",
       "    }\n",
       "\n",
       "    .dataframe tbody tr th {\n",
       "        vertical-align: top;\n",
       "    }\n",
       "\n",
       "    .dataframe thead th {\n",
       "        text-align: right;\n",
       "    }\n",
       "</style>\n",
       "<table border=\"1\" class=\"dataframe\">\n",
       "  <thead>\n",
       "    <tr style=\"text-align: right;\">\n",
       "      <th></th>\n",
       "      <th>用户名</th>\n",
       "      <th>关注</th>\n",
       "      <th>粉丝</th>\n",
       "      <th>性别</th>\n",
       "      <th>生日</th>\n",
       "      <th>所在地</th>\n",
       "      <th>等级</th>\n",
       "      <th>帖子数</th>\n",
       "      <th>关注的车or爱车</th>\n",
       "      <th>注册时间</th>\n",
       "      <th>...</th>\n",
       "      <th>Unnamed: 170</th>\n",
       "      <th>Unnamed: 171</th>\n",
       "      <th>Unnamed: 172</th>\n",
       "      <th>Unnamed: 173</th>\n",
       "      <th>Unnamed: 174</th>\n",
       "      <th>Unnamed: 175</th>\n",
       "      <th>Unnamed: 176</th>\n",
       "      <th>Unnamed: 177</th>\n",
       "      <th>Unnamed: 178</th>\n",
       "      <th>Unnamed: 179</th>\n",
       "    </tr>\n",
       "  </thead>\n",
       "  <tbody>\n",
       "    <tr>\n",
       "      <th>0</th>\n",
       "      <td>oden123</td>\n",
       "      <td>0</td>\n",
       "      <td>0</td>\n",
       "      <td>man</td>\n",
       "      <td>NaN</td>\n",
       "      <td>江西 宜春</td>\n",
       "      <td>1</td>\n",
       "      <td>0篇精华帖/0篇帖子</td>\n",
       "      <td>关注的车：宝马5系</td>\n",
       "      <td>2018-03-26 00:00:00</td>\n",
       "      <td>...</td>\n",
       "      <td>NaN</td>\n",
       "      <td>NaN</td>\n",
       "      <td>NaN</td>\n",
       "      <td>NaN</td>\n",
       "      <td>NaN</td>\n",
       "      <td>NaN</td>\n",
       "      <td>NaN</td>\n",
       "      <td>NaN</td>\n",
       "      <td>NaN</td>\n",
       "      <td>NaN</td>\n",
       "    </tr>\n",
       "    <tr>\n",
       "      <th>1</th>\n",
       "      <td>生活1934626</td>\n",
       "      <td>2</td>\n",
       "      <td>4</td>\n",
       "      <td>man</td>\n",
       "      <td>NaN</td>\n",
       "      <td>甘肃 白银</td>\n",
       "      <td>1</td>\n",
       "      <td>0篇精华帖/0篇帖子</td>\n",
       "      <td>关注的车：奥迪A6L</td>\n",
       "      <td>2012-05-07 00:00:00</td>\n",
       "      <td>...</td>\n",
       "      <td>NaN</td>\n",
       "      <td>NaN</td>\n",
       "      <td>NaN</td>\n",
       "      <td>NaN</td>\n",
       "      <td>NaN</td>\n",
       "      <td>NaN</td>\n",
       "      <td>NaN</td>\n",
       "      <td>NaN</td>\n",
       "      <td>NaN</td>\n",
       "      <td>NaN</td>\n",
       "    </tr>\n",
       "  </tbody>\n",
       "</table>\n",
       "<p>2 rows × 180 columns</p>\n",
       "</div>"
      ],
      "text/plain": [
       "         用户名 关注 粉丝   性别   生日    所在地 等级         帖子数    关注的车or爱车  \\\n",
       "0    oden123  0  0  man  NaN  江西 宜春  1  0篇精华帖/0篇帖子   关注的车：宝马5系   \n",
       "1  生活1934626  2  4  man  NaN  甘肃 白银  1  0篇精华帖/0篇帖子  关注的车：奥迪A6L   \n",
       "\n",
       "                  注册时间     ...      Unnamed: 170 Unnamed: 171 Unnamed: 172  \\\n",
       "0  2018-03-26 00:00:00     ...               NaN          NaN          NaN   \n",
       "1  2012-05-07 00:00:00     ...               NaN          NaN          NaN   \n",
       "\n",
       "  Unnamed: 173 Unnamed: 174 Unnamed: 175 Unnamed: 176 Unnamed: 177  \\\n",
       "0          NaN          NaN          NaN          NaN          NaN   \n",
       "1          NaN          NaN          NaN          NaN          NaN   \n",
       "\n",
       "  Unnamed: 178 Unnamed: 179  \n",
       "0          NaN          NaN  \n",
       "1          NaN          NaN  \n",
       "\n",
       "[2 rows x 180 columns]"
      ]
     },
     "execution_count": 4,
     "metadata": {},
     "output_type": "execute_result"
    }
   ],
   "source": [
    "# read user table to dataframe\n",
    "table_path = \"data/捷豹口碑用户.xlsx\"\n",
    "user_koubei = pd.read_excel(table_path)\n",
    "# col_names = user_koubei.keys()\n",
    "# print(user_koubei.dtypes)\n",
    "print(user_koubei.shape)\n",
    "user_koubei.head(2)"
   ]
  },
  {
   "cell_type": "code",
   "execution_count": 5,
   "metadata": {},
   "outputs": [
    {
     "data": {
      "text/plain": [
       "[126, 226]"
      ]
     },
     "execution_count": 5,
     "metadata": {},
     "output_type": "execute_result"
    }
   ],
   "source": [
    "indexs_notnull_col17 = user_koubei[user_koubei['Unnamed: 17'].notnull()].index.tolist()\n",
    "indexs_notnull_col17"
   ]
  },
  {
   "cell_type": "code",
   "execution_count": 6,
   "metadata": {},
   "outputs": [
    {
     "name": "stdout",
     "output_type": "stream",
     "text": [
      "(250, 180)\n",
      "(248, 180)\n"
     ]
    }
   ],
   "source": [
    "# remove wrong rows\n",
    "print(user_koubei.shape)\n",
    "user_koubei = user_koubei.drop(indexs_notnull_col17,axis=0)\n",
    "print(user_koubei.shape)"
   ]
  },
  {
   "cell_type": "code",
   "execution_count": 9,
   "metadata": {},
   "outputs": [
    {
     "name": "stdout",
     "output_type": "stream",
     "text": [
      "(248, 17)\n",
      "(248, 17)\n"
     ]
    },
    {
     "data": {
      "text/html": [
       "<div>\n",
       "<style scoped>\n",
       "    .dataframe tbody tr th:only-of-type {\n",
       "        vertical-align: middle;\n",
       "    }\n",
       "\n",
       "    .dataframe tbody tr th {\n",
       "        vertical-align: top;\n",
       "    }\n",
       "\n",
       "    .dataframe thead th {\n",
       "        text-align: right;\n",
       "    }\n",
       "</style>\n",
       "<table border=\"1\" class=\"dataframe\">\n",
       "  <thead>\n",
       "    <tr style=\"text-align: right;\">\n",
       "      <th></th>\n",
       "      <th>用户名</th>\n",
       "      <th>关注</th>\n",
       "      <th>粉丝</th>\n",
       "      <th>性别</th>\n",
       "      <th>生日</th>\n",
       "      <th>所在地</th>\n",
       "      <th>等级</th>\n",
       "      <th>帖子数</th>\n",
       "      <th>关注的车or爱车</th>\n",
       "      <th>注册时间</th>\n",
       "      <th>身份</th>\n",
       "      <th>里程值</th>\n",
       "      <th>帖子</th>\n",
       "      <th>他的车库</th>\n",
       "      <th>他的口碑</th>\n",
       "      <th>他的油耗</th>\n",
       "      <th>他的车友会</th>\n",
       "    </tr>\n",
       "  </thead>\n",
       "  <tbody>\n",
       "    <tr>\n",
       "      <th>0</th>\n",
       "      <td>oden123</td>\n",
       "      <td>0</td>\n",
       "      <td>0</td>\n",
       "      <td>man</td>\n",
       "      <td>NaN</td>\n",
       "      <td>江西 宜春</td>\n",
       "      <td>1</td>\n",
       "      <td>0篇精华帖/0篇帖子</td>\n",
       "      <td>关注的车：宝马5系</td>\n",
       "      <td>2018-03-26 00:00:00</td>\n",
       "      <td>普通用户</td>\n",
       "      <td>4430</td>\n",
       "      <td>[]</td>\n",
       "      <td>['捷豹 捷豹XFL 2018款 XFL 2.0T 200PS 精英版']</td>\n",
       "      <td>[{'title': '敲黑板了！2018款xfl精英版2个月的使用感受，要考的', 'ur...</td>\n",
       "      <td>[{'车型': '捷豹 捷豹XFL 2018款 XFL 2.0T 200PS 精英版', '...</td>\n",
       "      <td>[]</td>\n",
       "    </tr>\n",
       "    <tr>\n",
       "      <th>1</th>\n",
       "      <td>生活1934626</td>\n",
       "      <td>2</td>\n",
       "      <td>4</td>\n",
       "      <td>man</td>\n",
       "      <td>NaN</td>\n",
       "      <td>甘肃 白银</td>\n",
       "      <td>1</td>\n",
       "      <td>0篇精华帖/0篇帖子</td>\n",
       "      <td>关注的车：奥迪A6L</td>\n",
       "      <td>2012-05-07 00:00:00</td>\n",
       "      <td>普通用户</td>\n",
       "      <td>4270</td>\n",
       "      <td>[]</td>\n",
       "      <td>[]</td>\n",
       "      <td>[{'title': '外型好看，动力好', 'url': '//k.autohome.co...</td>\n",
       "      <td>[{'车型': '捷豹 捷豹XFL 2018款 XFL 2.0T 250PS 豪华版', '...</td>\n",
       "      <td>[{'名称': '汽车之家甘肃论坛车友会', '人数': 672, '创建时间': '201...</td>\n",
       "    </tr>\n",
       "  </tbody>\n",
       "</table>\n",
       "</div>"
      ],
      "text/plain": [
       "         用户名 关注 粉丝   性别   生日    所在地 等级         帖子数    关注的车or爱车  \\\n",
       "0    oden123  0  0  man  NaN  江西 宜春  1  0篇精华帖/0篇帖子   关注的车：宝马5系   \n",
       "1  生活1934626  2  4  man  NaN  甘肃 白银  1  0篇精华帖/0篇帖子  关注的车：奥迪A6L   \n",
       "\n",
       "                  注册时间    身份   里程值  帖子                                   他的车库  \\\n",
       "0  2018-03-26 00:00:00  普通用户  4430  []  ['捷豹 捷豹XFL 2018款 XFL 2.0T 200PS 精英版']   \n",
       "1  2012-05-07 00:00:00  普通用户  4270  []                                     []   \n",
       "\n",
       "                                                他的口碑  \\\n",
       "0  [{'title': '敲黑板了！2018款xfl精英版2个月的使用感受，要考的', 'ur...   \n",
       "1  [{'title': '外型好看，动力好', 'url': '//k.autohome.co...   \n",
       "\n",
       "                                                他的油耗  \\\n",
       "0  [{'车型': '捷豹 捷豹XFL 2018款 XFL 2.0T 200PS 精英版', '...   \n",
       "1  [{'车型': '捷豹 捷豹XFL 2018款 XFL 2.0T 250PS 豪华版', '...   \n",
       "\n",
       "                                               他的车友会  \n",
       "0                                                 []  \n",
       "1  [{'名称': '汽车之家甘肃论坛车友会', '人数': 672, '创建时间': '201...  "
      ]
     },
     "execution_count": 9,
     "metadata": {},
     "output_type": "execute_result"
    }
   ],
   "source": [
    "#drop empty columns \n",
    "user_koubei= user_koubei.dropna(how='all',axis=0)\n",
    "print(user_koubei.shape)\n",
    "user_koubei = user_koubei.dropna(how='all',axis=1)\n",
    "print(user_koubei.shape)\n",
    "user_koubei.head(2)"
   ]
  },
  {
   "cell_type": "code",
   "execution_count": 10,
   "metadata": {},
   "outputs": [
    {
     "data": {
      "text/plain": [
       "用户名           0\n",
       "关注            0\n",
       "粉丝            0\n",
       "性别            0\n",
       "生日          186\n",
       "所在地           0\n",
       "等级            0\n",
       "帖子数           0\n",
       "关注的车or爱车      0\n",
       "注册时间          0\n",
       "身份            0\n",
       "里程值           0\n",
       "帖子            0\n",
       "他的车库          2\n",
       "他的口碑          2\n",
       "他的油耗          2\n",
       "他的车友会         2\n",
       "dtype: int64"
      ]
     },
     "execution_count": 10,
     "metadata": {},
     "output_type": "execute_result"
    }
   ],
   "source": [
    "user_koubei.isnull().sum()"
   ]
  },
  {
   "cell_type": "code",
   "execution_count": null,
   "metadata": {},
   "outputs": [],
   "source": []
  }
 ],
 "metadata": {
  "kernelspec": {
   "display_name": "Python 3",
   "language": "python",
   "name": "python3"
  },
  "language_info": {
   "codemirror_mode": {
    "name": "ipython",
    "version": 3
   },
   "file_extension": ".py",
   "mimetype": "text/x-python",
   "name": "python",
   "nbconvert_exporter": "python",
   "pygments_lexer": "ipython3",
   "version": "3.6.4"
  }
 },
 "nbformat": 4,
 "nbformat_minor": 2
}
