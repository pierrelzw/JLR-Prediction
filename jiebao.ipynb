{
 "cells": [
  {
   "cell_type": "code",
   "execution_count": 3,
   "metadata": {},
   "outputs": [],
   "source": [
    "from scipy import stats\n",
    "import os\n",
    "import pandas as pd # package for high-performance, easy-to-use data structures and data analysis\n",
    "import numpy as np  # fundamental package for acientific computing with python\n",
    "import matplotlib \n",
    "from matplotlib import pyplot as plt # for plotting\n",
    "import seaborn as sns # for making plots with seaborn\n",
    "color = sns.color_palette()\n",
    "import plotly.graph_objs as go\n",
    "from plotly.offline import init_notebook_mode, iplot\n",
    "\n",
    "from config import config as cfg\n",
    "import utils\n",
    "\n",
    "%matplotlib inline"
   ]
  },
  {
   "cell_type": "code",
   "execution_count": 4,
   "metadata": {},
   "outputs": [
    {
     "name": "stdout",
     "output_type": "stream",
     "text": [
      "['jiebao_all_user_processed.csv', '口碑 路虎 总.xlsx', 'luhu_comments.xlsx', '路虎口碑所有用户.xlsx', '.DS_Store', '路虎口碑用户.xlsx', '路虎车商城.xlsx', 'jiebao_all_user.xlsx', 'luhu_koubei_user.xlsx', '路虎口碑用户-1.xlsx', '捷豹车商城.xlsx', '路虎口碑评论人.xlsx', '~$捷豹口碑用户.xlsx', '捷豹口碑用户.xlsx', '路虎帖子评论人.xlsx', 'luhu_all_user.xlsx', 'luhu_comment_user.xlsx', '口碑 捷豹 评论.xlsx', 'jiebao_user_koubei.xlsx', '.ipynb_checkpoints', 'luhu_all_user_processed.xlsx', '路虎口碑评论人-1.xlsx', 'jiebao_all_user_processed.xlsx', '捷豹口碑评论人.xlsx', '口碑 路虎 评论.xlsx', '~$路虎口碑所有用户.xlsx', '口碑 捷豹 总 252.xlsx']\n"
     ]
    }
   ],
   "source": [
    "# show all file in current folder\n",
    "print(os.listdir(\"data/\"))"
   ]
  },
  {
   "cell_type": "markdown",
   "metadata": {},
   "source": [
    "### user jiebao koubei "
   ]
  },
  {
   "cell_type": "code",
   "execution_count": 7,
   "metadata": {},
   "outputs": [
    {
     "name": "stdout",
     "output_type": "stream",
     "text": [
      "(250, 180)\n"
     ]
    },
    {
     "data": {
      "text/html": [
       "<div>\n",
       "<style scoped>\n",
       "    .dataframe tbody tr th:only-of-type {\n",
       "        vertical-align: middle;\n",
       "    }\n",
       "\n",
       "    .dataframe tbody tr th {\n",
       "        vertical-align: top;\n",
       "    }\n",
       "\n",
       "    .dataframe thead th {\n",
       "        text-align: right;\n",
       "    }\n",
       "</style>\n",
       "<table border=\"1\" class=\"dataframe\">\n",
       "  <thead>\n",
       "    <tr style=\"text-align: right;\">\n",
       "      <th></th>\n",
       "      <th>用户名</th>\n",
       "      <th>关注</th>\n",
       "      <th>粉丝</th>\n",
       "      <th>性别</th>\n",
       "      <th>生日</th>\n",
       "      <th>所在地</th>\n",
       "      <th>等级</th>\n",
       "      <th>帖子数</th>\n",
       "      <th>关注的车or爱车</th>\n",
       "      <th>注册时间</th>\n",
       "      <th>...</th>\n",
       "      <th>Unnamed: 170</th>\n",
       "      <th>Unnamed: 171</th>\n",
       "      <th>Unnamed: 172</th>\n",
       "      <th>Unnamed: 173</th>\n",
       "      <th>Unnamed: 174</th>\n",
       "      <th>Unnamed: 175</th>\n",
       "      <th>Unnamed: 176</th>\n",
       "      <th>Unnamed: 177</th>\n",
       "      <th>Unnamed: 178</th>\n",
       "      <th>Unnamed: 179</th>\n",
       "    </tr>\n",
       "  </thead>\n",
       "  <tbody>\n",
       "    <tr>\n",
       "      <th>0</th>\n",
       "      <td>oden123</td>\n",
       "      <td>0</td>\n",
       "      <td>0</td>\n",
       "      <td>man</td>\n",
       "      <td>NaN</td>\n",
       "      <td>江西 宜春</td>\n",
       "      <td>1</td>\n",
       "      <td>0篇精华帖/0篇帖子</td>\n",
       "      <td>关注的车：宝马5系</td>\n",
       "      <td>2018-03-26 00:00:00</td>\n",
       "      <td>...</td>\n",
       "      <td>NaN</td>\n",
       "      <td>NaN</td>\n",
       "      <td>NaN</td>\n",
       "      <td>NaN</td>\n",
       "      <td>NaN</td>\n",
       "      <td>NaN</td>\n",
       "      <td>NaN</td>\n",
       "      <td>NaN</td>\n",
       "      <td>NaN</td>\n",
       "      <td>NaN</td>\n",
       "    </tr>\n",
       "  </tbody>\n",
       "</table>\n",
       "<p>1 rows × 180 columns</p>\n",
       "</div>"
      ],
      "text/plain": [
       "       用户名 关注 粉丝   性别   生日    所在地 等级         帖子数   关注的车or爱车  \\\n",
       "0  oden123  0  0  man  NaN  江西 宜春  1  0篇精华帖/0篇帖子  关注的车：宝马5系   \n",
       "\n",
       "                  注册时间     ...      Unnamed: 170 Unnamed: 171 Unnamed: 172  \\\n",
       "0  2018-03-26 00:00:00     ...               NaN          NaN          NaN   \n",
       "\n",
       "  Unnamed: 173 Unnamed: 174 Unnamed: 175 Unnamed: 176 Unnamed: 177  \\\n",
       "0          NaN          NaN          NaN          NaN          NaN   \n",
       "\n",
       "  Unnamed: 178 Unnamed: 179  \n",
       "0          NaN          NaN  \n",
       "\n",
       "[1 rows x 180 columns]"
      ]
     },
     "execution_count": 7,
     "metadata": {},
     "output_type": "execute_result"
    }
   ],
   "source": [
    "# read data(user info) into dataframe\n",
    "\n",
    "table_path = \"data/捷豹口碑用户.xlsx\"\n",
    "user_koubei = pd.read_excel(table_path)\n",
    "# col_names = user_koubei.keys()\n",
    "# print(user_koubei.dtypes)\n",
    "print(user_koubei.shape)\n",
    "user_koubei.head(1)"
   ]
  },
  {
   "cell_type": "markdown",
   "metadata": {},
   "source": [
    "we found that there are more columns than it should have(17)."
   ]
  },
  {
   "cell_type": "code",
   "execution_count": 1,
   "metadata": {},
   "outputs": [],
   "source": [
    "# # remove wrong rows:\n",
    "\n",
    "# indexs_notnull_col17 = user_koubei[user_koubei['Unnamed: 17'].notnull()].index.tolist()\n",
    "# print(\"第18列非空的行（错误行）：\", indexs_notnull_col17)\n",
    "\n",
    "# print(\"删除错误行之前的表格大小： \", user_koubei.shape)\n",
    "# user_koubei = user_koubei.drop(indexs_notnull_col17,axis=0)\n",
    "# print(\"删除错误行之后的表格大小： \"user_koubei.shape)"
   ]
  },
  {
   "cell_type": "code",
   "execution_count": 10,
   "metadata": {},
   "outputs": [
    {
     "name": "stdout",
     "output_type": "stream",
     "text": [
      "Original shape:  (248, 180)\n",
      "After removing duplication:  (248, 180)\n",
      "After removing empty rows:  (248, 180)\n",
      "After removing empty cols:  (248, 17)\n"
     ]
    }
   ],
   "source": [
    "# clean dataframe: remove duplication， wrong rows and columns\n",
    "clean_df(user_koubei)"
   ]
  },
  {
   "cell_type": "code",
   "execution_count": 11,
   "metadata": {},
   "outputs": [
    {
     "data": {
      "text/plain": [
       "用户名           0\n",
       "关注            0\n",
       "粉丝            0\n",
       "性别            0\n",
       "生日          186\n",
       "所在地           0\n",
       "等级            0\n",
       "帖子数           0\n",
       "关注的车or爱车      0\n",
       "注册时间          0\n",
       "身份            0\n",
       "里程值           0\n",
       "帖子           65\n",
       "他的车库         85\n",
       "他的口碑          2\n",
       "他的油耗        214\n",
       "他的车友会       183\n",
       "label         0\n",
       "dtype: int64"
      ]
     },
     "execution_count": 11,
     "metadata": {},
     "output_type": "execute_result"
    }
   ],
   "source": [
    "# show missing value of columns \n",
    "user_koubei['label']=1\n",
    "user_koubei.isnull().sum()"
   ]
  },
  {
   "cell_type": "markdown",
   "metadata": {},
   "source": [
    "### user jiebao comment"
   ]
  },
  {
   "cell_type": "code",
   "execution_count": 12,
   "metadata": {},
   "outputs": [
    {
     "name": "stdout",
     "output_type": "stream",
     "text": [
      "(4933, 17)\n",
      "用户名                 object\n",
      "关注                   int64\n",
      "粉丝                   int64\n",
      "性别                  object\n",
      "生日          datetime64[ns]\n",
      "所在地                 object\n",
      "等级                   int64\n",
      "帖子数                 object\n",
      "关注的车or爱车            object\n",
      "注册时间        datetime64[ns]\n",
      "身份                  object\n",
      "里程值                  int64\n",
      "帖子                  object\n",
      "他的车库                object\n",
      "他的口碑                object\n",
      "他的油耗                object\n",
      "他的车友会               object\n",
      "dtype: object\n"
     ]
    },
    {
     "data": {
      "text/html": [
       "<div>\n",
       "<style scoped>\n",
       "    .dataframe tbody tr th:only-of-type {\n",
       "        vertical-align: middle;\n",
       "    }\n",
       "\n",
       "    .dataframe tbody tr th {\n",
       "        vertical-align: top;\n",
       "    }\n",
       "\n",
       "    .dataframe thead th {\n",
       "        text-align: right;\n",
       "    }\n",
       "</style>\n",
       "<table border=\"1\" class=\"dataframe\">\n",
       "  <thead>\n",
       "    <tr style=\"text-align: right;\">\n",
       "      <th></th>\n",
       "      <th>用户名</th>\n",
       "      <th>关注</th>\n",
       "      <th>粉丝</th>\n",
       "      <th>性别</th>\n",
       "      <th>生日</th>\n",
       "      <th>所在地</th>\n",
       "      <th>等级</th>\n",
       "      <th>帖子数</th>\n",
       "      <th>关注的车or爱车</th>\n",
       "      <th>注册时间</th>\n",
       "      <th>身份</th>\n",
       "      <th>里程值</th>\n",
       "      <th>帖子</th>\n",
       "      <th>他的车库</th>\n",
       "      <th>他的口碑</th>\n",
       "      <th>他的油耗</th>\n",
       "      <th>他的车友会</th>\n",
       "    </tr>\n",
       "  </thead>\n",
       "  <tbody>\n",
       "    <tr>\n",
       "      <th>0</th>\n",
       "      <td>wong19925555</td>\n",
       "      <td>0</td>\n",
       "      <td>0</td>\n",
       "      <td>man</td>\n",
       "      <td>NaT</td>\n",
       "      <td>四川 成都</td>\n",
       "      <td>1</td>\n",
       "      <td>0篇精华帖/0篇帖子</td>\n",
       "      <td>关注的车：远景SUV</td>\n",
       "      <td>2018-06-17</td>\n",
       "      <td>普通用户</td>\n",
       "      <td>110</td>\n",
       "      <td>[]</td>\n",
       "      <td>[]</td>\n",
       "      <td>[]</td>\n",
       "      <td>[]</td>\n",
       "      <td>[]</td>\n",
       "    </tr>\n",
       "    <tr>\n",
       "      <th>1</th>\n",
       "      <td>昆虫977</td>\n",
       "      <td>2</td>\n",
       "      <td>0</td>\n",
       "      <td>man</td>\n",
       "      <td>NaT</td>\n",
       "      <td>湖南 长沙</td>\n",
       "      <td>1</td>\n",
       "      <td>0篇精华帖/0篇帖子</td>\n",
       "      <td>关注的车：领克01</td>\n",
       "      <td>2018-06-11</td>\n",
       "      <td>普通用户</td>\n",
       "      <td>640</td>\n",
       "      <td>[]</td>\n",
       "      <td>[]</td>\n",
       "      <td>[]</td>\n",
       "      <td>[]</td>\n",
       "      <td>[]</td>\n",
       "    </tr>\n",
       "  </tbody>\n",
       "</table>\n",
       "</div>"
      ],
      "text/plain": [
       "            用户名  关注  粉丝   性别  生日    所在地  等级         帖子数    关注的车or爱车  \\\n",
       "0  wong19925555   0   0  man NaT  四川 成都   1  0篇精华帖/0篇帖子  关注的车：远景SUV   \n",
       "1         昆虫977   2   0  man NaT  湖南 长沙   1  0篇精华帖/0篇帖子   关注的车：领克01   \n",
       "\n",
       "        注册时间    身份  里程值  帖子 他的车库 他的口碑 他的油耗 他的车友会  \n",
       "0 2018-06-17  普通用户  110  []   []   []   []    []  \n",
       "1 2018-06-11  普通用户  640  []   []   []   []    []  "
      ]
     },
     "execution_count": 12,
     "metadata": {},
     "output_type": "execute_result"
    }
   ],
   "source": [
    "# read user table to dataframe\n",
    "table_path = \"data/捷豹口碑评论人.xlsx\"\n",
    "visitor_koubei = pd.read_excel(table_path)\n",
    "\n",
    "col_names = visitor_koubei.keys()\n",
    "print(visitor_koubei.shape)\n",
    "print(visitor_koubei.dtypes)\n",
    "visitor_koubei.head(2)"
   ]
  },
  {
   "cell_type": "code",
   "execution_count": 19,
   "metadata": {},
   "outputs": [
    {
     "name": "stdout",
     "output_type": "stream",
     "text": [
      "Original shape:  (2733, 18)\n",
      "After removing duplication:  (2733, 18)\n",
      "After removing empty rows:  (2733, 18)\n",
      "After removing empty cols:  (2733, 18)\n"
     ]
    }
   ],
   "source": [
    "# clean dataframe \n",
    "utils.clean_df(visitor_koubei)"
   ]
  },
  {
   "cell_type": "code",
   "execution_count": 20,
   "metadata": {},
   "outputs": [
    {
     "data": {
      "text/plain": [
       "用户名           0\n",
       "关注            0\n",
       "粉丝            0\n",
       "性别            0\n",
       "生日          186\n",
       "所在地           0\n",
       "等级            0\n",
       "帖子数           0\n",
       "关注的车or爱车      0\n",
       "注册时间          0\n",
       "身份            0\n",
       "里程值           0\n",
       "帖子           65\n",
       "他的车库         85\n",
       "他的口碑          2\n",
       "他的油耗        214\n",
       "他的车友会       183\n",
       "label         0\n",
       "dtype: int64"
      ]
     },
     "execution_count": 20,
     "metadata": {},
     "output_type": "execute_result"
    }
   ],
   "source": [
    "# add label\n",
    "visitor_koubei['label']=0\n",
    "\n",
    "# save df\n",
    "user_koubei.to_excel(\"data/jiebao_user_koubei.xlsx\",encoding='utf-8')\n",
    "user_koubei.isnull().sum()"
   ]
  },
  {
   "cell_type": "markdown",
   "metadata": {},
   "source": [
    "### merge 2 tables"
   ]
  },
  {
   "cell_type": "code",
   "execution_count": 21,
   "metadata": {},
   "outputs": [
    {
     "name": "stdout",
     "output_type": "stream",
     "text": [
      "(248, 18)\n",
      "(2733, 18)\n"
     ]
    }
   ],
   "source": [
    "print(user_koubei.shape)\n",
    "print(visitor_koubei.shape)"
   ]
  },
  {
   "cell_type": "code",
   "execution_count": 25,
   "metadata": {},
   "outputs": [
    {
     "name": "stdout",
     "output_type": "stream",
     "text": [
      "(2981, 18)\n",
      "(2981, 18)\n"
     ]
    }
   ],
   "source": [
    "# merge dataframe\n",
    "merge_df = user_koubei.append(visitor_koubei) # (5181, 17)\n",
    "print(merge_df.shape)\n",
    "\n",
    "merge_df = merge_df.drop_duplicates()\n",
    "print(merge_df.shape) #(2981, 17)"
   ]
  },
  {
   "cell_type": "code",
   "execution_count": 26,
   "metadata": {},
   "outputs": [
    {
     "name": "stdout",
     "output_type": "stream",
     "text": [
      "dataset size:  (2981, 18)\n",
      "          total  missing_percentage\n",
      "他的油耗       2808           94.196578\n",
      "生日         2579           86.514592\n",
      "他的车友会      2489           83.495471\n",
      "他的口碑       2154           72.257632\n",
      "帖子         2114           70.915800\n",
      "他的车库       2003           67.192217\n",
      "label         0            0.000000\n",
      "所在地           0            0.000000\n",
      "关注            0            0.000000\n",
      "粉丝            0            0.000000\n",
      "性别            0            0.000000\n",
      "关注的车or爱车      0            0.000000\n",
      "等级            0            0.000000\n",
      "帖子数           0            0.000000\n",
      "注册时间          0            0.000000\n",
      "身份            0            0.000000\n",
      "里程值           0            0.000000\n",
      "用户名           0            0.000000\n"
     ]
    }
   ],
   "source": [
    "utils.missing_data_check(merge_df)"
   ]
  },
  {
   "cell_type": "code",
   "execution_count": 27,
   "metadata": {},
   "outputs": [
    {
     "name": "stdout",
     "output_type": "stream",
     "text": [
      "Index(['用户名', '关注', '粉丝', '性别', '生日', '所在地', '等级', '帖子数', '关注的车or爱车', '注册时间',\n",
      "       '身份', '里程值', '帖子', '他的车库', '他的口碑', '他的油耗', '他的车友会', 'label'],\n",
      "      dtype='object')\n",
      "18\n"
     ]
    },
    {
     "data": {
      "text/plain": [
       "['user_id',\n",
       " 'follow_count',\n",
       " 'fans_count',\n",
       " 'gender',\n",
       " 'birthday',\n",
       " 'location',\n",
       " 'level',\n",
       " 'post_count',\n",
       " 'car_liked',\n",
       " 'registration_time',\n",
       " 'properties',\n",
       " 'mileage',\n",
       " 'post',\n",
       " 'cars',\n",
       " 'koubei_post',\n",
       " 'gas_mileage',\n",
       " 'car_friend_zone',\n",
       " 'label']"
      ]
     },
     "execution_count": 27,
     "metadata": {},
     "output_type": "execute_result"
    }
   ],
   "source": [
    "print(merge_df.keys())\n",
    "new_columns = cfg.user_COLUMNS\n",
    "print(len(new_columns))\n",
    "new_columns"
   ]
  },
  {
   "cell_type": "code",
   "execution_count": 29,
   "metadata": {},
   "outputs": [
    {
     "data": {
      "text/html": [
       "<div>\n",
       "<style scoped>\n",
       "    .dataframe tbody tr th:only-of-type {\n",
       "        vertical-align: middle;\n",
       "    }\n",
       "\n",
       "    .dataframe tbody tr th {\n",
       "        vertical-align: top;\n",
       "    }\n",
       "\n",
       "    .dataframe thead th {\n",
       "        text-align: right;\n",
       "    }\n",
       "</style>\n",
       "<table border=\"1\" class=\"dataframe\">\n",
       "  <thead>\n",
       "    <tr style=\"text-align: right;\">\n",
       "      <th></th>\n",
       "      <th>user_id</th>\n",
       "      <th>follow_count</th>\n",
       "      <th>fans_count</th>\n",
       "      <th>gender</th>\n",
       "      <th>birthday</th>\n",
       "      <th>location</th>\n",
       "      <th>level</th>\n",
       "      <th>post_count</th>\n",
       "      <th>car_liked</th>\n",
       "      <th>registration_time</th>\n",
       "      <th>properties</th>\n",
       "      <th>mileage</th>\n",
       "      <th>post</th>\n",
       "      <th>cars</th>\n",
       "      <th>koubei_post</th>\n",
       "      <th>gas_mileage</th>\n",
       "      <th>car_friend_zone</th>\n",
       "      <th>label</th>\n",
       "    </tr>\n",
       "  </thead>\n",
       "  <tbody>\n",
       "    <tr>\n",
       "      <th>0</th>\n",
       "      <td>oden123</td>\n",
       "      <td>0</td>\n",
       "      <td>0</td>\n",
       "      <td>man</td>\n",
       "      <td>NaN</td>\n",
       "      <td>江西 宜春</td>\n",
       "      <td>1</td>\n",
       "      <td>0篇精华帖/0篇帖子</td>\n",
       "      <td>关注的车：宝马5系</td>\n",
       "      <td>2018-03-26</td>\n",
       "      <td>普通用户</td>\n",
       "      <td>4430</td>\n",
       "      <td>NaN</td>\n",
       "      <td>['捷豹 捷豹XFL 2018款 XFL 2.0T 200PS 精英版']</td>\n",
       "      <td>[{'title': '敲黑板了！2018款xfl精英版2个月的使用感受，要考的', 'ur...</td>\n",
       "      <td>[{'车型': '捷豹 捷豹XFL 2018款 XFL 2.0T 200PS 精英版', '...</td>\n",
       "      <td>NaN</td>\n",
       "      <td>1</td>\n",
       "    </tr>\n",
       "  </tbody>\n",
       "</table>\n",
       "</div>"
      ],
      "text/plain": [
       "   user_id  follow_count  fans_count gender birthday location  level  \\\n",
       "0  oden123             0           0    man      NaN    江西 宜春      1   \n",
       "\n",
       "   post_count  car_liked registration_time properties  mileage post  \\\n",
       "0  0篇精华帖/0篇帖子  关注的车：宝马5系        2018-03-26       普通用户     4430  NaN   \n",
       "\n",
       "                                    cars  \\\n",
       "0  ['捷豹 捷豹XFL 2018款 XFL 2.0T 200PS 精英版']   \n",
       "\n",
       "                                         koubei_post  \\\n",
       "0  [{'title': '敲黑板了！2018款xfl精英版2个月的使用感受，要考的', 'ur...   \n",
       "\n",
       "                                         gas_mileage car_friend_zone  label  \n",
       "0  [{'车型': '捷豹 捷豹XFL 2018款 XFL 2.0T 200PS 精英版', '...             NaN      1  "
      ]
     },
     "execution_count": 29,
     "metadata": {},
     "output_type": "execute_result"
    }
   ],
   "source": [
    "merge_df.columns = new_columns\n",
    "merge_df.head(1)"
   ]
  },
  {
   "cell_type": "markdown",
   "metadata": {},
   "source": [
    "#### car_liked "
   ]
  },
  {
   "cell_type": "code",
   "execution_count": 30,
   "metadata": {},
   "outputs": [
    {
     "data": {
      "text/plain": [
       "0     宝马5系\n",
       "1    奥迪A6L\n",
       "2     帝豪GS\n",
       "3    比亚迪S7\n",
       "4     宝马5系\n",
       "Name: car_like, dtype: object"
      ]
     },
     "execution_count": 30,
     "metadata": {},
     "output_type": "execute_result"
    }
   ],
   "source": [
    "from utils import extract_car_info\n",
    "merge_df[\"car_like\"] = merge_df.apply(lambda row:extract_car_info(row),axis=1)\n",
    "merge_df.drop(columns='car_liked', inplace=True)\n",
    "merge_df[\"car_like\"][:5]"
   ]
  },
  {
   "cell_type": "markdown",
   "metadata": {},
   "source": [
    "#### post 帖子"
   ]
  },
  {
   "cell_type": "code",
   "execution_count": 31,
   "metadata": {},
   "outputs": [
    {
     "data": {
      "text/html": [
       "<div>\n",
       "<style scoped>\n",
       "    .dataframe tbody tr th:only-of-type {\n",
       "        vertical-align: middle;\n",
       "    }\n",
       "\n",
       "    .dataframe tbody tr th {\n",
       "        vertical-align: top;\n",
       "    }\n",
       "\n",
       "    .dataframe thead th {\n",
       "        text-align: right;\n",
       "    }\n",
       "</style>\n",
       "<table border=\"1\" class=\"dataframe\">\n",
       "  <thead>\n",
       "    <tr style=\"text-align: right;\">\n",
       "      <th></th>\n",
       "      <th>user_id</th>\n",
       "      <th>follow_count</th>\n",
       "      <th>fans_count</th>\n",
       "      <th>gender</th>\n",
       "      <th>birthday</th>\n",
       "      <th>location</th>\n",
       "      <th>level</th>\n",
       "      <th>registration_time</th>\n",
       "      <th>properties</th>\n",
       "      <th>mileage</th>\n",
       "      <th>post</th>\n",
       "      <th>cars</th>\n",
       "      <th>koubei_post</th>\n",
       "      <th>gas_mileage</th>\n",
       "      <th>car_friend_zone</th>\n",
       "      <th>label</th>\n",
       "      <th>car_like</th>\n",
       "      <th>excellent_post_count</th>\n",
       "      <th>all_post_count</th>\n",
       "    </tr>\n",
       "  </thead>\n",
       "  <tbody>\n",
       "    <tr>\n",
       "      <th>0</th>\n",
       "      <td>oden123</td>\n",
       "      <td>0</td>\n",
       "      <td>0</td>\n",
       "      <td>man</td>\n",
       "      <td>NaN</td>\n",
       "      <td>江西 宜春</td>\n",
       "      <td>1</td>\n",
       "      <td>2018-03-26</td>\n",
       "      <td>普通用户</td>\n",
       "      <td>4430</td>\n",
       "      <td>NaN</td>\n",
       "      <td>['捷豹 捷豹XFL 2018款 XFL 2.0T 200PS 精英版']</td>\n",
       "      <td>[{'title': '敲黑板了！2018款xfl精英版2个月的使用感受，要考的', 'ur...</td>\n",
       "      <td>[{'车型': '捷豹 捷豹XFL 2018款 XFL 2.0T 200PS 精英版', '...</td>\n",
       "      <td>NaN</td>\n",
       "      <td>1</td>\n",
       "      <td>宝马5系</td>\n",
       "      <td>0</td>\n",
       "      <td>0</td>\n",
       "    </tr>\n",
       "    <tr>\n",
       "      <th>1</th>\n",
       "      <td>生活1934626</td>\n",
       "      <td>2</td>\n",
       "      <td>4</td>\n",
       "      <td>man</td>\n",
       "      <td>NaN</td>\n",
       "      <td>甘肃 白银</td>\n",
       "      <td>1</td>\n",
       "      <td>2012-05-07</td>\n",
       "      <td>普通用户</td>\n",
       "      <td>4270</td>\n",
       "      <td>NaN</td>\n",
       "      <td>NaN</td>\n",
       "      <td>[{'title': '外型好看，动力好', 'url': '//k.autohome.co...</td>\n",
       "      <td>[{'车型': '捷豹 捷豹XFL 2018款 XFL 2.0T 250PS 豪华版', '...</td>\n",
       "      <td>[{'名称': '汽车之家甘肃论坛车友会', '人数': 672, '创建时间': '201...</td>\n",
       "      <td>1</td>\n",
       "      <td>奥迪A6L</td>\n",
       "      <td>0</td>\n",
       "      <td>0</td>\n",
       "    </tr>\n",
       "  </tbody>\n",
       "</table>\n",
       "</div>"
      ],
      "text/plain": [
       "     user_id  follow_count  fans_count gender birthday location  level  \\\n",
       "0    oden123             0           0    man      NaN    江西 宜春      1   \n",
       "1  生活1934626             2           4    man      NaN    甘肃 白银      1   \n",
       "\n",
       "  registration_time properties  mileage post  \\\n",
       "0        2018-03-26       普通用户     4430  NaN   \n",
       "1        2012-05-07       普通用户     4270  NaN   \n",
       "\n",
       "                                    cars  \\\n",
       "0  ['捷豹 捷豹XFL 2018款 XFL 2.0T 200PS 精英版']   \n",
       "1                                    NaN   \n",
       "\n",
       "                                         koubei_post  \\\n",
       "0  [{'title': '敲黑板了！2018款xfl精英版2个月的使用感受，要考的', 'ur...   \n",
       "1  [{'title': '外型好看，动力好', 'url': '//k.autohome.co...   \n",
       "\n",
       "                                         gas_mileage  \\\n",
       "0  [{'车型': '捷豹 捷豹XFL 2018款 XFL 2.0T 200PS 精英版', '...   \n",
       "1  [{'车型': '捷豹 捷豹XFL 2018款 XFL 2.0T 250PS 豪华版', '...   \n",
       "\n",
       "                                     car_friend_zone  label car_like  \\\n",
       "0                                                NaN      1     宝马5系   \n",
       "1  [{'名称': '汽车之家甘肃论坛车友会', '人数': 672, '创建时间': '201...      1    奥迪A6L   \n",
       "\n",
       "   excellent_post_count  all_post_count  \n",
       "0                     0               0  \n",
       "1                     0               0  "
      ]
     },
     "execution_count": 31,
     "metadata": {},
     "output_type": "execute_result"
    }
   ],
   "source": [
    "from utils import extract_excellent_post_count\n",
    "from utils import extract_post_count\n",
    "merge_df[\"excellent_post_count\"]=merge_df.apply (lambda row: extract_excellent_post_count(row),axis=1)\n",
    "merge_df[\"all_post_count\"]=merge_df.apply (lambda row: extract_post_count(row),axis=1)\n",
    "merge_df.drop(columns='post_count', inplace=True)\n",
    "merge_df.head(2)"
   ]
  },
  {
   "cell_type": "code",
   "execution_count": 32,
   "metadata": {},
   "outputs": [
    {
     "data": {
      "text/plain": [
       "(2981, 19)"
      ]
     },
     "execution_count": 32,
     "metadata": {},
     "output_type": "execute_result"
    }
   ],
   "source": [
    "merge_df.drop_duplicates(inplace=True)\n",
    "merge_df.shape"
   ]
  },
  {
   "cell_type": "code",
   "execution_count": 34,
   "metadata": {},
   "outputs": [],
   "source": [
    "merge_df.to_excel(\"data/jiebao_all_user_0.xlsx\",encoding='utf-8')"
   ]
  },
  {
   "cell_type": "markdown",
   "metadata": {},
   "source": [
    "### "
   ]
  }
 ],
 "metadata": {
  "kernelspec": {
   "display_name": "Python 3",
   "language": "python",
   "name": "python3"
  },
  "language_info": {
   "codemirror_mode": {
    "name": "ipython",
    "version": 3
   },
   "file_extension": ".py",
   "mimetype": "text/x-python",
   "name": "python",
   "nbconvert_exporter": "python",
   "pygments_lexer": "ipython3",
   "version": "3.6.4"
  }
 },
 "nbformat": 4,
 "nbformat_minor": 2
}
