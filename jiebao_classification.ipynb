{
 "cells": [
  {
   "cell_type": "code",
   "execution_count": 159,
   "metadata": {},
   "outputs": [],
   "source": [
    "import numpy as np\n",
    "import pandas as pd\n",
    "from sklearn.model_selection import train_test_split\n",
    "import matplotlib.pyplot as plt\n",
    "from sklearn.svm import SVC\n",
    "from sklearn.metrics import confusion_matrix, classification_report\n",
    "\n",
    "%matplotlib inline"
   ]
  },
  {
   "cell_type": "code",
   "execution_count": 160,
   "metadata": {},
   "outputs": [],
   "source": [
    "import lightgbm as lgb"
   ]
  },
  {
   "cell_type": "code",
   "execution_count": 161,
   "metadata": {},
   "outputs": [
    {
     "data": {
      "text/html": [
       "<div>\n",
       "<style scoped>\n",
       "    .dataframe tbody tr th:only-of-type {\n",
       "        vertical-align: middle;\n",
       "    }\n",
       "\n",
       "    .dataframe tbody tr th {\n",
       "        vertical-align: top;\n",
       "    }\n",
       "\n",
       "    .dataframe thead th {\n",
       "        text-align: right;\n",
       "    }\n",
       "</style>\n",
       "<table border=\"1\" class=\"dataframe\">\n",
       "  <thead>\n",
       "    <tr style=\"text-align: right;\">\n",
       "      <th></th>\n",
       "      <th>Unnamed: 0</th>\n",
       "      <th>user_id</th>\n",
       "      <th>follow_count</th>\n",
       "      <th>fans_count</th>\n",
       "      <th>gender</th>\n",
       "      <th>location</th>\n",
       "      <th>level</th>\n",
       "      <th>regis_year</th>\n",
       "      <th>regis_month</th>\n",
       "      <th>regis_day</th>\n",
       "      <th>properties</th>\n",
       "      <th>mileage</th>\n",
       "      <th>car_like</th>\n",
       "      <th>excellent_post_count</th>\n",
       "      <th>all_post_count</th>\n",
       "      <th>label</th>\n",
       "    </tr>\n",
       "  </thead>\n",
       "  <tbody>\n",
       "    <tr>\n",
       "      <th>0</th>\n",
       "      <td>0</td>\n",
       "      <td>oden123</td>\n",
       "      <td>0</td>\n",
       "      <td>0</td>\n",
       "      <td>2</td>\n",
       "      <td>1</td>\n",
       "      <td>1</td>\n",
       "      <td>2018</td>\n",
       "      <td>3</td>\n",
       "      <td>3</td>\n",
       "      <td>1</td>\n",
       "      <td>4430.0</td>\n",
       "      <td>1</td>\n",
       "      <td>0</td>\n",
       "      <td>0</td>\n",
       "      <td>True</td>\n",
       "    </tr>\n",
       "    <tr>\n",
       "      <th>1</th>\n",
       "      <td>1</td>\n",
       "      <td>生活1934626</td>\n",
       "      <td>2</td>\n",
       "      <td>4</td>\n",
       "      <td>2</td>\n",
       "      <td>2</td>\n",
       "      <td>1</td>\n",
       "      <td>2012</td>\n",
       "      <td>5</td>\n",
       "      <td>5</td>\n",
       "      <td>1</td>\n",
       "      <td>4270.0</td>\n",
       "      <td>2</td>\n",
       "      <td>0</td>\n",
       "      <td>0</td>\n",
       "      <td>True</td>\n",
       "    </tr>\n",
       "    <tr>\n",
       "      <th>2</th>\n",
       "      <td>2</td>\n",
       "      <td>wangzi1125</td>\n",
       "      <td>0</td>\n",
       "      <td>1</td>\n",
       "      <td>2</td>\n",
       "      <td>3</td>\n",
       "      <td>1</td>\n",
       "      <td>2017</td>\n",
       "      <td>6</td>\n",
       "      <td>6</td>\n",
       "      <td>1</td>\n",
       "      <td>2090.0</td>\n",
       "      <td>3</td>\n",
       "      <td>0</td>\n",
       "      <td>1</td>\n",
       "      <td>True</td>\n",
       "    </tr>\n",
       "    <tr>\n",
       "      <th>3</th>\n",
       "      <td>3</td>\n",
       "      <td>房产专家谢广财</td>\n",
       "      <td>3</td>\n",
       "      <td>2</td>\n",
       "      <td>2</td>\n",
       "      <td>4</td>\n",
       "      <td>1</td>\n",
       "      <td>2014</td>\n",
       "      <td>2</td>\n",
       "      <td>2</td>\n",
       "      <td>1</td>\n",
       "      <td>1120.0</td>\n",
       "      <td>4</td>\n",
       "      <td>0</td>\n",
       "      <td>0</td>\n",
       "      <td>True</td>\n",
       "    </tr>\n",
       "    <tr>\n",
       "      <th>4</th>\n",
       "      <td>4</td>\n",
       "      <td>南宫晗笑</td>\n",
       "      <td>4</td>\n",
       "      <td>5</td>\n",
       "      <td>2</td>\n",
       "      <td>5</td>\n",
       "      <td>1</td>\n",
       "      <td>2017</td>\n",
       "      <td>7</td>\n",
       "      <td>7</td>\n",
       "      <td>1</td>\n",
       "      <td>740.0</td>\n",
       "      <td>1</td>\n",
       "      <td>0</td>\n",
       "      <td>14</td>\n",
       "      <td>True</td>\n",
       "    </tr>\n",
       "  </tbody>\n",
       "</table>\n",
       "</div>"
      ],
      "text/plain": [
       "   Unnamed: 0     user_id  follow_count  fans_count  gender  location  level  \\\n",
       "0           0     oden123             0           0       2         1      1   \n",
       "1           1   生活1934626             2           4       2         2      1   \n",
       "2           2  wangzi1125             0           1       2         3      1   \n",
       "3           3     房产专家谢广财             3           2       2         4      1   \n",
       "4           4        南宫晗笑             4           5       2         5      1   \n",
       "\n",
       "   regis_year  regis_month  regis_day  properties  mileage  car_like  \\\n",
       "0        2018            3          3           1   4430.0         1   \n",
       "1        2012            5          5           1   4270.0         2   \n",
       "2        2017            6          6           1   2090.0         3   \n",
       "3        2014            2          2           1   1120.0         4   \n",
       "4        2017            7          7           1    740.0         1   \n",
       "\n",
       "   excellent_post_count  all_post_count  label  \n",
       "0                     0               0   True  \n",
       "1                     0               0   True  \n",
       "2                     0               1   True  \n",
       "3                     0               0   True  \n",
       "4                     0              14   True  "
      ]
     },
     "execution_count": 161,
     "metadata": {},
     "output_type": "execute_result"
    }
   ],
   "source": [
    "df = pd.read_csv('data/jiebao_all_user_processed.csv')\n",
    "df.head()"
   ]
  },
  {
   "cell_type": "code",
   "execution_count": 162,
   "metadata": {},
   "outputs": [
    {
     "data": {
      "text/plain": [
       "Index(['Unnamed: 0', 'user_id', 'follow_count', 'fans_count', 'gender',\n",
       "       'location', 'level', 'regis_year', 'regis_month', 'regis_day',\n",
       "       'properties', 'mileage', 'car_like', 'excellent_post_count',\n",
       "       'all_post_count', 'label'],\n",
       "      dtype='object')"
      ]
     },
     "execution_count": 162,
     "metadata": {},
     "output_type": "execute_result"
    }
   ],
   "source": [
    "df.keys()"
   ]
  },
  {
   "cell_type": "code",
   "execution_count": 163,
   "metadata": {},
   "outputs": [
    {
     "data": {
      "text/plain": [
       "Unnamed: 0                int64\n",
       "user_id                  object\n",
       "follow_count              int64\n",
       "fans_count                int64\n",
       "gender                    int64\n",
       "location                  int64\n",
       "level                     int64\n",
       "regis_year                int64\n",
       "regis_month               int64\n",
       "regis_day                 int64\n",
       "properties                int64\n",
       "mileage                 float64\n",
       "car_like                  int64\n",
       "excellent_post_count      int64\n",
       "all_post_count            int64\n",
       "label                      bool\n",
       "dtype: object"
      ]
     },
     "execution_count": 163,
     "metadata": {},
     "output_type": "execute_result"
    }
   ],
   "source": [
    "df.dtypes"
   ]
  },
  {
   "cell_type": "code",
   "execution_count": 164,
   "metadata": {},
   "outputs": [
    {
     "data": {
      "text/html": [
       "<div>\n",
       "<style scoped>\n",
       "    .dataframe tbody tr th:only-of-type {\n",
       "        vertical-align: middle;\n",
       "    }\n",
       "\n",
       "    .dataframe tbody tr th {\n",
       "        vertical-align: top;\n",
       "    }\n",
       "\n",
       "    .dataframe thead th {\n",
       "        text-align: right;\n",
       "    }\n",
       "</style>\n",
       "<table border=\"1\" class=\"dataframe\">\n",
       "  <thead>\n",
       "    <tr style=\"text-align: right;\">\n",
       "      <th></th>\n",
       "      <th>follow_count</th>\n",
       "      <th>fans_count</th>\n",
       "      <th>gender</th>\n",
       "      <th>location</th>\n",
       "      <th>level</th>\n",
       "      <th>regis_year</th>\n",
       "      <th>regis_month</th>\n",
       "      <th>regis_day</th>\n",
       "      <th>properties</th>\n",
       "      <th>mileage</th>\n",
       "      <th>car_like</th>\n",
       "      <th>excellent_post_count</th>\n",
       "      <th>all_post_count</th>\n",
       "    </tr>\n",
       "  </thead>\n",
       "  <tbody>\n",
       "    <tr>\n",
       "      <th>0</th>\n",
       "      <td>0</td>\n",
       "      <td>0</td>\n",
       "      <td>2</td>\n",
       "      <td>1</td>\n",
       "      <td>1</td>\n",
       "      <td>2018</td>\n",
       "      <td>3</td>\n",
       "      <td>3</td>\n",
       "      <td>1</td>\n",
       "      <td>4430.0</td>\n",
       "      <td>1</td>\n",
       "      <td>0</td>\n",
       "      <td>0</td>\n",
       "    </tr>\n",
       "    <tr>\n",
       "      <th>1</th>\n",
       "      <td>2</td>\n",
       "      <td>4</td>\n",
       "      <td>2</td>\n",
       "      <td>2</td>\n",
       "      <td>1</td>\n",
       "      <td>2012</td>\n",
       "      <td>5</td>\n",
       "      <td>5</td>\n",
       "      <td>1</td>\n",
       "      <td>4270.0</td>\n",
       "      <td>2</td>\n",
       "      <td>0</td>\n",
       "      <td>0</td>\n",
       "    </tr>\n",
       "    <tr>\n",
       "      <th>2</th>\n",
       "      <td>0</td>\n",
       "      <td>1</td>\n",
       "      <td>2</td>\n",
       "      <td>3</td>\n",
       "      <td>1</td>\n",
       "      <td>2017</td>\n",
       "      <td>6</td>\n",
       "      <td>6</td>\n",
       "      <td>1</td>\n",
       "      <td>2090.0</td>\n",
       "      <td>3</td>\n",
       "      <td>0</td>\n",
       "      <td>1</td>\n",
       "    </tr>\n",
       "    <tr>\n",
       "      <th>3</th>\n",
       "      <td>3</td>\n",
       "      <td>2</td>\n",
       "      <td>2</td>\n",
       "      <td>4</td>\n",
       "      <td>1</td>\n",
       "      <td>2014</td>\n",
       "      <td>2</td>\n",
       "      <td>2</td>\n",
       "      <td>1</td>\n",
       "      <td>1120.0</td>\n",
       "      <td>4</td>\n",
       "      <td>0</td>\n",
       "      <td>0</td>\n",
       "    </tr>\n",
       "    <tr>\n",
       "      <th>4</th>\n",
       "      <td>4</td>\n",
       "      <td>5</td>\n",
       "      <td>2</td>\n",
       "      <td>5</td>\n",
       "      <td>1</td>\n",
       "      <td>2017</td>\n",
       "      <td>7</td>\n",
       "      <td>7</td>\n",
       "      <td>1</td>\n",
       "      <td>740.0</td>\n",
       "      <td>1</td>\n",
       "      <td>0</td>\n",
       "      <td>14</td>\n",
       "    </tr>\n",
       "  </tbody>\n",
       "</table>\n",
       "</div>"
      ],
      "text/plain": [
       "   follow_count  fans_count  gender  location  level  regis_year  regis_month  \\\n",
       "0             0           0       2         1      1        2018            3   \n",
       "1             2           4       2         2      1        2012            5   \n",
       "2             0           1       2         3      1        2017            6   \n",
       "3             3           2       2         4      1        2014            2   \n",
       "4             4           5       2         5      1        2017            7   \n",
       "\n",
       "   regis_day  properties  mileage  car_like  excellent_post_count  \\\n",
       "0          3           1   4430.0         1                     0   \n",
       "1          5           1   4270.0         2                     0   \n",
       "2          6           1   2090.0         3                     0   \n",
       "3          2           1   1120.0         4                     0   \n",
       "4          7           1    740.0         1                     0   \n",
       "\n",
       "   all_post_count  \n",
       "0               0  \n",
       "1               0  \n",
       "2               1  \n",
       "3               0  \n",
       "4              14  "
      ]
     },
     "execution_count": 164,
     "metadata": {},
     "output_type": "execute_result"
    }
   ],
   "source": [
    "x = df.drop(columns=['Unnamed: 0','user_id', 'label'])\n",
    "x.head()"
   ]
  },
  {
   "cell_type": "code",
   "execution_count": 165,
   "metadata": {},
   "outputs": [
    {
     "data": {
      "text/plain": [
       "count    2961.000000\n",
       "mean        0.083755\n",
       "std         0.277068\n",
       "min         0.000000\n",
       "25%         0.000000\n",
       "50%         0.000000\n",
       "75%         0.000000\n",
       "max         1.000000\n",
       "Name: label, dtype: float64"
      ]
     },
     "execution_count": 165,
     "metadata": {},
     "output_type": "execute_result"
    }
   ],
   "source": [
    "y = df['label'].astype('uint8')\n",
    "y.describe()"
   ]
  },
  {
   "cell_type": "code",
   "execution_count": 166,
   "metadata": {},
   "outputs": [
    {
     "data": {
      "text/plain": [
       "((2961, 13), (2961,))"
      ]
     },
     "execution_count": 166,
     "metadata": {},
     "output_type": "execute_result"
    }
   ],
   "source": [
    "x, y = np.array(x).astype('int'), np.array(y).astype('int')\n",
    "x.shape, y.shape"
   ]
  },
  {
   "cell_type": "markdown",
   "metadata": {},
   "source": [
    "### Split dataset into train/validation/test set"
   ]
  },
  {
   "cell_type": "code",
   "execution_count": 167,
   "metadata": {},
   "outputs": [],
   "source": [
    "x_train, x_test, y_train, y_test = train_test_split(x, y, test_size=0.2,  random_state = 42)\n",
    "\n",
    "x_val, x_test, y_val, y_test = train_test_split(x_test, y_test, test_size=0.5,  random_state = 42)"
   ]
  },
  {
   "cell_type": "code",
   "execution_count": 168,
   "metadata": {},
   "outputs": [],
   "source": [
    "#print(x_train.shape, y_train.shape)\n",
    "\n",
    "#y_test.describe()"
   ]
  },
  {
   "cell_type": "markdown",
   "metadata": {},
   "source": [
    "### Build SVM model then train it"
   ]
  },
  {
   "cell_type": "code",
   "execution_count": 169,
   "metadata": {},
   "outputs": [],
   "source": [
    "clf = SVC(C=0.8, kernel='rbf', class_weight='balanced')"
   ]
  },
  {
   "cell_type": "code",
   "execution_count": 170,
   "metadata": {},
   "outputs": [
    {
     "data": {
      "text/plain": [
       "SVC(C=0.8, cache_size=200, class_weight='balanced', coef0=0.0,\n",
       "  decision_function_shape='ovr', degree=3, gamma='auto', kernel='rbf',\n",
       "  max_iter=-1, probability=False, random_state=None, shrinking=True,\n",
       "  tol=0.001, verbose=False)"
      ]
     },
     "execution_count": 170,
     "metadata": {},
     "output_type": "execute_result"
    }
   ],
   "source": [
    "clf.fit(x_train, y_train)"
   ]
  },
  {
   "cell_type": "code",
   "execution_count": 138,
   "metadata": {},
   "outputs": [],
   "source": [
    "pred = clf.predict(x_test)"
   ]
  },
  {
   "cell_type": "code",
   "execution_count": 139,
   "metadata": {},
   "outputs": [
    {
     "name": "stdout",
     "output_type": "stream",
     "text": [
      "             precision    recall  f1-score   support\n",
      "\n",
      "          0       0.91      0.93      0.92       271\n",
      "          1       0.00      0.00      0.00        26\n",
      "\n",
      "avg / total       0.83      0.85      0.84       297\n",
      "\n"
     ]
    }
   ],
   "source": [
    "print(classification_report(y_true=y_test, y_pred=pred))"
   ]
  },
  {
   "cell_type": "markdown",
   "metadata": {},
   "source": [
    "### Build lightgbm model and train it "
   ]
  },
  {
   "cell_type": "markdown",
   "metadata": {},
   "source": [
    "#### Dataset construction based on numpy data"
   ]
  },
  {
   "cell_type": "code",
   "execution_count": 280,
   "metadata": {},
   "outputs": [
    {
     "data": {
      "text/plain": [
       "(array([   0,    0,    2,   13,    1, 2018,    3,    3,    1,  490,   35,\n",
       "           0,    0]), 0)"
      ]
     },
     "execution_count": 280,
     "metadata": {},
     "output_type": "execute_result"
    }
   ],
   "source": [
    "x_train[0], y_train[0]"
   ]
  },
  {
   "cell_type": "code",
   "execution_count": 281,
   "metadata": {},
   "outputs": [],
   "source": [
    "train_data = lgb.Dataset(x_train, label=y_train)\n",
    "val_data = lgb.Dataset(x_val, label=y_val)\n",
    "test_data = lgb.Dataset(x_test, label = y_test)"
   ]
  },
  {
   "cell_type": "code",
   "execution_count": 282,
   "metadata": {},
   "outputs": [],
   "source": [
    "train_data = lgb.Dataset(x_train, \n",
    "                         label=y_train,\n",
    "                         feature_name=['follow_count', 'fans_count', 'gender',\n",
    "       'location', 'level', 'regis_year', 'regis_month', 'regis_day',\n",
    "       'properties', 'mileage', 'car_like', 'excellent_post_count',\n",
    "       'all_post_count',],\n",
    "                         categorical_feature=['gender',\n",
    "       'location', 'level', 'regis_year', 'regis_month', 'regis_day',\n",
    "       'properties', 'car_like', ],\n",
    "                        )\n",
    "val_data = lgb.Dataset(x_val, \n",
    "                       label=y_val,\n",
    "                       feature_name=['follow_count', 'fans_count', 'gender',\n",
    "       'location', 'level', 'regis_year', 'regis_month', 'regis_day',\n",
    "       'properties', 'mileage', 'car_like', 'excellent_post_count',\n",
    "       'all_post_count',],\n",
    "                         categorical_feature=['gender',\n",
    "       'location', 'level', 'regis_year', 'regis_month', 'regis_day',\n",
    "       'properties', 'car_like', ],)\n"
   ]
  },
  {
   "cell_type": "markdown",
   "metadata": {},
   "source": [
    "#### Setting parameters"
   ]
  },
  {
   "cell_type": "code",
   "execution_count": 283,
   "metadata": {},
   "outputs": [
    {
     "name": "stdout",
     "output_type": "stream",
     "text": [
      "Hyper-parameters:\n",
      "{'boosting_type': 'gbdt', 'objective': 'binary', 'metric': ['binary_logloss', 'auc'], 'learning_rate': 0.35, 'num_leaves': 110, 'max_depth': 5, 'min_data_in_leaf': 574, 'feature_fraction': 0.9622906611160201, 'bagging_fraction': 0.7796884603338681, 'bagging_freq': 1, 'lambda_l1': 2.807851284391429, 'lambda_l2': 573.5019653384691, 'min_gain_to_split': 0.0, 'min_sum_hessian_in_leaf': 0.1, 'num_threads': 16, 'verbose': 0, 'is_training_metric': 'True'}\n"
     ]
    }
   ],
   "source": [
    "# param = {'max_depth': 10,\n",
    "#         'num_leaves': 20,\n",
    "#         'num_trees': 5,\n",
    "#         'objective':'binary',\n",
    "#         'min_data_in_leaf':100}\n",
    "# param['metric'] = 'auc'\n",
    "\n",
    "# para searching\n",
    "params = {\n",
    "    'boosting_type': 'gbdt',  # np.random.choice(['dart', 'gbdt']),\n",
    "    'objective': 'binary',\n",
    "    'metric': ['binary_logloss', 'auc'], \n",
    "    \n",
    "    'learning_rate': 0.35,\n",
    "    \n",
    "    'num_leaves': np.random.randint(30, 128),\n",
    "    'max_depth': np.random.randint(3, 12),\n",
    "    'min_data_in_leaf': int(2 ** (np.random.rand()*3.5 + 9)),\n",
    "    \n",
    "    'feature_fraction': np.random.rand()*0.35+0.65,\n",
    "    'bagging_fraction': np.random.rand()*0.35+0.65,\n",
    "    'bagging_freq': 1,\n",
    "    \n",
    "    'lambda_l1': 10 ** (np.random.rand() * 4),\n",
    "    'lambda_l2': 10 ** (np.random.rand() * 3 + 2),\n",
    "    'min_gain_to_split': 0.0,\n",
    "    'min_sum_hessian_in_leaf': 0.1,\n",
    "    \n",
    "    'num_threads': 16,\n",
    "    'verbose': 0,\n",
    "    'is_training_metric': 'True'\n",
    "}\n",
    "print('Hyper-parameters:')\n",
    "print(params)"
   ]
  },
  {
   "cell_type": "markdown",
   "metadata": {},
   "source": [
    "#### Training "
   ]
  },
  {
   "cell_type": "code",
   "execution_count": 284,
   "metadata": {},
   "outputs": [
    {
     "name": "stderr",
     "output_type": "stream",
     "text": [
      "/Users/pierre_pc/anaconda3/lib/python3.6/site-packages/lightgbm/basic.py:1040: UserWarning: Using categorical_feature in Dataset.\n",
      "  warnings.warn('Using categorical_feature in Dataset.')\n",
      "/Users/pierre_pc/anaconda3/lib/python3.6/site-packages/lightgbm/basic.py:685: UserWarning: categorical_feature in param dict is overridden.\n",
      "  warnings.warn('categorical_feature in param dict is overridden.')\n"
     ]
    },
    {
     "name": "stdout",
     "output_type": "stream",
     "text": [
      "Training until validation scores don't improve for 2500 rounds.\n",
      "[100]\ttrain's auc: 0.760884\ttrain's binary_logloss: 0.247865\tvalid's auc: 0.724711\tvalid's binary_logloss: 0.306775\n",
      "[200]\ttrain's auc: 0.775175\ttrain's binary_logloss: 0.241602\tvalid's auc: 0.709251\tvalid's binary_logloss: 0.310528\n",
      "[300]\ttrain's auc: 0.783075\ttrain's binary_logloss: 0.238469\tvalid's auc: 0.692818\tvalid's binary_logloss: 0.317923\n",
      "[400]\ttrain's auc: 0.789429\ttrain's binary_logloss: 0.236148\tvalid's auc: 0.68661\tvalid's binary_logloss: 0.322043\n",
      "[500]\ttrain's auc: 0.794905\ttrain's binary_logloss: 0.23442\tvalid's auc: 0.680402\tvalid's binary_logloss: 0.326324\n",
      "[600]\ttrain's auc: 0.798235\ttrain's binary_logloss: 0.233142\tvalid's auc: 0.676141\tvalid's binary_logloss: 0.328477\n",
      "[700]\ttrain's auc: 0.80196\ttrain's binary_logloss: 0.231891\tvalid's auc: 0.671881\tvalid's binary_logloss: 0.331903\n",
      "[800]\ttrain's auc: 0.805586\ttrain's binary_logloss: 0.230795\tvalid's auc: 0.662021\tvalid's binary_logloss: 0.335426\n",
      "[900]\ttrain's auc: 0.807567\ttrain's binary_logloss: 0.230043\tvalid's auc: 0.660195\tvalid's binary_logloss: 0.337903\n",
      "[1000]\ttrain's auc: 0.809869\ttrain's binary_logloss: 0.229237\tvalid's auc: 0.656908\tvalid's binary_logloss: 0.340877\n",
      "[1100]\ttrain's auc: 0.811824\ttrain's binary_logloss: 0.228285\tvalid's auc: 0.65703\tvalid's binary_logloss: 0.342253\n",
      "[1200]\ttrain's auc: 0.815292\ttrain's binary_logloss: 0.227314\tvalid's auc: 0.65423\tvalid's binary_logloss: 0.344358\n",
      "[1300]\ttrain's auc: 0.817182\ttrain's binary_logloss: 0.226592\tvalid's auc: 0.650822\tvalid's binary_logloss: 0.34689\n",
      "[1400]\ttrain's auc: 0.818875\ttrain's binary_logloss: 0.225877\tvalid's auc: 0.6507\tvalid's binary_logloss: 0.348264\n",
      "[1500]\ttrain's auc: 0.82127\ttrain's binary_logloss: 0.225173\tvalid's auc: 0.649117\tvalid's binary_logloss: 0.350279\n",
      "[1600]\ttrain's auc: 0.823168\ttrain's binary_logloss: 0.224456\tvalid's auc: 0.646439\tvalid's binary_logloss: 0.352061\n",
      "[1700]\ttrain's auc: 0.824972\ttrain's binary_logloss: 0.22379\tvalid's auc: 0.644979\tvalid's binary_logloss: 0.354189\n",
      "[1800]\ttrain's auc: 0.826612\ttrain's binary_logloss: 0.22321\tvalid's auc: 0.643883\tvalid's binary_logloss: 0.355447\n",
      "[1900]\ttrain's auc: 0.828177\ttrain's binary_logloss: 0.222562\tvalid's auc: 0.645953\tvalid's binary_logloss: 0.355587\n",
      "[2000]\ttrain's auc: 0.829553\ttrain's binary_logloss: 0.221978\tvalid's auc: 0.645831\tvalid's binary_logloss: 0.357299\n",
      "[2100]\ttrain's auc: 0.830792\ttrain's binary_logloss: 0.221396\tvalid's auc: 0.646561\tvalid's binary_logloss: 0.359377\n",
      "[2200]\ttrain's auc: 0.832514\ttrain's binary_logloss: 0.220852\tvalid's auc: 0.645466\tvalid's binary_logloss: 0.360105\n",
      "[2300]\ttrain's auc: 0.83355\ttrain's binary_logloss: 0.220424\tvalid's auc: 0.644492\tvalid's binary_logloss: 0.362027\n",
      "[2400]\ttrain's auc: 0.834486\ttrain's binary_logloss: 0.219915\tvalid's auc: 0.644979\tvalid's binary_logloss: 0.363455\n",
      "[2500]\ttrain's auc: 0.836388\ttrain's binary_logloss: 0.219327\tvalid's auc: 0.644248\tvalid's binary_logloss: 0.363766\n",
      "Early stopping, best iteration is:\n",
      "[49]\ttrain's auc: 0.745399\ttrain's binary_logloss: 0.25511\tvalid's auc: 0.74297\tvalid's binary_logloss: 0.308899\n"
     ]
    }
   ],
   "source": [
    "# num_round = 100\n",
    "# bst = lgb.train(param, \n",
    "#                 train_data,\n",
    "#                 num_round,\n",
    "#                 valid_sets=[val_data],\n",
    "#                 early_stopping_rounds=30\n",
    "#                )\n",
    "\n",
    "evals_result = {}  # dict to store evaluation results of all the items in `valid_sets`\n",
    "\n",
    "gbm = lgb.train(params, train_data, 5000, valid_sets=[train_data, val_data], \\\n",
    "                valid_names = ['train', 'valid'], evals_result=evals_result, \\\n",
    "                early_stopping_rounds=2500, verbose_eval=100, \n",
    "                categorical_feature='auto')"
   ]
  },
  {
   "cell_type": "code",
   "execution_count": 285,
   "metadata": {},
   "outputs": [],
   "source": [
    "# save best round results to csv\n",
    "bst_round = np.argmax(evals_result['valid']['auc'])\n",
    "trn_auc = evals_result['train']['auc'][bst_round]\n",
    "trn_loss = evals_result['train']['binary_logloss'][bst_round]\n",
    "val_auc = evals_result['valid']['auc'][bst_round]\n",
    "val_loss = evals_result['valid']['binary_logloss'][bst_round]"
   ]
  },
  {
   "cell_type": "code",
   "execution_count": 286,
   "metadata": {},
   "outputs": [
    {
     "name": "stdout",
     "output_type": "stream",
     "text": [
      "Best Round: 48\n",
      "Training loss: 0.25511, Validation loss: 0.30890\n",
      "Training AUC : 0.74540, Validation AUC : 0.74297\n"
     ]
    }
   ],
   "source": [
    "print('Best Round: %d'%bst_round)\n",
    "print('Training loss: %.5f, Validation loss: %.5f'%(trn_loss, val_loss))\n",
    "print('Training AUC : %.5f, Validation AUC : %.5f'%(trn_auc, val_auc))"
   ]
  },
  {
   "cell_type": "code",
   "execution_count": 287,
   "metadata": {},
   "outputs": [],
   "source": [
    "feature_importance = pd.DataFrame({'name':gbm.feature_name(), 'importance':gbm.feature_importance()}).sort_values(by='importance', ascending=False)\n",
    "feature_importance.to_csv('./feat_importance.csv', index=False)\n"
   ]
  },
  {
   "cell_type": "code",
   "execution_count": 266,
   "metadata": {},
   "outputs": [],
   "source": [
    "# save model\n",
    "json_model = bst.dump_model()"
   ]
  },
  {
   "cell_type": "code",
   "execution_count": null,
   "metadata": {},
   "outputs": [],
   "source": []
  },
  {
   "cell_type": "markdown",
   "metadata": {},
   "source": [
    "#### Prediction"
   ]
  },
  {
   "cell_type": "code",
   "execution_count": 267,
   "metadata": {},
   "outputs": [],
   "source": [
    "y_pred = bst.predict(x_test)"
   ]
  },
  {
   "cell_type": "code",
   "execution_count": 268,
   "metadata": {},
   "outputs": [
    {
     "data": {
      "text/plain": [
       "array([0.15822865, 0.06390479, 0.05668082, 0.06095951, 0.11880461,\n",
       "       0.06357549, 0.06309877, 0.06480551, 0.0798649 , 0.06487235,\n",
       "       0.07616751, 0.05748772, 0.13948987, 0.0714921 , 0.05951458,\n",
       "       0.06390479, 0.0705908 , 0.08486904, 0.06946347, 0.0763037 ,\n",
       "       0.11636706, 0.0633582 , 0.0673254 , 0.07830939, 0.07166258,\n",
       "       0.07878452, 0.10805357, 0.06100318, 0.08690044, 0.09629005,\n",
       "       0.06672327, 0.12361672, 0.06295566, 0.08486904, 0.07218936,\n",
       "       0.10565559, 0.07218936, 0.10601032, 0.17562203, 0.06211493,\n",
       "       0.0633582 , 0.16260094, 0.06090006, 0.13351148, 0.07218936,\n",
       "       0.0763037 , 0.08487169, 0.06159632, 0.06357549, 0.07546008,\n",
       "       0.06774196, 0.08983227, 0.07218936, 0.10625665, 0.07721165,\n",
       "       0.05585371, 0.07429053, 0.06295566, 0.05584941, 0.06390479,\n",
       "       0.16951065, 0.08402641, 0.08086826, 0.05480372, 0.05587033,\n",
       "       0.05587033, 0.07218936, 0.0633582 , 0.06406544, 0.06278664,\n",
       "       0.06672327, 0.05587033, 0.13351148, 0.07186149, 0.06480551,\n",
       "       0.06121978, 0.09175177, 0.08795581, 0.06815829, 0.0633582 ,\n",
       "       0.05587033, 0.05841307, 0.06297259, 0.09577625, 0.08486904,\n",
       "       0.07218936, 0.07616751, 0.06574154, 0.07429053, 0.06672327,\n",
       "       0.05548517, 0.06672327, 0.06095951, 0.13625369, 0.07011983,\n",
       "       0.07121872, 0.0597301 , 0.06142901, 0.15822865, 0.12290145,\n",
       "       0.07647521, 0.07358638, 0.0633582 , 0.06736577, 0.0705908 ,\n",
       "       0.058037  , 0.06672327, 0.06672327, 0.12290145, 0.06147483,\n",
       "       0.11636706, 0.05548517, 0.06352543, 0.07163961, 0.07616751,\n",
       "       0.07218936, 0.06538873, 0.17562203, 0.06542744, 0.07218936,\n",
       "       0.0673249 , 0.06492716, 0.06245663, 0.06346823, 0.13351148,\n",
       "       0.0673249 , 0.07121872, 0.05825891, 0.07945995, 0.08881088,\n",
       "       0.08806084, 0.05548517, 0.0617809 , 0.08787951, 0.08086826,\n",
       "       0.06354641, 0.13625369, 0.06118859, 0.07218936, 0.07525128,\n",
       "       0.06357549, 0.078098  , 0.09206583, 0.05556822, 0.15822865,\n",
       "       0.05587033, 0.08082014, 0.07429053, 0.06060464, 0.05587033,\n",
       "       0.07218936, 0.06542744, 0.06821285, 0.06698949, 0.06604779,\n",
       "       0.07313384, 0.16951065, 0.08493755, 0.05433254, 0.06469966,\n",
       "       0.05585371, 0.06309877, 0.05472955, 0.05888305, 0.17562203,\n",
       "       0.05504844, 0.06159632, 0.05969256, 0.06919968, 0.06158376,\n",
       "       0.10244033, 0.0817755 , 0.06118859, 0.09577625, 0.06698949,\n",
       "       0.07218936, 0.05548517, 0.06309877, 0.06205919, 0.15822865,\n",
       "       0.07218936, 0.07559298, 0.15822865, 0.08370696, 0.06469966,\n",
       "       0.05662577, 0.07666712, 0.05549126, 0.08412348, 0.08983227,\n",
       "       0.06554873, 0.05506388, 0.13625369, 0.07721165, 0.13948987,\n",
       "       0.07011983, 0.11636706, 0.06142901, 0.05728438, 0.07388213,\n",
       "       0.06142901, 0.07230382, 0.07277976, 0.06158376, 0.08486904,\n",
       "       0.07047461, 0.06574154, 0.13351148, 0.07859759, 0.06273861,\n",
       "       0.10565559, 0.06672327, 0.07230382, 0.06672327, 0.06354641,\n",
       "       0.06451696, 0.05433254, 0.09175177, 0.12314619, 0.07616751,\n",
       "       0.06100318, 0.07218936, 0.13948987, 0.08175202, 0.08486904,\n",
       "       0.05659994, 0.0702546 , 0.09880537, 0.08983227, 0.06357549,\n",
       "       0.07616751, 0.0702546 , 0.05587033, 0.07721165, 0.12314619,\n",
       "       0.07666712, 0.06390479, 0.06352543, 0.06775098, 0.05549126,\n",
       "       0.06410639, 0.05587033, 0.09202232, 0.08082014, 0.15099393,\n",
       "       0.07218936, 0.07127505, 0.12314619, 0.06683289, 0.0654291 ,\n",
       "       0.06273861, 0.05841307, 0.17562203, 0.0763037 , 0.16951065,\n",
       "       0.06205919, 0.08352679, 0.07513861, 0.06354641, 0.05897265,\n",
       "       0.08487169, 0.05841307, 0.05828546, 0.07298817, 0.07626874,\n",
       "       0.07118642, 0.08402641, 0.05587033, 0.07408671, 0.05587033,\n",
       "       0.07099868, 0.058037  , 0.16951065, 0.06683289, 0.11636706,\n",
       "       0.05506388, 0.07611411, 0.06565099, 0.07560463, 0.15822865,\n",
       "       0.06672327, 0.06357549, 0.06785753, 0.05433254, 0.06060464,\n",
       "       0.0638981 , 0.06354641, 0.0633582 , 0.13948987, 0.09530997,\n",
       "       0.05587033, 0.05485231, 0.06158376, 0.07928691, 0.0627135 ,\n",
       "       0.13948987, 0.16260094])"
      ]
     },
     "execution_count": 268,
     "metadata": {},
     "output_type": "execute_result"
    }
   ],
   "source": [
    "y_pred"
   ]
  },
  {
   "cell_type": "code",
   "execution_count": 269,
   "metadata": {},
   "outputs": [],
   "source": [
    "y_pred = y_pred >= 0.5"
   ]
  },
  {
   "cell_type": "code",
   "execution_count": 270,
   "metadata": {},
   "outputs": [
    {
     "name": "stdout",
     "output_type": "stream",
     "text": [
      "0.9124579124579124\n"
     ]
    }
   ],
   "source": [
    "from sklearn.metrics import accuracy_score, confusion_matrix\n",
    "print(accuracy_score(y_test, y_pred))"
   ]
  },
  {
   "cell_type": "code",
   "execution_count": 271,
   "metadata": {},
   "outputs": [
    {
     "name": "stdout",
     "output_type": "stream",
     "text": [
      "             precision    recall  f1-score   support\n",
      "\n",
      "          0       0.91      1.00      0.95       271\n",
      "          1       0.00      0.00      0.00        26\n",
      "\n",
      "avg / total       0.83      0.91      0.87       297\n",
      "\n"
     ]
    },
    {
     "name": "stderr",
     "output_type": "stream",
     "text": [
      "/Users/pierre_pc/anaconda3/lib/python3.6/site-packages/sklearn/metrics/classification.py:1135: UndefinedMetricWarning: Precision and F-score are ill-defined and being set to 0.0 in labels with no predicted samples.\n",
      "  'precision', 'predicted', average, warn_for)\n"
     ]
    }
   ],
   "source": [
    "print(classification_report(y_true=y_test, y_pred=y_pred))"
   ]
  }
 ],
 "metadata": {
  "kernelspec": {
   "display_name": "Python 3",
   "language": "python",
   "name": "python3"
  },
  "language_info": {
   "codemirror_mode": {
    "name": "ipython",
    "version": 3
   },
   "file_extension": ".py",
   "mimetype": "text/x-python",
   "name": "python",
   "nbconvert_exporter": "python",
   "pygments_lexer": "ipython3",
   "version": "3.6.4"
  }
 },
 "nbformat": 4,
 "nbformat_minor": 2
}
