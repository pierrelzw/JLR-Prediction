{
 "cells": [
  {
   "cell_type": "code",
   "execution_count": 29,
   "metadata": {},
   "outputs": [],
   "source": [
    "import numpy as np\n",
    "import pandas as pd\n",
    "from sklearn.model_selection import train_test_split\n",
    "import matplotlib.pyplot as plt\n",
    "from sklearn.svm import SVC\n",
    "from sklearn.metrics import confusion_matrix, classification_report\n",
    "import matplotlib\n",
    "from sklearn.metrics import roc_curve, auc\n",
    "import seaborn as sns\n",
    "\n",
    "import lightgbm as lgb\n",
    "import utils\n",
    "\n",
    "#supression warnings\n",
    "import warnings\n",
    "warnings.filterwarnings('ignore')\n",
    "%matplotlib inline"
   ]
  },
  {
   "cell_type": "markdown",
   "metadata": {},
   "source": [
    "### Load data"
   ]
  },
  {
   "cell_type": "code",
   "execution_count": 30,
   "metadata": {},
   "outputs": [
    {
     "data": {
      "text/html": [
       "<div>\n",
       "<style scoped>\n",
       "    .dataframe tbody tr th:only-of-type {\n",
       "        vertical-align: middle;\n",
       "    }\n",
       "\n",
       "    .dataframe tbody tr th {\n",
       "        vertical-align: top;\n",
       "    }\n",
       "\n",
       "    .dataframe thead th {\n",
       "        text-align: right;\n",
       "    }\n",
       "</style>\n",
       "<table border=\"1\" class=\"dataframe\">\n",
       "  <thead>\n",
       "    <tr style=\"text-align: right;\">\n",
       "      <th></th>\n",
       "      <th>user_id</th>\n",
       "      <th>follow_count</th>\n",
       "      <th>fans_count</th>\n",
       "      <th>gender</th>\n",
       "      <th>birthday</th>\n",
       "      <th>location</th>\n",
       "      <th>level</th>\n",
       "      <th>registration_time</th>\n",
       "      <th>properties</th>\n",
       "      <th>mileage</th>\n",
       "      <th>...</th>\n",
       "      <th>car_friend_zone</th>\n",
       "      <th>label</th>\n",
       "      <th>car_like</th>\n",
       "      <th>excellent_post_count</th>\n",
       "      <th>all_post_count</th>\n",
       "      <th>regis_year</th>\n",
       "      <th>regis_month</th>\n",
       "      <th>regis_day</th>\n",
       "      <th>date</th>\n",
       "      <th>date_delta</th>\n",
       "    </tr>\n",
       "  </thead>\n",
       "  <tbody>\n",
       "    <tr>\n",
       "      <th>0</th>\n",
       "      <td>oden123</td>\n",
       "      <td>0</td>\n",
       "      <td>0</td>\n",
       "      <td>2</td>\n",
       "      <td>NaT</td>\n",
       "      <td>1</td>\n",
       "      <td>1</td>\n",
       "      <td>2018-03-26</td>\n",
       "      <td>1</td>\n",
       "      <td>4430</td>\n",
       "      <td>...</td>\n",
       "      <td>NaN</td>\n",
       "      <td>True</td>\n",
       "      <td>1</td>\n",
       "      <td>0</td>\n",
       "      <td>0</td>\n",
       "      <td>2018</td>\n",
       "      <td>3</td>\n",
       "      <td>3</td>\n",
       "      <td>2018-03-26</td>\n",
       "      <td>4522</td>\n",
       "    </tr>\n",
       "    <tr>\n",
       "      <th>1</th>\n",
       "      <td>生活1934626</td>\n",
       "      <td>2</td>\n",
       "      <td>4</td>\n",
       "      <td>2</td>\n",
       "      <td>NaT</td>\n",
       "      <td>2</td>\n",
       "      <td>1</td>\n",
       "      <td>2012-05-07</td>\n",
       "      <td>1</td>\n",
       "      <td>4270</td>\n",
       "      <td>...</td>\n",
       "      <td>[{'名称': '汽车之家甘肃论坛车友会', '人数': 672, '创建时间': '201...</td>\n",
       "      <td>True</td>\n",
       "      <td>2</td>\n",
       "      <td>0</td>\n",
       "      <td>0</td>\n",
       "      <td>2012</td>\n",
       "      <td>5</td>\n",
       "      <td>5</td>\n",
       "      <td>2012-05-07</td>\n",
       "      <td>2373</td>\n",
       "    </tr>\n",
       "    <tr>\n",
       "      <th>2</th>\n",
       "      <td>wangzi1125</td>\n",
       "      <td>0</td>\n",
       "      <td>1</td>\n",
       "      <td>2</td>\n",
       "      <td>NaT</td>\n",
       "      <td>3</td>\n",
       "      <td>1</td>\n",
       "      <td>2017-06-18</td>\n",
       "      <td>1</td>\n",
       "      <td>2090</td>\n",
       "      <td>...</td>\n",
       "      <td>NaN</td>\n",
       "      <td>True</td>\n",
       "      <td>3</td>\n",
       "      <td>0</td>\n",
       "      <td>1</td>\n",
       "      <td>2017</td>\n",
       "      <td>6</td>\n",
       "      <td>6</td>\n",
       "      <td>2017-06-18</td>\n",
       "      <td>4241</td>\n",
       "    </tr>\n",
       "  </tbody>\n",
       "</table>\n",
       "<p>3 rows × 24 columns</p>\n",
       "</div>"
      ],
      "text/plain": [
       "      user_id  follow_count  fans_count  gender birthday  location  level  \\\n",
       "0     oden123             0           0       2      NaT         1      1   \n",
       "1   生活1934626             2           4       2      NaT         2      1   \n",
       "2  wangzi1125             0           1       2      NaT         3      1   \n",
       "\n",
       "  registration_time  properties  mileage     ...      \\\n",
       "0        2018-03-26           1     4430     ...       \n",
       "1        2012-05-07           1     4270     ...       \n",
       "2        2017-06-18           1     2090     ...       \n",
       "\n",
       "                                     car_friend_zone label car_like  \\\n",
       "0                                                NaN  True        1   \n",
       "1  [{'名称': '汽车之家甘肃论坛车友会', '人数': 672, '创建时间': '201...  True        2   \n",
       "2                                                NaN  True        3   \n",
       "\n",
       "  excellent_post_count all_post_count  regis_year  regis_month  regis_day  \\\n",
       "0                    0              0        2018            3          3   \n",
       "1                    0              0        2012            5          5   \n",
       "2                    0              1        2017            6          6   \n",
       "\n",
       "        date  date_delta  \n",
       "0 2018-03-26        4522  \n",
       "1 2012-05-07        2373  \n",
       "2 2017-06-18        4241  \n",
       "\n",
       "[3 rows x 24 columns]"
      ]
     },
     "execution_count": 30,
     "metadata": {},
     "output_type": "execute_result"
    }
   ],
   "source": [
    "data_path = './data/jlr_all_user_processed.xlsx'\n",
    "df = pd.read_excel(data_path)\n",
    "df.head(3)"
   ]
  },
  {
   "cell_type": "code",
   "execution_count": 31,
   "metadata": {},
   "outputs": [],
   "source": [
    "# df.keys(), df.dtypes"
   ]
  },
  {
   "cell_type": "markdown",
   "metadata": {},
   "source": [
    "### Data choosing  \n",
    "we choose some features to build the machine learning model"
   ]
  },
  {
   "cell_type": "code",
   "execution_count": 32,
   "metadata": {},
   "outputs": [
    {
     "data": {
      "text/html": [
       "<div>\n",
       "<style scoped>\n",
       "    .dataframe tbody tr th:only-of-type {\n",
       "        vertical-align: middle;\n",
       "    }\n",
       "\n",
       "    .dataframe tbody tr th {\n",
       "        vertical-align: top;\n",
       "    }\n",
       "\n",
       "    .dataframe thead th {\n",
       "        text-align: right;\n",
       "    }\n",
       "</style>\n",
       "<table border=\"1\" class=\"dataframe\">\n",
       "  <thead>\n",
       "    <tr style=\"text-align: right;\">\n",
       "      <th></th>\n",
       "      <th>follow_count</th>\n",
       "      <th>fans_count</th>\n",
       "      <th>gender</th>\n",
       "      <th>location</th>\n",
       "      <th>level</th>\n",
       "      <th>properties</th>\n",
       "      <th>mileage</th>\n",
       "      <th>car_like</th>\n",
       "      <th>date_delta</th>\n",
       "    </tr>\n",
       "  </thead>\n",
       "  <tbody>\n",
       "    <tr>\n",
       "      <th>0</th>\n",
       "      <td>0</td>\n",
       "      <td>0</td>\n",
       "      <td>2</td>\n",
       "      <td>1</td>\n",
       "      <td>1</td>\n",
       "      <td>1</td>\n",
       "      <td>4430</td>\n",
       "      <td>1</td>\n",
       "      <td>4522</td>\n",
       "    </tr>\n",
       "    <tr>\n",
       "      <th>1</th>\n",
       "      <td>2</td>\n",
       "      <td>4</td>\n",
       "      <td>2</td>\n",
       "      <td>2</td>\n",
       "      <td>1</td>\n",
       "      <td>1</td>\n",
       "      <td>4270</td>\n",
       "      <td>2</td>\n",
       "      <td>2373</td>\n",
       "    </tr>\n",
       "  </tbody>\n",
       "</table>\n",
       "</div>"
      ],
      "text/plain": [
       "   follow_count  fans_count  gender  location  level  properties  mileage  \\\n",
       "0             0           0       2         1      1           1     4430   \n",
       "1             2           4       2         2      1           1     4270   \n",
       "\n",
       "   car_like  date_delta  \n",
       "0         1        4522  \n",
       "1         2        2373  "
      ]
     },
     "execution_count": 32,
     "metadata": {},
     "output_type": "execute_result"
    }
   ],
   "source": [
    "x = df.drop(columns=[\n",
    "                      'user_id',\n",
    "#                      'follow_count',\n",
    "#                      'fans_count', \n",
    "#                      'gender', \n",
    "                      'birthday',\n",
    "#                      'location',\n",
    "#                      'level',\n",
    "                      'registration_time',\n",
    "#                      'properties',\n",
    "#                      'mileage',\n",
    "                      'post',\n",
    "                      'cars',\n",
    "                      'koubei_post',\n",
    "                      'gas_mileage',\n",
    "                      'car_friend_zone',\n",
    "                      'label',\n",
    "#                      'car_like', \n",
    "                     'excellent_post_count',\n",
    "                     'all_post_count',\n",
    "                      'regis_year',\n",
    "                      'regis_month',\n",
    "                      'regis_day', \n",
    "                      'date',\n",
    "#                      'date_delta'\n",
    "                     ])\n",
    "x.head(2)"
   ]
  },
  {
   "cell_type": "code",
   "execution_count": 33,
   "metadata": {},
   "outputs": [
    {
     "data": {
      "application/vnd.plotly.v1+json": {
       "data": [
        {
         "hoverinfo": "all",
         "labels": [
          false,
          true
         ],
         "marker": {
          "colors": [
           "#96D38C",
           "#FEBFB3"
          ],
          "line": {
           "color": "#fff",
           "width": 2
          }
         },
         "textfont": {
          "size": 12
         },
         "textinfo": "value",
         "type": "pie",
         "uid": "2b97aa7a-a11c-11e8-8c29-6c40089fb510",
         "values": [
          4830,
          725
         ]
        }
       ],
       "layout": {
        "height": 400,
        "title": "label"
       }
      },
      "text/html": [
       "<div id=\"47821caf-0bf3-441d-be54-cc3f9764d133\" style=\"height: 400px; width: 100%;\" class=\"plotly-graph-div\"></div><script type=\"text/javascript\">require([\"plotly\"], function(Plotly) { window.PLOTLYENV=window.PLOTLYENV || {};window.PLOTLYENV.BASE_URL=\"https://plot.ly\";\n",
       "        Plotly.plot(\n",
       "            '47821caf-0bf3-441d-be54-cc3f9764d133',\n",
       "            [{\"hoverinfo\": \"all\", \"labels\": [false, true], \"marker\": {\"colors\": [\"#96D38C\", \"#FEBFB3\"], \"line\": {\"color\": \"#fff\", \"width\": 2}}, \"textfont\": {\"size\": 12}, \"textinfo\": \"value\", \"values\": [4830.0, 725.0], \"type\": \"pie\", \"uid\": \"2b97aa7a-a11c-11e8-8c29-6c40089fb510\"}],\n",
       "            {\"height\": 400, \"title\": \"label\"},\n",
       "            {\"showLink\": true, \"linkText\": \"Export to plot.ly\"}\n",
       "        ).then(function () {return Plotly.addFrames('47821caf-0bf3-441d-be54-cc3f9764d133',{});}).then(function(){Plotly.animate('47821caf-0bf3-441d-be54-cc3f9764d133');})\n",
       "        });</script>"
      ],
      "text/vnd.plotly.v1+html": [
       "<div id=\"47821caf-0bf3-441d-be54-cc3f9764d133\" style=\"height: 400px; width: 100%;\" class=\"plotly-graph-div\"></div><script type=\"text/javascript\">require([\"plotly\"], function(Plotly) { window.PLOTLYENV=window.PLOTLYENV || {};window.PLOTLYENV.BASE_URL=\"https://plot.ly\";\n",
       "        Plotly.plot(\n",
       "            '47821caf-0bf3-441d-be54-cc3f9764d133',\n",
       "            [{\"hoverinfo\": \"all\", \"labels\": [false, true], \"marker\": {\"colors\": [\"#96D38C\", \"#FEBFB3\"], \"line\": {\"color\": \"#fff\", \"width\": 2}}, \"textfont\": {\"size\": 12}, \"textinfo\": \"value\", \"values\": [4830.0, 725.0], \"type\": \"pie\", \"uid\": \"2b97aa7a-a11c-11e8-8c29-6c40089fb510\"}],\n",
       "            {\"height\": 400, \"title\": \"label\"},\n",
       "            {\"showLink\": true, \"linkText\": \"Export to plot.ly\"}\n",
       "        ).then(function () {return Plotly.addFrames('47821caf-0bf3-441d-be54-cc3f9764d133',{});}).then(function(){Plotly.animate('47821caf-0bf3-441d-be54-cc3f9764d133');})\n",
       "        });</script>"
      ]
     },
     "metadata": {},
     "output_type": "display_data"
    }
   ],
   "source": [
    "y = df['label'].astype('uint8')\n",
    "utils.exploreCat(df, 'label')"
   ]
  },
  {
   "cell_type": "code",
   "execution_count": 34,
   "metadata": {},
   "outputs": [
    {
     "data": {
      "text/plain": [
       "((5555, 9), (5555,))"
      ]
     },
     "execution_count": 34,
     "metadata": {},
     "output_type": "execute_result"
    }
   ],
   "source": [
    "# dataset size\n",
    "_x, _y = np.array(x).astype('int'), np.array(y).astype('int')\n",
    "_x.shape, _y.shape"
   ]
  },
  {
   "cell_type": "markdown",
   "metadata": {},
   "source": [
    "### Split dataset into train/validation/test set\n",
    "train:validation:test = 8:1:1"
   ]
  },
  {
   "cell_type": "code",
   "execution_count": 35,
   "metadata": {},
   "outputs": [],
   "source": [
    "x_train, x_test, y_train, y_test = train_test_split(_x, _y, test_size=0.2,  random_state = 42)\n",
    "x_val, x_test, y_val, y_test = train_test_split(x_test, y_test, test_size=0.5,  random_state = 42)"
   ]
  },
  {
   "cell_type": "code",
   "execution_count": 36,
   "metadata": {},
   "outputs": [
    {
     "name": "stdout",
     "output_type": "stream",
     "text": [
      "(4444, 9) (555, 9) (556, 9)\n"
     ]
    }
   ],
   "source": [
    "print(x_train.shape, x_val.shape, x_test.shape)"
   ]
  },
  {
   "cell_type": "code",
   "execution_count": 37,
   "metadata": {},
   "outputs": [
    {
     "name": "stdout",
     "output_type": "stream",
     "text": [
      "In train set, positive : negative = 578:3866=1:6.688581314878893 \n",
      "In validation set, positive : negative = 67:488=1:7.2835820895522385\n",
      "In test set, positive : negative = 80:476=1:5.95\n"
     ]
    }
   ],
   "source": [
    "# positive/negative propotion in dataset\n",
    "print(\"In train set, positive : negative = {}:{}=1:{} \".format(sum(y_train==1),sum(y_train==0), sum(y_train==0)/sum(y_train==1)))\n",
    "print(\"In validation set, positive : negative = {}:{}=1:{}\".format(sum(y_val==1),sum(y_val==0), sum(y_val==0)/sum(y_val==1)))\n",
    "print(\"In test set, positive : negative = {}:{}=1:{}\".format(sum(y_test==1),sum(y_test==0),sum(y_test==0)/sum(y_test==1)))"
   ]
  },
  {
   "cell_type": "markdown",
   "metadata": {},
   "source": [
    "### Build SVM model then train with above dataset"
   ]
  },
  {
   "cell_type": "code",
   "execution_count": 38,
   "metadata": {},
   "outputs": [],
   "source": [
    "clf = SVC(C=0.8, kernel='rbf', class_weight='balanced')"
   ]
  },
  {
   "cell_type": "code",
   "execution_count": 39,
   "metadata": {},
   "outputs": [
    {
     "data": {
      "text/plain": [
       "SVC(C=0.8, cache_size=200, class_weight='balanced', coef0=0.0,\n",
       "  decision_function_shape='ovr', degree=3, gamma='auto', kernel='rbf',\n",
       "  max_iter=-1, probability=False, random_state=None, shrinking=True,\n",
       "  tol=0.001, verbose=False)"
      ]
     },
     "execution_count": 39,
     "metadata": {},
     "output_type": "execute_result"
    }
   ],
   "source": [
    "clf.fit(x_train, y_train)"
   ]
  },
  {
   "cell_type": "code",
   "execution_count": 40,
   "metadata": {},
   "outputs": [],
   "source": [
    "pred = clf.predict(x_test)"
   ]
  },
  {
   "cell_type": "code",
   "execution_count": 41,
   "metadata": {},
   "outputs": [
    {
     "name": "stdout",
     "output_type": "stream",
     "text": [
      "             precision    recall  f1-score   support\n",
      "\n",
      "          0       0.85      0.92      0.88       476\n",
      "          1       0.03      0.01      0.02        80\n",
      "\n",
      "avg / total       0.73      0.79      0.76       556\n",
      "\n"
     ]
    }
   ],
   "source": [
    "print(classification_report(y_true=y_test, y_pred=pred))"
   ]
  },
  {
   "cell_type": "markdown",
   "metadata": {},
   "source": [
    "### Build lightgbm model and train with above dataset"
   ]
  },
  {
   "cell_type": "code",
   "execution_count": 70,
   "metadata": {},
   "outputs": [],
   "source": [
    "# Lightgbm dataset construction\n",
    "\n",
    "# train_data = lgb.Dataset(x_train, label=y_train)\n",
    "# val_data = lgb.Dataset(x_val, label=y_val)\n",
    "# test_data = lgb.Dataset(x_test, label = y_test)\n",
    "\n",
    "feature_name = list(x.keys())\n",
    "categorical_feature = [\n",
    "#                        'gender',\n",
    "                       'location',\n",
    "#                        'level', \n",
    "#                        'properties', \n",
    "                       'car_like',\n",
    "                     #'regis_year', 'regis_month', 'regis_day',\n",
    "                                            ]\n",
    "train_data = lgb.Dataset(x_train, \n",
    "                         label=y_train,\n",
    "                         feature_name=feature_name,\n",
    "                         categorical_feature=categorical_feature,\n",
    "                        )\n",
    "val_data = lgb.Dataset(x_val, \n",
    "                       label=y_val,\n",
    "                       feature_name=feature_name,\n",
    "                       categorical_feature=categorical_feature,\n",
    "                      )\n",
    "test_data = lgb.Dataset(x_test, \n",
    "                        label = y_test,\n",
    "                        feature_name=feature_name,\n",
    "                        categorical_feature=categorical_feature,\n",
    "                       )\n",
    "# feature_name, categorical_feature"
   ]
  },
  {
   "cell_type": "markdown",
   "metadata": {},
   "source": [
    "#### Setting parameters"
   ]
  },
  {
   "cell_type": "code",
   "execution_count": 71,
   "metadata": {},
   "outputs": [
    {
     "name": "stdout",
     "output_type": "stream",
     "text": [
      "Hyper-parameters:\n",
      "{'boosting_type': 'gbdt', 'objective': 'binary', 'metric': ['binary_logloss', 'auc'], 'learning_rate': 0.3, 'num_leaves': 14, 'max_depth': 6, 'min_data_in_leaf': 45, 'feature_fraction': 0.9206327447185456, 'bagging_fraction': 0.9323782991511523, 'bagging_freq': 1, 'lambda_l1': 11.85652887077195, 'lambda_l2': 97495.32750022646, 'min_gain_to_split': 0.0, 'min_sum_hessian_in_leaf': 0.1, 'num_threads': 16, 'verbose': 0, 'is_training_metric': 'True'}\n"
     ]
    }
   ],
   "source": [
    "# para searching\n",
    "params = {\n",
    "    'boosting_type': 'gbdt',  # np.random.choice(['dart', 'gbdt']),\n",
    "    'objective': 'binary',\n",
    "    'metric': ['binary_logloss', 'auc'], \n",
    "    \n",
    "    'learning_rate': 0.30,\n",
    "    \n",
    "    'num_leaves': np.random.randint(10,15),\n",
    "    'max_depth': np.random.randint(5,10),\n",
    "    \n",
    "    'min_data_in_leaf': int(2 ** (np.random.rand()*1.3+ 5)),\n",
    "    \n",
    "    'feature_fraction': np.random.rand()*0.35+0.65,\n",
    "    'bagging_fraction': np.random.rand()*0.35+0.65,\n",
    "    'bagging_freq': 1,\n",
    "    \n",
    "    'lambda_l1': 10 ** (np.random.rand() * 4),\n",
    "    'lambda_l2': 10 ** (np.random.rand() * 3 + 2),\n",
    "    'min_gain_to_split': 0.0,\n",
    "    'min_sum_hessian_in_leaf': 0.1,\n",
    "    \n",
    "    'num_threads': 16,\n",
    "    'verbose': 0,\n",
    "    'is_training_metric': 'True'\n",
    "}\n",
    "print('Hyper-parameters:')\n",
    "print(params)"
   ]
  },
  {
   "cell_type": "code",
   "execution_count": 72,
   "metadata": {},
   "outputs": [],
   "source": [
    "# params={'boosting_type': 'gbdt',\n",
    "#         'objective': 'binary',\n",
    "#         'metric': ['binary_logloss', 'auc'],\n",
    "#         'learning_rate': 0.35,\n",
    "#         'num_leaves': 10,\n",
    "#         'max_depth': 9,\n",
    "#         'min_data_in_leaf': 100,\n",
    "#         'feature_fraction': 0.8815622868115178,\n",
    "#         'bagging_fraction': 0.8390135637666467, \n",
    "#         'bagging_freq': 1, \n",
    "#         'lambda_l1': 31.388095945215674,\n",
    "#         'lambda_l2': 9057.459915710713,\n",
    "#         'min_gain_to_split': 0.0,\n",
    "#         'min_sum_hessian_in_leaf': 0.1, \n",
    "#         'num_threads': 16, 'verbose': 0,\n",
    "#         'is_training_metric': 'True'}"
   ]
  },
  {
   "cell_type": "code",
   "execution_count": 73,
   "metadata": {},
   "outputs": [],
   "source": [
    "# params = {'boosting_type': 'gbdt', 'objective': 'binary', 'metric': ['binary_logloss', 'auc'], 'learning_rate': 0.35, 'num_leaves': 16, 'max_depth': 7, 'min_data_in_leaf': 45, 'feature_fraction': 0.7185404231822985, 'bagging_fraction': 0.7205070834554599, 'bagging_freq': 1, 'lambda_l1': 2.3982232376696975, 'lambda_l2': 23817.54011963604, 'min_gain_to_split': 0.0, 'min_sum_hessian_in_leaf': 0.1, 'num_threads': 16, 'verbose': 0, 'is_training_metric': 'True'}"
   ]
  },
  {
   "cell_type": "code",
   "execution_count": 74,
   "metadata": {},
   "outputs": [],
   "source": [
    "# overfitting\n",
    "# params = {'boosting_type': 'gbdt', 'objective': 'binary', 'metric': ['binary_logloss', 'auc'], 'learning_rate': 0.3, 'num_leaves': 20, 'max_depth': 5, 'min_data_in_leaf': 62, 'feature_fraction': 0.9079492643684466, 'bagging_fraction': 0.8039025289297772, 'bagging_freq': 1, 'lambda_l1': 4543.382789170155, 'lambda_l2': 35404.71015167793, 'min_gain_to_split': 0.0, 'min_sum_hessian_in_leaf': 0.1, 'num_threads': 16, 'verbose': 0, 'is_training_metric': 'True'}"
   ]
  },
  {
   "cell_type": "markdown",
   "metadata": {},
   "source": [
    "#### Training "
   ]
  },
  {
   "cell_type": "code",
   "execution_count": 75,
   "metadata": {},
   "outputs": [
    {
     "name": "stdout",
     "output_type": "stream",
     "text": [
      "Training until validation scores don't improve for 3000 rounds.\n",
      "[100]\ttrain's auc: 0.782659\ttrain's binary_logloss: 0.381859\tvalid's auc: 0.724599\tvalid's binary_logloss: 0.36511\n",
      "[200]\ttrain's auc: 0.782963\ttrain's binary_logloss: 0.377534\tvalid's auc: 0.722672\tvalid's binary_logloss: 0.36179\n",
      "[300]\ttrain's auc: 0.784457\ttrain's binary_logloss: 0.373655\tvalid's auc: 0.720348\tvalid's binary_logloss: 0.35891\n",
      "[400]\ttrain's auc: 0.786553\ttrain's binary_logloss: 0.370042\tvalid's auc: 0.71729\tvalid's binary_logloss: 0.356283\n",
      "[500]\ttrain's auc: 0.788801\ttrain's binary_logloss: 0.366712\tvalid's auc: 0.715424\tvalid's binary_logloss: 0.353987\n",
      "[600]\ttrain's auc: 0.79002\ttrain's binary_logloss: 0.363629\tvalid's auc: 0.712641\tvalid's binary_logloss: 0.351898\n",
      "[700]\ttrain's auc: 0.791728\ttrain's binary_logloss: 0.360735\tvalid's auc: 0.711127\tvalid's binary_logloss: 0.350029\n",
      "[800]\ttrain's auc: 0.792655\ttrain's binary_logloss: 0.358049\tvalid's auc: 0.711478\tvalid's binary_logloss: 0.348309\n",
      "[900]\ttrain's auc: 0.793138\ttrain's binary_logloss: 0.355581\tvalid's auc: 0.710546\tvalid's binary_logloss: 0.346816\n",
      "[1000]\ttrain's auc: 0.794899\ttrain's binary_logloss: 0.353272\tvalid's auc: 0.712213\tvalid's binary_logloss: 0.345452\n",
      "[1100]\ttrain's auc: 0.796173\ttrain's binary_logloss: 0.35112\tvalid's auc: 0.71209\tvalid's binary_logloss: 0.344174\n",
      "[1200]\ttrain's auc: 0.79682\ttrain's binary_logloss: 0.349019\tvalid's auc: 0.710439\tvalid's binary_logloss: 0.342964\n",
      "[1300]\ttrain's auc: 0.797721\ttrain's binary_logloss: 0.347061\tvalid's auc: 0.709965\tvalid's binary_logloss: 0.34184\n",
      "[1400]\ttrain's auc: 0.798459\ttrain's binary_logloss: 0.345182\tvalid's auc: 0.709322\tvalid's binary_logloss: 0.340781\n",
      "[1500]\ttrain's auc: 0.79905\ttrain's binary_logloss: 0.343416\tvalid's auc: 0.709445\tvalid's binary_logloss: 0.339806\n",
      "[1600]\ttrain's auc: 0.800214\ttrain's binary_logloss: 0.341732\tvalid's auc: 0.709261\tvalid's binary_logloss: 0.338856\n",
      "[1700]\ttrain's auc: 0.801116\ttrain's binary_logloss: 0.340143\tvalid's auc: 0.709705\tvalid's binary_logloss: 0.337972\n",
      "[1800]\ttrain's auc: 0.802023\ttrain's binary_logloss: 0.338627\tvalid's auc: 0.711264\tvalid's binary_logloss: 0.337114\n",
      "[1900]\ttrain's auc: 0.802675\ttrain's binary_logloss: 0.337203\tvalid's auc: 0.71154\tvalid's binary_logloss: 0.336317\n",
      "[2000]\ttrain's auc: 0.803541\ttrain's binary_logloss: 0.335856\tvalid's auc: 0.712243\tvalid's binary_logloss: 0.335558\n",
      "[2100]\ttrain's auc: 0.80436\ttrain's binary_logloss: 0.334563\tvalid's auc: 0.713252\tvalid's binary_logloss: 0.334814\n",
      "[2200]\ttrain's auc: 0.805216\ttrain's binary_logloss: 0.333343\tvalid's auc: 0.713833\tvalid's binary_logloss: 0.334138\n",
      "[2300]\ttrain's auc: 0.806087\ttrain's binary_logloss: 0.332166\tvalid's auc: 0.714124\tvalid's binary_logloss: 0.333505\n",
      "[2400]\ttrain's auc: 0.806674\ttrain's binary_logloss: 0.331058\tvalid's auc: 0.714919\tvalid's binary_logloss: 0.332901\n",
      "[2500]\ttrain's auc: 0.807193\ttrain's binary_logloss: 0.329983\tvalid's auc: 0.716418\tvalid's binary_logloss: 0.332285\n",
      "[2600]\ttrain's auc: 0.807819\ttrain's binary_logloss: 0.328942\tvalid's auc: 0.717198\tvalid's binary_logloss: 0.331721\n",
      "[2700]\ttrain's auc: 0.808637\ttrain's binary_logloss: 0.327962\tvalid's auc: 0.718024\tvalid's binary_logloss: 0.331173\n",
      "[2800]\ttrain's auc: 0.809465\ttrain's binary_logloss: 0.32701\tvalid's auc: 0.718788\tvalid's binary_logloss: 0.330656\n",
      "[2900]\ttrain's auc: 0.810233\ttrain's binary_logloss: 0.326092\tvalid's auc: 0.719553\tvalid's binary_logloss: 0.330177\n",
      "[3000]\ttrain's auc: 0.810933\ttrain's binary_logloss: 0.325209\tvalid's auc: 0.720057\tvalid's binary_logloss: 0.329686\n",
      "[3100]\ttrain's auc: 0.811446\ttrain's binary_logloss: 0.324363\tvalid's auc: 0.720914\tvalid's binary_logloss: 0.329229\n",
      "Early stopping, best iteration is:\n",
      "[107]\ttrain's auc: 0.782428\ttrain's binary_logloss: 0.381521\tvalid's auc: 0.72463\tvalid's binary_logloss: 0.364843\n"
     ]
    }
   ],
   "source": [
    "evals_result = {}  # dict to store evaluation results of all the items in `valid_sets`\n",
    "\n",
    "gbm = lgb.train(params, \n",
    "                train_data, \n",
    "                num_boost_round=10000, \n",
    "                valid_sets=[train_data, val_data], \n",
    "                valid_names = ['train', 'valid'], \n",
    "                evals_result=evals_result, \n",
    "                early_stopping_rounds=3000, \n",
    "                verbose_eval=100)"
   ]
  },
  {
   "cell_type": "code",
   "execution_count": 76,
   "metadata": {},
   "outputs": [
    {
     "data": {
      "image/png": "[encoded data removed]",
      "text/plain": [
       "<matplotlib.figure.Figure at 0x11489b080>"
      ]
     },
     "metadata": {},
     "output_type": "display_data"
    }
   ],
   "source": [
    "train_auc_log = evals_result['train']['binary_logloss']\n",
    "# type(train_auc_log)\n",
    "# len(train_auc_log)\n",
    "val_auc_log = evals_result['valid']['binary_logloss']\n",
    "\n",
    "# plot training logs\n",
    "plt.figure()\n",
    "plt.rcParams['savefig.dpi'] = 50 #图片像素\n",
    "plt.rcParams['figure.dpi'] = 100 #分辨率\n",
    "lw = 2\n",
    "plt.plot(range(len(train_auc_log)),train_auc_log, color='darkorange',\n",
    "         lw=lw, label=\"train's binary_logloss\")\n",
    "plt.plot(range(len(val_auc_log)),val_auc_log, color='blue',\n",
    "         lw=lw, label=\"valid's binary_logloss\")\n",
    "plt.xlabel('Boost round')\n",
    "plt.ylabel(\"Valid's binary_logloss\")\n",
    "plt.title('Loss')\n",
    "plt.legend(loc=\"lower right\")\n",
    "plt.show()"
   ]
  },
  {
   "cell_type": "code",
   "execution_count": 77,
   "metadata": {},
   "outputs": [],
   "source": [
    "# save best round results to csv\n",
    "bst_round = np.argmax(evals_result['valid']['auc'])\n",
    "trn_auc = evals_result['train']['auc'][bst_round]\n",
    "trn_loss = evals_result['train']['binary_logloss'][bst_round]\n",
    "val_auc = evals_result['valid']['auc'][bst_round]\n",
    "val_loss = evals_result['valid']['binary_logloss'][bst_round]"
   ]
  },
  {
   "cell_type": "code",
   "execution_count": 78,
   "metadata": {},
   "outputs": [
    {
     "name": "stdout",
     "output_type": "stream",
     "text": [
      "Best Round: 106\n",
      "Training loss: 0.38152, Validation loss: 0.36484\n",
      "Training AUC : 0.78243, Validation AUC : 0.72463\n",
      "Save model to file: ./models/trn_auc0.782_val_auc0.724.txt\n"
     ]
    }
   ],
   "source": [
    "print('Best Round: %d'%bst_round)\n",
    "print('Training loss: %.5f, Validation loss: %.5f'%(trn_loss, val_loss))\n",
    "print('Training AUC : %.5f, Validation AUC : %.5f'%(trn_auc, val_auc))\n",
    "\n",
    "# save model to file\n",
    "model_save_path = './models/trn_auc' + str(trn_auc)[:5] + '_' + 'val_auc' + str(val_auc)[:5] + '.txt'\n",
    "print('Save model to file: {}'.format(model_save_path))\n",
    "gbm.save_model(model_save_path)"
   ]
  },
  {
   "cell_type": "code",
   "execution_count": 79,
   "metadata": {},
   "outputs": [
    {
     "data": {
      "image/png": "[encoded data removed]",
      "text/plain": [
       "<matplotlib.figure.Figure at 0x1148267b8>"
      ]
     },
     "metadata": {},
     "output_type": "display_data"
    }
   ],
   "source": [
    "feature_importance = pd.DataFrame({'name':gbm.feature_name(), 'importance':gbm.feature_importance()}).sort_values(by='importance', ascending=False)\n",
    "feature_importance.to_csv('./feat_importance.csv', index=False)\n",
    "# fig = matplotlib.pyplot.gcf()\n",
    "# fig.set_size_inches(15, 5)\n",
    "plt.rcParams['savefig.dpi'] = 50 #图片像素\n",
    "plt.rcParams['figure.dpi'] = 200 #分辨率\n",
    "feature_importance.plot(x='name', y='importance',kind='barh')\n",
    "# plt.savefig('plot123_2.png', dpi=300) \n",
    "plt.show()"
   ]
  },
  {
   "cell_type": "markdown",
   "metadata": {},
   "source": [
    "#### Using best model for Testing "
   ]
  },
  {
   "cell_type": "code",
   "execution_count": 80,
   "metadata": {},
   "outputs": [
    {
     "name": "stdout",
     "output_type": "stream",
     "text": [
      "Load model to predict\n",
      "num_y_pred_1:num_y_pred_0 =0:556 \n",
      "             precision    recall  f1-score   support\n",
      "\n",
      "          0       0.86      1.00      0.92       476\n",
      "          1       0.00      0.00      0.00        80\n",
      "\n",
      "avg / total       0.73      0.86      0.79       556\n",
      "\n",
      "roc_auc:  0.5\n"
     ]
    },
    {
     "data": {
      "image/png": "[encoded data removed]",
      "text/plain": [
       "<matplotlib.figure.Figure at 0x116ff6940>"
      ]
     },
     "metadata": {},
     "output_type": "display_data"
    }
   ],
   "source": [
    "# load model to predict\n",
    "print('Load model to predict')\n",
    "gbm = lgb.Booster(model_file=model_save_path)\n",
    "                  \n",
    "y_pred = gbm.predict(x_test)\n",
    "# print(y_pred[:10])\n",
    "\n",
    "y_pred = y_pred >= 0.5\n",
    "# print(y_pred[:10])\n",
    "\n",
    "from sklearn.metrics import accuracy_score, confusion_matrix\n",
    "# print(accuracy_score(y_test, y_pred))\n",
    "print(\"num_y_pred_1:num_y_pred_0 ={}:{} \".format(sum(y_pred==1), sum(y_pred==0)))\n",
    "print(classification_report(y_true=y_test, y_pred=y_pred))\n",
    "\n",
    "# AUC \n",
    "fpr, tpr,_ = roc_curve(y_test, y_pred)\n",
    "roc_auc = auc(fpr, tpr)\n",
    "print(\"roc_auc: \",roc_auc)\n",
    "\n",
    "# plot ROC\n",
    "plt.figure()\n",
    "plt.rcParams['savefig.dpi'] = 50 #图片像素\n",
    "plt.rcParams['figure.dpi'] = 100 #分辨率\n",
    "lw = 2\n",
    "plt.plot(fpr, tpr, color='darkorange',\n",
    "         lw=lw, label='ROC curve (area = %0.2f)' % roc_auc)\n",
    "plt.plot([0, 1], [0, 1], color='navy', lw=lw, linestyle='--')\n",
    "plt.xlim([0.0, 1.0])\n",
    "plt.ylim([0.0, 1.05])\n",
    "plt.xlabel('False Positive Rate')\n",
    "plt.ylabel('True Positive Rate')\n",
    "plt.title('ROC')\n",
    "plt.legend(loc=\"lower right\")\n",
    "plt.show()"
   ]
  },
  {
   "cell_type": "code",
   "execution_count": null,
   "metadata": {},
   "outputs": [],
   "source": []
  }
 ],
 "metadata": {
  "kernelspec": {
   "display_name": "Python 3",
   "language": "python",
   "name": "python3"
  },
  "language_info": {
   "codemirror_mode": {
    "name": "ipython",
    "version": 3
   },
   "file_extension": ".py",
   "mimetype": "text/x-python",
   "name": "python",
   "nbconvert_exporter": "python",
   "pygments_lexer": "ipython3",
   "version": "3.6.4"
  }
 },
 "nbformat": 4,
 "nbformat_minor": 2
}
