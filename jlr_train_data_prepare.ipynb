{
 "cells": [
  {
   "cell_type": "code",
   "execution_count": 34,
   "metadata": {},
   "outputs": [],
   "source": [
    "import os\n",
    "import numpy as np\n",
    "import pandas as pd\n",
    "import matplotlib\n",
    "import matplotlib.pyplot as plt\n",
    "\n",
    "import config as cfg\n",
    "import utils\n",
    "\n",
    "%matplotlib inline "
   ]
  },
  {
   "cell_type": "markdown",
   "metadata": {},
   "source": [
    "## Read in data"
   ]
  },
  {
   "cell_type": "code",
   "execution_count": 35,
   "metadata": {},
   "outputs": [
    {
     "data": {
      "text/plain": [
       "['口碑 路虎 总.xlsx',\n",
       " 'luhu_comments.xlsx',\n",
       " '路虎口碑所有用户.xlsx',\n",
       " '.DS_Store',\n",
       " '路虎口碑用户.xlsx',\n",
       " '路虎车商城.xlsx',\n",
       " 'luhu_koubei_user.xlsx',\n",
       " '路虎口碑用户-1.xlsx',\n",
       " '捷豹车商城.xlsx',\n",
       " '路虎口碑评论人.xlsx',\n",
       " '~$捷豹口碑用户.xlsx',\n",
       " '捷豹口碑用户.xlsx',\n",
       " '路虎帖子评论人.xlsx',\n",
       " 'luhu_comment_user.xlsx',\n",
       " '口碑 捷豹 评论.xlsx',\n",
       " 'jiebao_user_koubei.xlsx',\n",
       " 'luhu_all_user_0.xlsx',\n",
       " '.ipynb_checkpoints',\n",
       " '路虎口碑评论人-1.xlsx',\n",
       " 'jiebao_all_user_0.xlsx',\n",
       " 'jiebao_all_user_processed.xlsx',\n",
       " '捷豹口碑评论人.xlsx',\n",
       " '口碑 路虎 评论.xlsx',\n",
       " '~$路虎口碑所有用户.xlsx',\n",
       " 'jlr_all_user_processed.xlsx',\n",
       " '口碑 捷豹 总 252.xlsx',\n",
       " 'luhu_all_user_1.xlsx']"
      ]
     },
     "execution_count": 35,
     "metadata": {},
     "output_type": "execute_result"
    }
   ],
   "source": [
    "os.listdir('./data')"
   ]
  },
  {
   "cell_type": "code",
   "execution_count": 36,
   "metadata": {},
   "outputs": [],
   "source": [
    "jiepao_path = './data/jiebao_all_user_0.xlsx'\n",
    "luhu_path = './data/luhu_all_user_1.xlsx'\n",
    "jiepao_df = pd.read_excel(jiepao_path)\n",
    "luhu_df = pd.read_excel(luhu_path)"
   ]
  },
  {
   "cell_type": "code",
   "execution_count": 37,
   "metadata": {},
   "outputs": [
    {
     "name": "stdout",
     "output_type": "stream",
     "text": [
      "[ True  True  True  True  True  True  True  True  True  True  True  True\n",
      "  True  True  True  True  True  True  True]\n"
     ]
    }
   ],
   "source": [
    "print(jiepao_df.keys() == luhu_df.keys())"
   ]
  },
  {
   "cell_type": "code",
   "execution_count": 38,
   "metadata": {},
   "outputs": [
    {
     "name": "stdout",
     "output_type": "stream",
     "text": [
      "(2981, 19) (2574, 19) (5555, 19)\n"
     ]
    }
   ],
   "source": [
    "jlr_df = jiepao_df.append(luhu_df)\n",
    "print(jiepao_df.shape, luhu_df.shape, jlr_df.shape)\n",
    "\n",
    "jlr_df.to_excel('jiebao_luhu_all_use.xlsx', encoding='utf-8')"
   ]
  },
  {
   "cell_type": "markdown",
   "metadata": {},
   "source": [
    "### Frature engineering"
   ]
  },
  {
   "cell_type": "code",
   "execution_count": 39,
   "metadata": {},
   "outputs": [
    {
     "name": "stdout",
     "output_type": "stream",
     "text": [
      "Index(['user_id', 'follow_count', 'fans_count', 'gender', 'birthday',\n",
      "       'location', 'level', 'registration_time', 'properties', 'mileage',\n",
      "       'post', 'cars', 'koubei_post', 'gas_mileage', 'car_friend_zone',\n",
      "       'label', 'car_like', 'excellent_post_count', 'all_post_count'],\n",
      "      dtype='object')\n"
     ]
    },
    {
     "data": {
      "text/html": [
       "<div>\n",
       "<style scoped>\n",
       "    .dataframe tbody tr th:only-of-type {\n",
       "        vertical-align: middle;\n",
       "    }\n",
       "\n",
       "    .dataframe tbody tr th {\n",
       "        vertical-align: top;\n",
       "    }\n",
       "\n",
       "    .dataframe thead th {\n",
       "        text-align: right;\n",
       "    }\n",
       "</style>\n",
       "<table border=\"1\" class=\"dataframe\">\n",
       "  <thead>\n",
       "    <tr style=\"text-align: right;\">\n",
       "      <th></th>\n",
       "      <th>user_id</th>\n",
       "      <th>follow_count</th>\n",
       "      <th>fans_count</th>\n",
       "      <th>gender</th>\n",
       "      <th>birthday</th>\n",
       "      <th>location</th>\n",
       "      <th>level</th>\n",
       "      <th>registration_time</th>\n",
       "      <th>properties</th>\n",
       "      <th>mileage</th>\n",
       "      <th>post</th>\n",
       "      <th>cars</th>\n",
       "      <th>koubei_post</th>\n",
       "      <th>gas_mileage</th>\n",
       "      <th>car_friend_zone</th>\n",
       "      <th>label</th>\n",
       "      <th>car_like</th>\n",
       "      <th>excellent_post_count</th>\n",
       "      <th>all_post_count</th>\n",
       "    </tr>\n",
       "  </thead>\n",
       "  <tbody>\n",
       "    <tr>\n",
       "      <th>0</th>\n",
       "      <td>oden123</td>\n",
       "      <td>0</td>\n",
       "      <td>0</td>\n",
       "      <td>man</td>\n",
       "      <td>NaT</td>\n",
       "      <td>江西 宜春</td>\n",
       "      <td>1</td>\n",
       "      <td>2018-03-26</td>\n",
       "      <td>普通用户</td>\n",
       "      <td>4430</td>\n",
       "      <td>NaN</td>\n",
       "      <td>['捷豹 捷豹XFL 2018款 XFL 2.0T 200PS 精英版']</td>\n",
       "      <td>[{'title': '敲黑板了！2018款xfl精英版2个月的使用感受，要考的', 'ur...</td>\n",
       "      <td>[{'车型': '捷豹 捷豹XFL 2018款 XFL 2.0T 200PS 精英版', '...</td>\n",
       "      <td>NaN</td>\n",
       "      <td>1</td>\n",
       "      <td>宝马5系</td>\n",
       "      <td>0</td>\n",
       "      <td>0</td>\n",
       "    </tr>\n",
       "  </tbody>\n",
       "</table>\n",
       "</div>"
      ],
      "text/plain": [
       "   user_id  follow_count  fans_count gender birthday location  level  \\\n",
       "0  oden123             0           0    man      NaT    江西 宜春      1   \n",
       "\n",
       "  registration_time properties  mileage post  \\\n",
       "0        2018-03-26       普通用户     4430  NaN   \n",
       "\n",
       "                                    cars  \\\n",
       "0  ['捷豹 捷豹XFL 2018款 XFL 2.0T 200PS 精英版']   \n",
       "\n",
       "                                         koubei_post  \\\n",
       "0  [{'title': '敲黑板了！2018款xfl精英版2个月的使用感受，要考的', 'ur...   \n",
       "\n",
       "                                         gas_mileage car_friend_zone  label  \\\n",
       "0  [{'车型': '捷豹 捷豹XFL 2018款 XFL 2.0T 200PS 精英版', '...             NaN      1   \n",
       "\n",
       "  car_like  excellent_post_count  all_post_count  \n",
       "0     宝马5系                     0               0  "
      ]
     },
     "execution_count": 39,
     "metadata": {},
     "output_type": "execute_result"
    }
   ],
   "source": [
    "print(jlr_df.keys())\n",
    "jlr_df.head(1)"
   ]
  },
  {
   "cell_type": "markdown",
   "metadata": {},
   "source": []
  },
  {
   "cell_type": "code",
   "execution_count": 40,
   "metadata": {},
   "outputs": [],
   "source": [
    "X = jlr_df.copy()\n",
    "# X = jlr_df.drop(columns=['user_id',\n",
    "#                          'birthday',\n",
    "#                          'post', \n",
    "#                          'cars',\n",
    "#                          'koubei_post',\n",
    "#                          'car_friend_zone',\n",
    "#                               ])\n",
    "# Y = list(jlr_df['label'])"
   ]
  },
  {
   "cell_type": "code",
   "execution_count": 41,
   "metadata": {},
   "outputs": [
    {
     "data": {
      "text/plain": [
       "array(['普通用户', '关禁闭', 'SLS赛威论坛版主', '捷豹F-PACE论坛版主', '编辑', '捷豹XF/XFL论坛版主',\n",
       "       'YARiS L 致炫论坛版主', '宝马i3论坛版主', '大7 SUV论坛版主', '神行者2论坛版主'],\n",
       "      dtype=object)"
      ]
     },
     "execution_count": 41,
     "metadata": {},
     "output_type": "execute_result"
    }
   ],
   "source": [
    "# X.location.unique()\n",
    "# X.car_like.unique()\n",
    "X.properties.unique()"
   ]
  },
  {
   "cell_type": "code",
   "execution_count": 42,
   "metadata": {},
   "outputs": [],
   "source": [
    "X['follow_count'] = X['follow_count'].astype('uint16')\n",
    "X['fans_count'] = X['fans_count'].astype('uint16')"
   ]
  },
  {
   "cell_type": "code",
   "execution_count": 43,
   "metadata": {},
   "outputs": [],
   "source": [
    "X['gender'] = X.apply (lambda row: utils.gender2bool(row), axis=1)\n",
    "X['gender'] = X['gender'].astype('uint8')"
   ]
  },
  {
   "cell_type": "code",
   "execution_count": 44,
   "metadata": {},
   "outputs": [],
   "source": [
    "X['location'] = X.apply (lambda row: utils.loc2value(row), axis=1)\n",
    "X['location'] = X['location'].astype('uint16')"
   ]
  },
  {
   "cell_type": "code",
   "execution_count": 45,
   "metadata": {},
   "outputs": [
    {
     "data": {
      "text/plain": [
       "array([1, 2, 3, 4, 5, 6], dtype=uint64)"
      ]
     },
     "execution_count": 45,
     "metadata": {},
     "output_type": "execute_result"
    }
   ],
   "source": [
    "X['level'] = X['level'].astype('uint8')\n",
    "X.level.unique()"
   ]
  },
  {
   "cell_type": "code",
   "execution_count": 46,
   "metadata": {},
   "outputs": [],
   "source": [
    "X['regis_year'] = X['registration_time'].dt.year.astype('uint16')\n",
    "X['regis_month'] = X['registration_time'].dt.month.astype('uint8')\n",
    "X['regis_day'] = X['registration_time'].dt.month.astype('uint8')"
   ]
  },
  {
   "cell_type": "code",
   "execution_count": 56,
   "metadata": {},
   "outputs": [],
   "source": [
    "X['date'] = pd.to_datetime(X['registration_time'])    \n",
    "X['date_delta'] = (X['date'] - X['date'].min())  / np.timedelta64(1,'D')"
   ]
  },
  {
   "cell_type": "code",
   "execution_count": 57,
   "metadata": {},
   "outputs": [
    {
     "name": "stdout",
     "output_type": "stream",
     "text": [
      "['2000-01-01']\n",
      "2018-03-26\n",
      "[6659 4510 6378]\n"
     ]
    }
   ],
   "source": [
    "a = np.array(['2000-01-01'], dtype='M8[D]')\n",
    "print(a)\n",
    "b = np.array(X.registration_time, dtype='M8[D]')\n",
    "print(b[0])\n",
    "relative_time = b - a\n",
    "print(relative_time[:3])"
   ]
  },
  {
   "cell_type": "code",
   "execution_count": 58,
   "metadata": {},
   "outputs": [],
   "source": [
    "X['regis_time_relative'] = pd.Series(data=relative_time,)"
   ]
  },
  {
   "cell_type": "code",
   "execution_count": 60,
   "metadata": {},
   "outputs": [],
   "source": [
    "# Group year and month as feature\n",
    "# X['year_month'] = pd.to_datetime(X[['regis_day','regis_month','regis_year']])"
   ]
  },
  {
   "cell_type": "code",
   "execution_count": 61,
   "metadata": {},
   "outputs": [
    {
     "data": {
      "text/plain": [
       "Timedelta('6659 days 00:00:00')"
      ]
     },
     "execution_count": 61,
     "metadata": {},
     "output_type": "execute_result"
    }
   ],
   "source": [
    "X.regis_time_relative.iloc[0]"
   ]
  },
  {
   "cell_type": "code",
   "execution_count": 62,
   "metadata": {},
   "outputs": [
    {
     "data": {
      "text/plain": [
       "array([5753376, 3896640, 5510592, ..., 5223744, 5760288, 5349024],\n",
       "      dtype='timedelta64[ns]')"
      ]
     },
     "execution_count": 62,
     "metadata": {},
     "output_type": "execute_result"
    }
   ],
   "source": [
    "np.array(X['regis_time_relative'])/(10.**11)"
   ]
  },
  {
   "cell_type": "code",
   "execution_count": 63,
   "metadata": {},
   "outputs": [],
   "source": [
    "X['properties'] = X.apply(lambda row: utils.property2value(row), axis=1)\n",
    "X['properties'] = X['properties'].astype('uint8')\n",
    "#new_df.head()"
   ]
  },
  {
   "cell_type": "code",
   "execution_count": 64,
   "metadata": {},
   "outputs": [],
   "source": [
    "X['car_like'] = X.apply(lambda row: utils.cars_like2value(row), axis=1)\n",
    "X['car_like'] = X['car_like'].astype('uint16')"
   ]
  },
  {
   "cell_type": "code",
   "execution_count": 65,
   "metadata": {},
   "outputs": [],
   "source": [
    "X['excellent_post_count'] = X['excellent_post_count'].astype('uint16')\n",
    "X['all_post_count'] = X['all_post_count'].astype('uint16')"
   ]
  },
  {
   "cell_type": "code",
   "execution_count": 66,
   "metadata": {},
   "outputs": [],
   "source": [
    "X['label'] = X['label'].astype('bool')"
   ]
  },
  {
   "cell_type": "code",
   "execution_count": 67,
   "metadata": {},
   "outputs": [],
   "source": [
    "X.to_excel('./data/jlr_all_user_processed.xlsx', encoding='utf-8')"
   ]
  },
  {
   "cell_type": "code",
   "execution_count": 68,
   "metadata": {},
   "outputs": [
    {
     "data": {
      "text/html": [
       "<div>\n",
       "<style scoped>\n",
       "    .dataframe tbody tr th:only-of-type {\n",
       "        vertical-align: middle;\n",
       "    }\n",
       "\n",
       "    .dataframe tbody tr th {\n",
       "        vertical-align: top;\n",
       "    }\n",
       "\n",
       "    .dataframe thead th {\n",
       "        text-align: right;\n",
       "    }\n",
       "</style>\n",
       "<table border=\"1\" class=\"dataframe\">\n",
       "  <thead>\n",
       "    <tr style=\"text-align: right;\">\n",
       "      <th></th>\n",
       "      <th>user_id</th>\n",
       "      <th>follow_count</th>\n",
       "      <th>fans_count</th>\n",
       "      <th>gender</th>\n",
       "      <th>birthday</th>\n",
       "      <th>location</th>\n",
       "      <th>level</th>\n",
       "      <th>registration_time</th>\n",
       "      <th>properties</th>\n",
       "      <th>mileage</th>\n",
       "      <th>...</th>\n",
       "      <th>label</th>\n",
       "      <th>car_like</th>\n",
       "      <th>excellent_post_count</th>\n",
       "      <th>all_post_count</th>\n",
       "      <th>regis_year</th>\n",
       "      <th>regis_month</th>\n",
       "      <th>regis_day</th>\n",
       "      <th>regis_time_relative</th>\n",
       "      <th>date</th>\n",
       "      <th>date_delta</th>\n",
       "    </tr>\n",
       "  </thead>\n",
       "  <tbody>\n",
       "    <tr>\n",
       "      <th>0</th>\n",
       "      <td>oden123</td>\n",
       "      <td>0</td>\n",
       "      <td>0</td>\n",
       "      <td>2</td>\n",
       "      <td>NaT</td>\n",
       "      <td>1</td>\n",
       "      <td>1</td>\n",
       "      <td>2018-03-26</td>\n",
       "      <td>1</td>\n",
       "      <td>4430</td>\n",
       "      <td>...</td>\n",
       "      <td>True</td>\n",
       "      <td>1</td>\n",
       "      <td>0</td>\n",
       "      <td>0</td>\n",
       "      <td>2018</td>\n",
       "      <td>3</td>\n",
       "      <td>3</td>\n",
       "      <td>6659 days</td>\n",
       "      <td>2018-03-26</td>\n",
       "      <td>4522.0</td>\n",
       "    </tr>\n",
       "    <tr>\n",
       "      <th>1</th>\n",
       "      <td>生活1934626</td>\n",
       "      <td>2</td>\n",
       "      <td>4</td>\n",
       "      <td>2</td>\n",
       "      <td>NaT</td>\n",
       "      <td>2</td>\n",
       "      <td>1</td>\n",
       "      <td>2012-05-07</td>\n",
       "      <td>1</td>\n",
       "      <td>4270</td>\n",
       "      <td>...</td>\n",
       "      <td>True</td>\n",
       "      <td>2</td>\n",
       "      <td>0</td>\n",
       "      <td>0</td>\n",
       "      <td>2012</td>\n",
       "      <td>5</td>\n",
       "      <td>5</td>\n",
       "      <td>4510 days</td>\n",
       "      <td>2012-05-07</td>\n",
       "      <td>2373.0</td>\n",
       "    </tr>\n",
       "    <tr>\n",
       "      <th>2</th>\n",
       "      <td>wangzi1125</td>\n",
       "      <td>0</td>\n",
       "      <td>1</td>\n",
       "      <td>2</td>\n",
       "      <td>NaT</td>\n",
       "      <td>3</td>\n",
       "      <td>1</td>\n",
       "      <td>2017-06-18</td>\n",
       "      <td>1</td>\n",
       "      <td>2090</td>\n",
       "      <td>...</td>\n",
       "      <td>True</td>\n",
       "      <td>3</td>\n",
       "      <td>0</td>\n",
       "      <td>1</td>\n",
       "      <td>2017</td>\n",
       "      <td>6</td>\n",
       "      <td>6</td>\n",
       "      <td>6378 days</td>\n",
       "      <td>2017-06-18</td>\n",
       "      <td>4241.0</td>\n",
       "    </tr>\n",
       "    <tr>\n",
       "      <th>3</th>\n",
       "      <td>房产专家谢广财</td>\n",
       "      <td>3</td>\n",
       "      <td>2</td>\n",
       "      <td>2</td>\n",
       "      <td>NaT</td>\n",
       "      <td>4</td>\n",
       "      <td>1</td>\n",
       "      <td>2014-02-27</td>\n",
       "      <td>1</td>\n",
       "      <td>1120</td>\n",
       "      <td>...</td>\n",
       "      <td>True</td>\n",
       "      <td>4</td>\n",
       "      <td>0</td>\n",
       "      <td>0</td>\n",
       "      <td>2014</td>\n",
       "      <td>2</td>\n",
       "      <td>2</td>\n",
       "      <td>5171 days</td>\n",
       "      <td>2014-02-27</td>\n",
       "      <td>3034.0</td>\n",
       "    </tr>\n",
       "    <tr>\n",
       "      <th>4</th>\n",
       "      <td>南宫晗笑</td>\n",
       "      <td>4</td>\n",
       "      <td>5</td>\n",
       "      <td>2</td>\n",
       "      <td>NaT</td>\n",
       "      <td>5</td>\n",
       "      <td>1</td>\n",
       "      <td>2017-07-03</td>\n",
       "      <td>1</td>\n",
       "      <td>740</td>\n",
       "      <td>...</td>\n",
       "      <td>True</td>\n",
       "      <td>1</td>\n",
       "      <td>0</td>\n",
       "      <td>14</td>\n",
       "      <td>2017</td>\n",
       "      <td>7</td>\n",
       "      <td>7</td>\n",
       "      <td>6393 days</td>\n",
       "      <td>2017-07-03</td>\n",
       "      <td>4256.0</td>\n",
       "    </tr>\n",
       "  </tbody>\n",
       "</table>\n",
       "<p>5 rows × 25 columns</p>\n",
       "</div>"
      ],
      "text/plain": [
       "      user_id  follow_count  fans_count  gender birthday  location  level  \\\n",
       "0     oden123             0           0       2      NaT         1      1   \n",
       "1   生活1934626             2           4       2      NaT         2      1   \n",
       "2  wangzi1125             0           1       2      NaT         3      1   \n",
       "3     房产专家谢广财             3           2       2      NaT         4      1   \n",
       "4        南宫晗笑             4           5       2      NaT         5      1   \n",
       "\n",
       "  registration_time  properties  mileage     ...     label car_like  \\\n",
       "0        2018-03-26           1     4430     ...      True        1   \n",
       "1        2012-05-07           1     4270     ...      True        2   \n",
       "2        2017-06-18           1     2090     ...      True        3   \n",
       "3        2014-02-27           1     1120     ...      True        4   \n",
       "4        2017-07-03           1      740     ...      True        1   \n",
       "\n",
       "  excellent_post_count all_post_count regis_year  regis_month  regis_day  \\\n",
       "0                    0              0       2018            3          3   \n",
       "1                    0              0       2012            5          5   \n",
       "2                    0              1       2017            6          6   \n",
       "3                    0              0       2014            2          2   \n",
       "4                    0             14       2017            7          7   \n",
       "\n",
       "   regis_time_relative       date  date_delta  \n",
       "0            6659 days 2018-03-26      4522.0  \n",
       "1            4510 days 2012-05-07      2373.0  \n",
       "2            6378 days 2017-06-18      4241.0  \n",
       "3            5171 days 2014-02-27      3034.0  \n",
       "4            6393 days 2017-07-03      4256.0  \n",
       "\n",
       "[5 rows x 25 columns]"
      ]
     },
     "execution_count": 68,
     "metadata": {},
     "output_type": "execute_result"
    }
   ],
   "source": [
    "X.head()"
   ]
  },
  {
   "cell_type": "code",
   "execution_count": null,
   "metadata": {},
   "outputs": [],
   "source": []
  }
 ],
 "metadata": {
  "kernelspec": {
   "display_name": "Python 3",
   "language": "python",
   "name": "python3"
  },
  "language_info": {
   "codemirror_mode": {
    "name": "ipython",
    "version": 3
   },
   "file_extension": ".py",
   "mimetype": "text/x-python",
   "name": "python",
   "nbconvert_exporter": "python",
   "pygments_lexer": "ipython3",
   "version": "3.6.4"
  }
 },
 "nbformat": 4,
 "nbformat_minor": 2
}
